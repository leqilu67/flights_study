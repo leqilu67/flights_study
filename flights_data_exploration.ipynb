{
 "cells": [
  {
   "cell_type": "markdown",
   "metadata": {
    "slideshow": {
     "slide_type": "slide"
    }
   },
   "source": [
    "# Best Time to Fly To Minimize Delayed Arrivals\n",
    "## by Leqi Lu\n",
    "\n",
    "## Preliminary Wrangling\n",
    "\n",
    "This document explores a dataset containing flight arrival and departure details for all commercial flights within the USA, from October 1987 to April 2008. "
   ]
  },
  {
   "cell_type": "code",
   "execution_count": 1,
   "metadata": {
    "slideshow": {
     "slide_type": "skip"
    }
   },
   "outputs": [],
   "source": [
    "# import all packages and set plots to be embedded inline\n",
    "import numpy as np\n",
    "import pandas as pd\n",
    "import matplotlib.pyplot as plt\n",
    "import seaborn as sb\n",
    "\n",
    "%matplotlib inline"
   ]
  },
  {
   "cell_type": "code",
   "execution_count": 2,
   "metadata": {
    "slideshow": {
     "slide_type": "skip"
    }
   },
   "outputs": [
    {
     "name": "stdout",
     "output_type": "stream",
     "text": [
      "['1987.csv', '1988.csv', '1989.csv', '1990.csv', '1991.csv', '1992.csv', '1993.csv', '1994.csv', '1995.csv', '1996.csv', '1997.csv', '1998.csv', '1999.csv', '2000.csv', '2001.csv', '2002.csv', '2003.csv', '2004.csv', '2005.csv', '2006.csv', '2007.csv', '2008.csv']\n"
     ]
    }
   ],
   "source": [
    "# retrieve names of all the csv files \n",
    "import os\n",
    "import re\n",
    "\n",
    "pattern = '\\d+.csv'\n",
    "csv_files = [x for x in os.listdir() if re.match(pattern, x)]\n",
    "print(csv_files)"
   ]
  },
  {
   "cell_type": "code",
   "execution_count": 3,
   "metadata": {
    "slideshow": {
     "slide_type": "skip"
    }
   },
   "outputs": [],
   "source": [
    "def load_data(filenames, flights_sample):\n",
    "    '''sample 10000 entries from each year's data \n",
    "       and load all the sampled data into flights_sample'''\n",
    "    for filename in filenames:\n",
    "        print(filename)\n",
    "        df = pd.read_csv(filename, low_memory=False)\n",
    "        df_sample = df.sample(10000, random_state=67)\n",
    "        flights_sample = pd.concat([flights_sample, df_sample], axis=0)\n",
    "        flights_sample.reset_index(drop=True, inplace=True)\n",
    "        del df\n",
    "    return flights_sample"
   ]
  },
  {
   "cell_type": "code",
   "execution_count": 4,
   "metadata": {
    "slideshow": {
     "slide_type": "skip"
    }
   },
   "outputs": [
    {
     "name": "stdout",
     "output_type": "stream",
     "text": [
      "1987.csv\n",
      "1988.csv\n",
      "1989.csv\n",
      "1990.csv\n",
      "1991.csv\n",
      "1992.csv\n",
      "1993.csv\n",
      "1994.csv\n",
      "1995.csv\n",
      "1996.csv\n",
      "1997.csv\n",
      "1998.csv\n",
      "1999.csv\n",
      "2000.csv\n",
      "2001.csv\n",
      "2002.csv\n",
      "2003.csv\n",
      "2004.csv\n",
      "2005.csv\n",
      "2006.csv\n",
      "2007.csv\n",
      "2008.csv\n"
     ]
    }
   ],
   "source": [
    "flights_sample_original = pd.DataFrame()\n",
    "flights_sample_original = load_data(csv_files, flights_sample_original)"
   ]
  },
  {
   "cell_type": "code",
   "execution_count": 5,
   "metadata": {
    "slideshow": {
     "slide_type": "skip"
    }
   },
   "outputs": [
    {
     "name": "stdout",
     "output_type": "stream",
     "text": [
      "(220000, 29)\n"
     ]
    },
    {
     "data": {
      "text/html": [
       "<div>\n",
       "<style scoped>\n",
       "    .dataframe tbody tr th:only-of-type {\n",
       "        vertical-align: middle;\n",
       "    }\n",
       "\n",
       "    .dataframe tbody tr th {\n",
       "        vertical-align: top;\n",
       "    }\n",
       "\n",
       "    .dataframe thead th {\n",
       "        text-align: right;\n",
       "    }\n",
       "</style>\n",
       "<table border=\"1\" class=\"dataframe\">\n",
       "  <thead>\n",
       "    <tr style=\"text-align: right;\">\n",
       "      <th></th>\n",
       "      <th>Year</th>\n",
       "      <th>Month</th>\n",
       "      <th>DayofMonth</th>\n",
       "      <th>DayOfWeek</th>\n",
       "      <th>DepTime</th>\n",
       "      <th>CRSDepTime</th>\n",
       "      <th>ArrTime</th>\n",
       "      <th>CRSArrTime</th>\n",
       "      <th>UniqueCarrier</th>\n",
       "      <th>FlightNum</th>\n",
       "      <th>...</th>\n",
       "      <th>TaxiIn</th>\n",
       "      <th>TaxiOut</th>\n",
       "      <th>Cancelled</th>\n",
       "      <th>CancellationCode</th>\n",
       "      <th>Diverted</th>\n",
       "      <th>CarrierDelay</th>\n",
       "      <th>WeatherDelay</th>\n",
       "      <th>NASDelay</th>\n",
       "      <th>SecurityDelay</th>\n",
       "      <th>LateAircraftDelay</th>\n",
       "    </tr>\n",
       "  </thead>\n",
       "  <tbody>\n",
       "    <tr>\n",
       "      <th>0</th>\n",
       "      <td>1987</td>\n",
       "      <td>12</td>\n",
       "      <td>2</td>\n",
       "      <td>3</td>\n",
       "      <td>1945.0</td>\n",
       "      <td>1945</td>\n",
       "      <td>2050.0</td>\n",
       "      <td>2045</td>\n",
       "      <td>NW</td>\n",
       "      <td>976</td>\n",
       "      <td>...</td>\n",
       "      <td>NaN</td>\n",
       "      <td>NaN</td>\n",
       "      <td>0</td>\n",
       "      <td>NaN</td>\n",
       "      <td>0</td>\n",
       "      <td>NaN</td>\n",
       "      <td>NaN</td>\n",
       "      <td>NaN</td>\n",
       "      <td>NaN</td>\n",
       "      <td>NaN</td>\n",
       "    </tr>\n",
       "    <tr>\n",
       "      <th>1</th>\n",
       "      <td>1987</td>\n",
       "      <td>11</td>\n",
       "      <td>23</td>\n",
       "      <td>1</td>\n",
       "      <td>1029.0</td>\n",
       "      <td>1030</td>\n",
       "      <td>1500.0</td>\n",
       "      <td>1527</td>\n",
       "      <td>CO</td>\n",
       "      <td>524</td>\n",
       "      <td>...</td>\n",
       "      <td>NaN</td>\n",
       "      <td>NaN</td>\n",
       "      <td>0</td>\n",
       "      <td>NaN</td>\n",
       "      <td>0</td>\n",
       "      <td>NaN</td>\n",
       "      <td>NaN</td>\n",
       "      <td>NaN</td>\n",
       "      <td>NaN</td>\n",
       "      <td>NaN</td>\n",
       "    </tr>\n",
       "    <tr>\n",
       "      <th>2</th>\n",
       "      <td>1987</td>\n",
       "      <td>12</td>\n",
       "      <td>7</td>\n",
       "      <td>1</td>\n",
       "      <td>702.0</td>\n",
       "      <td>704</td>\n",
       "      <td>934.0</td>\n",
       "      <td>930</td>\n",
       "      <td>UA</td>\n",
       "      <td>360</td>\n",
       "      <td>...</td>\n",
       "      <td>NaN</td>\n",
       "      <td>NaN</td>\n",
       "      <td>0</td>\n",
       "      <td>NaN</td>\n",
       "      <td>0</td>\n",
       "      <td>NaN</td>\n",
       "      <td>NaN</td>\n",
       "      <td>NaN</td>\n",
       "      <td>NaN</td>\n",
       "      <td>NaN</td>\n",
       "    </tr>\n",
       "    <tr>\n",
       "      <th>3</th>\n",
       "      <td>1987</td>\n",
       "      <td>10</td>\n",
       "      <td>8</td>\n",
       "      <td>4</td>\n",
       "      <td>629.0</td>\n",
       "      <td>630</td>\n",
       "      <td>945.0</td>\n",
       "      <td>948</td>\n",
       "      <td>UA</td>\n",
       "      <td>680</td>\n",
       "      <td>...</td>\n",
       "      <td>NaN</td>\n",
       "      <td>NaN</td>\n",
       "      <td>0</td>\n",
       "      <td>NaN</td>\n",
       "      <td>0</td>\n",
       "      <td>NaN</td>\n",
       "      <td>NaN</td>\n",
       "      <td>NaN</td>\n",
       "      <td>NaN</td>\n",
       "      <td>NaN</td>\n",
       "    </tr>\n",
       "    <tr>\n",
       "      <th>4</th>\n",
       "      <td>1987</td>\n",
       "      <td>10</td>\n",
       "      <td>26</td>\n",
       "      <td>1</td>\n",
       "      <td>715.0</td>\n",
       "      <td>715</td>\n",
       "      <td>747.0</td>\n",
       "      <td>750</td>\n",
       "      <td>HP</td>\n",
       "      <td>1025</td>\n",
       "      <td>...</td>\n",
       "      <td>NaN</td>\n",
       "      <td>NaN</td>\n",
       "      <td>0</td>\n",
       "      <td>NaN</td>\n",
       "      <td>0</td>\n",
       "      <td>NaN</td>\n",
       "      <td>NaN</td>\n",
       "      <td>NaN</td>\n",
       "      <td>NaN</td>\n",
       "      <td>NaN</td>\n",
       "    </tr>\n",
       "    <tr>\n",
       "      <th>5</th>\n",
       "      <td>1987</td>\n",
       "      <td>11</td>\n",
       "      <td>11</td>\n",
       "      <td>3</td>\n",
       "      <td>730.0</td>\n",
       "      <td>719</td>\n",
       "      <td>845.0</td>\n",
       "      <td>828</td>\n",
       "      <td>AA</td>\n",
       "      <td>1003</td>\n",
       "      <td>...</td>\n",
       "      <td>NaN</td>\n",
       "      <td>NaN</td>\n",
       "      <td>0</td>\n",
       "      <td>NaN</td>\n",
       "      <td>0</td>\n",
       "      <td>NaN</td>\n",
       "      <td>NaN</td>\n",
       "      <td>NaN</td>\n",
       "      <td>NaN</td>\n",
       "      <td>NaN</td>\n",
       "    </tr>\n",
       "    <tr>\n",
       "      <th>6</th>\n",
       "      <td>1987</td>\n",
       "      <td>11</td>\n",
       "      <td>3</td>\n",
       "      <td>2</td>\n",
       "      <td>1800.0</td>\n",
       "      <td>1800</td>\n",
       "      <td>1934.0</td>\n",
       "      <td>1918</td>\n",
       "      <td>AA</td>\n",
       "      <td>2154</td>\n",
       "      <td>...</td>\n",
       "      <td>NaN</td>\n",
       "      <td>NaN</td>\n",
       "      <td>0</td>\n",
       "      <td>NaN</td>\n",
       "      <td>0</td>\n",
       "      <td>NaN</td>\n",
       "      <td>NaN</td>\n",
       "      <td>NaN</td>\n",
       "      <td>NaN</td>\n",
       "      <td>NaN</td>\n",
       "    </tr>\n",
       "    <tr>\n",
       "      <th>7</th>\n",
       "      <td>1987</td>\n",
       "      <td>11</td>\n",
       "      <td>4</td>\n",
       "      <td>3</td>\n",
       "      <td>1234.0</td>\n",
       "      <td>1234</td>\n",
       "      <td>1329.0</td>\n",
       "      <td>1338</td>\n",
       "      <td>EA</td>\n",
       "      <td>554</td>\n",
       "      <td>...</td>\n",
       "      <td>NaN</td>\n",
       "      <td>NaN</td>\n",
       "      <td>0</td>\n",
       "      <td>NaN</td>\n",
       "      <td>0</td>\n",
       "      <td>NaN</td>\n",
       "      <td>NaN</td>\n",
       "      <td>NaN</td>\n",
       "      <td>NaN</td>\n",
       "      <td>NaN</td>\n",
       "    </tr>\n",
       "    <tr>\n",
       "      <th>8</th>\n",
       "      <td>1987</td>\n",
       "      <td>10</td>\n",
       "      <td>16</td>\n",
       "      <td>5</td>\n",
       "      <td>1626.0</td>\n",
       "      <td>1628</td>\n",
       "      <td>1653.0</td>\n",
       "      <td>1654</td>\n",
       "      <td>UA</td>\n",
       "      <td>248</td>\n",
       "      <td>...</td>\n",
       "      <td>NaN</td>\n",
       "      <td>NaN</td>\n",
       "      <td>0</td>\n",
       "      <td>NaN</td>\n",
       "      <td>0</td>\n",
       "      <td>NaN</td>\n",
       "      <td>NaN</td>\n",
       "      <td>NaN</td>\n",
       "      <td>NaN</td>\n",
       "      <td>NaN</td>\n",
       "    </tr>\n",
       "    <tr>\n",
       "      <th>9</th>\n",
       "      <td>1987</td>\n",
       "      <td>10</td>\n",
       "      <td>5</td>\n",
       "      <td>1</td>\n",
       "      <td>2137.0</td>\n",
       "      <td>2135</td>\n",
       "      <td>2221.0</td>\n",
       "      <td>2220</td>\n",
       "      <td>US</td>\n",
       "      <td>190</td>\n",
       "      <td>...</td>\n",
       "      <td>NaN</td>\n",
       "      <td>NaN</td>\n",
       "      <td>0</td>\n",
       "      <td>NaN</td>\n",
       "      <td>0</td>\n",
       "      <td>NaN</td>\n",
       "      <td>NaN</td>\n",
       "      <td>NaN</td>\n",
       "      <td>NaN</td>\n",
       "      <td>NaN</td>\n",
       "    </tr>\n",
       "  </tbody>\n",
       "</table>\n",
       "<p>10 rows × 29 columns</p>\n",
       "</div>"
      ],
      "text/plain": [
       "   Year  Month  DayofMonth  DayOfWeek  DepTime  CRSDepTime  ArrTime  \\\n",
       "0  1987     12           2          3   1945.0        1945   2050.0   \n",
       "1  1987     11          23          1   1029.0        1030   1500.0   \n",
       "2  1987     12           7          1    702.0         704    934.0   \n",
       "3  1987     10           8          4    629.0         630    945.0   \n",
       "4  1987     10          26          1    715.0         715    747.0   \n",
       "5  1987     11          11          3    730.0         719    845.0   \n",
       "6  1987     11           3          2   1800.0        1800   1934.0   \n",
       "7  1987     11           4          3   1234.0        1234   1329.0   \n",
       "8  1987     10          16          5   1626.0        1628   1653.0   \n",
       "9  1987     10           5          1   2137.0        2135   2221.0   \n",
       "\n",
       "   CRSArrTime UniqueCarrier  FlightNum  ... TaxiIn  TaxiOut  Cancelled  \\\n",
       "0        2045            NW        976  ...    NaN      NaN          0   \n",
       "1        1527            CO        524  ...    NaN      NaN          0   \n",
       "2         930            UA        360  ...    NaN      NaN          0   \n",
       "3         948            UA        680  ...    NaN      NaN          0   \n",
       "4         750            HP       1025  ...    NaN      NaN          0   \n",
       "5         828            AA       1003  ...    NaN      NaN          0   \n",
       "6        1918            AA       2154  ...    NaN      NaN          0   \n",
       "7        1338            EA        554  ...    NaN      NaN          0   \n",
       "8        1654            UA        248  ...    NaN      NaN          0   \n",
       "9        2220            US        190  ...    NaN      NaN          0   \n",
       "\n",
       "   CancellationCode  Diverted  CarrierDelay WeatherDelay NASDelay  \\\n",
       "0               NaN         0           NaN          NaN      NaN   \n",
       "1               NaN         0           NaN          NaN      NaN   \n",
       "2               NaN         0           NaN          NaN      NaN   \n",
       "3               NaN         0           NaN          NaN      NaN   \n",
       "4               NaN         0           NaN          NaN      NaN   \n",
       "5               NaN         0           NaN          NaN      NaN   \n",
       "6               NaN         0           NaN          NaN      NaN   \n",
       "7               NaN         0           NaN          NaN      NaN   \n",
       "8               NaN         0           NaN          NaN      NaN   \n",
       "9               NaN         0           NaN          NaN      NaN   \n",
       "\n",
       "   SecurityDelay  LateAircraftDelay  \n",
       "0            NaN                NaN  \n",
       "1            NaN                NaN  \n",
       "2            NaN                NaN  \n",
       "3            NaN                NaN  \n",
       "4            NaN                NaN  \n",
       "5            NaN                NaN  \n",
       "6            NaN                NaN  \n",
       "7            NaN                NaN  \n",
       "8            NaN                NaN  \n",
       "9            NaN                NaN  \n",
       "\n",
       "[10 rows x 29 columns]"
      ]
     },
     "execution_count": 5,
     "metadata": {},
     "output_type": "execute_result"
    }
   ],
   "source": [
    "# overview of data shape \n",
    "print(flights_sample_original.shape)\n",
    "flights_sample_original.head(10)"
   ]
  },
  {
   "cell_type": "code",
   "execution_count": 6,
   "metadata": {
    "slideshow": {
     "slide_type": "skip"
    }
   },
   "outputs": [
    {
     "name": "stdout",
     "output_type": "stream",
     "text": [
      "                Year          Month     DayofMonth      DayOfWeek  \\\n",
      "count  220000.000000  220000.000000  220000.000000  220000.000000   \n",
      "mean     1997.500000       6.709682      15.723418       3.939432   \n",
      "std         6.344303       3.482753       8.790665       1.988839   \n",
      "min      1987.000000       1.000000       1.000000       1.000000   \n",
      "25%      1992.000000       4.000000       8.000000       2.000000   \n",
      "50%      1997.500000       7.000000      16.000000       4.000000   \n",
      "75%      2003.000000      10.000000      23.000000       6.000000   \n",
      "max      2008.000000      12.000000      31.000000       7.000000   \n",
      "\n",
      "             DepTime     CRSDepTime        ArrTime     CRSArrTime  \\\n",
      "count  215926.000000  220000.000000  215403.000000  220000.000000   \n",
      "mean     1350.489872    1335.937777    1492.877787    1489.631664   \n",
      "std       477.584184     477.340890     499.386176     494.750638   \n",
      "min         1.000000       0.000000       1.000000       0.000000   \n",
      "25%       934.000000     930.000000    1116.000000    1115.000000   \n",
      "50%      1334.000000    1328.000000    1521.000000    1520.000000   \n",
      "75%      1740.000000    1730.000000    1917.000000    1912.000000   \n",
      "max      2500.000000    2359.000000    2633.000000    2400.000000   \n",
      "\n",
      "           FlightNum  ActualElapsedTime  ...       Distance         TaxiIn  \\\n",
      "count  220000.000000      215398.000000  ...  219584.000000  139761.000000   \n",
      "mean     1268.925877         118.928286  ...     695.797572       6.377494   \n",
      "std      1306.982115          68.459745  ...     550.690369      21.165284   \n",
      "min         1.000000           8.000000  ...      11.000000       0.000000   \n",
      "25%       432.000000          69.000000  ...     304.000000       4.000000   \n",
      "50%       882.000000         100.000000  ...     533.000000       5.000000   \n",
      "75%      1626.000000         150.000000  ...     931.000000       7.000000   \n",
      "max      9584.000000         666.000000  ...    4983.000000    1452.000000   \n",
      "\n",
      "             TaxiOut      Cancelled       Diverted  CarrierDelay  \\\n",
      "count  139778.000000  220000.000000  220000.000000  47989.000000   \n",
      "mean       15.126436       0.018518       0.002400      3.508387   \n",
      "std        10.721717       0.134816       0.048931     18.428845   \n",
      "min         0.000000       0.000000       0.000000      0.000000   \n",
      "25%        10.000000       0.000000       0.000000      0.000000   \n",
      "50%        13.000000       0.000000       0.000000      0.000000   \n",
      "75%        18.000000       0.000000       0.000000      0.000000   \n",
      "max       308.000000       1.000000       1.000000    987.000000   \n",
      "\n",
      "       WeatherDelay      NASDelay  SecurityDelay  LateAircraftDelay  \n",
      "count  47989.000000  47989.000000   47989.000000       47989.000000  \n",
      "mean       0.843006      4.144429       0.024777           4.746025  \n",
      "std       10.364797     16.382974       0.995212          20.304376  \n",
      "min        0.000000      0.000000       0.000000           0.000000  \n",
      "25%        0.000000      0.000000       0.000000           0.000000  \n",
      "50%        0.000000      0.000000       0.000000           0.000000  \n",
      "75%        0.000000      0.000000       0.000000           0.000000  \n",
      "max      683.000000    336.000000      93.000000         397.000000  \n",
      "\n",
      "[8 rows x 24 columns]\n"
     ]
    }
   ],
   "source": [
    "# descriptive statistics for numeric variables\n",
    "print(flights_sample_original.describe())"
   ]
  },
  {
   "cell_type": "code",
   "execution_count": 7,
   "metadata": {
    "scrolled": false,
    "slideshow": {
     "slide_type": "skip"
    }
   },
   "outputs": [
    {
     "name": "stdout",
     "output_type": "stream",
     "text": [
      "<class 'pandas.core.frame.DataFrame'>\n",
      "RangeIndex: 220000 entries, 0 to 219999\n",
      "Data columns (total 29 columns):\n",
      " #   Column             Non-Null Count   Dtype  \n",
      "---  ------             --------------   -----  \n",
      " 0   Year               220000 non-null  int64  \n",
      " 1   Month              220000 non-null  int64  \n",
      " 2   DayofMonth         220000 non-null  int64  \n",
      " 3   DayOfWeek          220000 non-null  int64  \n",
      " 4   DepTime            215926 non-null  float64\n",
      " 5   CRSDepTime         220000 non-null  int64  \n",
      " 6   ArrTime            215403 non-null  float64\n",
      " 7   CRSArrTime         220000 non-null  int64  \n",
      " 8   UniqueCarrier      220000 non-null  object \n",
      " 9   FlightNum          220000 non-null  int64  \n",
      " 10  TailNum            139765 non-null  object \n",
      " 11  ActualElapsedTime  215398 non-null  float64\n",
      " 12  CRSElapsedTime     219957 non-null  float64\n",
      " 13  AirTime            136659 non-null  float64\n",
      " 14  ArrDelay           215398 non-null  float64\n",
      " 15  DepDelay           215926 non-null  float64\n",
      " 16  Origin             220000 non-null  object \n",
      " 17  Dest               220000 non-null  object \n",
      " 18  Distance           219584 non-null  float64\n",
      " 19  TaxiIn             139761 non-null  float64\n",
      " 20  TaxiOut            139778 non-null  float64\n",
      " 21  Cancelled          220000 non-null  int64  \n",
      " 22  CancellationCode   1088 non-null    object \n",
      " 23  Diverted           220000 non-null  int64  \n",
      " 24  CarrierDelay       47989 non-null   float64\n",
      " 25  WeatherDelay       47989 non-null   float64\n",
      " 26  NASDelay           47989 non-null   float64\n",
      " 27  SecurityDelay      47989 non-null   float64\n",
      " 28  LateAircraftDelay  47989 non-null   float64\n",
      "dtypes: float64(15), int64(9), object(5)\n",
      "memory usage: 48.7+ MB\n"
     ]
    }
   ],
   "source": [
    "# high-level overview of data composition\n",
    "flights_sample_original.info()"
   ]
  },
  {
   "cell_type": "code",
   "execution_count": 8,
   "metadata": {
    "slideshow": {
     "slide_type": "skip"
    }
   },
   "outputs": [
    {
     "data": {
      "text/html": [
       "<div>\n",
       "<style scoped>\n",
       "    .dataframe tbody tr th:only-of-type {\n",
       "        vertical-align: middle;\n",
       "    }\n",
       "\n",
       "    .dataframe tbody tr th {\n",
       "        vertical-align: top;\n",
       "    }\n",
       "\n",
       "    .dataframe thead th {\n",
       "        text-align: right;\n",
       "    }\n",
       "</style>\n",
       "<table border=\"1\" class=\"dataframe\">\n",
       "  <thead>\n",
       "    <tr style=\"text-align: right;\">\n",
       "      <th></th>\n",
       "      <th>Year</th>\n",
       "      <th>Month</th>\n",
       "      <th>DayofMonth</th>\n",
       "      <th>DayOfWeek</th>\n",
       "      <th>DepTime</th>\n",
       "      <th>CRSDepTime</th>\n",
       "      <th>ArrTime</th>\n",
       "      <th>CRSArrTime</th>\n",
       "      <th>UniqueCarrier</th>\n",
       "      <th>FlightNum</th>\n",
       "      <th>...</th>\n",
       "      <th>TaxiIn</th>\n",
       "      <th>TaxiOut</th>\n",
       "      <th>Cancelled</th>\n",
       "      <th>CancellationCode</th>\n",
       "      <th>Diverted</th>\n",
       "      <th>CarrierDelay</th>\n",
       "      <th>WeatherDelay</th>\n",
       "      <th>NASDelay</th>\n",
       "      <th>SecurityDelay</th>\n",
       "      <th>LateAircraftDelay</th>\n",
       "    </tr>\n",
       "  </thead>\n",
       "  <tbody>\n",
       "    <tr>\n",
       "      <th>130229</th>\n",
       "      <td>2000</td>\n",
       "      <td>8</td>\n",
       "      <td>8</td>\n",
       "      <td>2</td>\n",
       "      <td>614.0</td>\n",
       "      <td>615</td>\n",
       "      <td>758.0</td>\n",
       "      <td>801</td>\n",
       "      <td>NW</td>\n",
       "      <td>1751</td>\n",
       "      <td>...</td>\n",
       "      <td>6.0</td>\n",
       "      <td>11.0</td>\n",
       "      <td>0</td>\n",
       "      <td>NaN</td>\n",
       "      <td>0</td>\n",
       "      <td>NaN</td>\n",
       "      <td>NaN</td>\n",
       "      <td>NaN</td>\n",
       "      <td>NaN</td>\n",
       "      <td>NaN</td>\n",
       "    </tr>\n",
       "    <tr>\n",
       "      <th>176452</th>\n",
       "      <td>2004</td>\n",
       "      <td>9</td>\n",
       "      <td>12</td>\n",
       "      <td>7</td>\n",
       "      <td>1725.0</td>\n",
       "      <td>1730</td>\n",
       "      <td>1826.0</td>\n",
       "      <td>1841</td>\n",
       "      <td>EV</td>\n",
       "      <td>4200</td>\n",
       "      <td>...</td>\n",
       "      <td>8.0</td>\n",
       "      <td>8.0</td>\n",
       "      <td>0</td>\n",
       "      <td>NaN</td>\n",
       "      <td>0</td>\n",
       "      <td>0.0</td>\n",
       "      <td>0.0</td>\n",
       "      <td>0.0</td>\n",
       "      <td>0.0</td>\n",
       "      <td>0.0</td>\n",
       "    </tr>\n",
       "    <tr>\n",
       "      <th>173581</th>\n",
       "      <td>2004</td>\n",
       "      <td>7</td>\n",
       "      <td>22</td>\n",
       "      <td>4</td>\n",
       "      <td>1732.0</td>\n",
       "      <td>1735</td>\n",
       "      <td>1812.0</td>\n",
       "      <td>1823</td>\n",
       "      <td>US</td>\n",
       "      <td>994</td>\n",
       "      <td>...</td>\n",
       "      <td>3.0</td>\n",
       "      <td>13.0</td>\n",
       "      <td>0</td>\n",
       "      <td>NaN</td>\n",
       "      <td>0</td>\n",
       "      <td>0.0</td>\n",
       "      <td>0.0</td>\n",
       "      <td>0.0</td>\n",
       "      <td>0.0</td>\n",
       "      <td>0.0</td>\n",
       "    </tr>\n",
       "    <tr>\n",
       "      <th>82725</th>\n",
       "      <td>1995</td>\n",
       "      <td>2</td>\n",
       "      <td>1</td>\n",
       "      <td>3</td>\n",
       "      <td>1442.0</td>\n",
       "      <td>1440</td>\n",
       "      <td>2047.0</td>\n",
       "      <td>2029</td>\n",
       "      <td>US</td>\n",
       "      <td>4</td>\n",
       "      <td>...</td>\n",
       "      <td>7.0</td>\n",
       "      <td>10.0</td>\n",
       "      <td>0</td>\n",
       "      <td>NaN</td>\n",
       "      <td>0</td>\n",
       "      <td>NaN</td>\n",
       "      <td>NaN</td>\n",
       "      <td>NaN</td>\n",
       "      <td>NaN</td>\n",
       "      <td>NaN</td>\n",
       "    </tr>\n",
       "    <tr>\n",
       "      <th>197410</th>\n",
       "      <td>2006</td>\n",
       "      <td>10</td>\n",
       "      <td>12</td>\n",
       "      <td>4</td>\n",
       "      <td>639.0</td>\n",
       "      <td>615</td>\n",
       "      <td>937.0</td>\n",
       "      <td>915</td>\n",
       "      <td>OO</td>\n",
       "      <td>6586</td>\n",
       "      <td>...</td>\n",
       "      <td>4.0</td>\n",
       "      <td>4.0</td>\n",
       "      <td>0</td>\n",
       "      <td>NaN</td>\n",
       "      <td>0</td>\n",
       "      <td>22.0</td>\n",
       "      <td>0.0</td>\n",
       "      <td>0.0</td>\n",
       "      <td>0.0</td>\n",
       "      <td>0.0</td>\n",
       "    </tr>\n",
       "    <tr>\n",
       "      <th>95131</th>\n",
       "      <td>1996</td>\n",
       "      <td>7</td>\n",
       "      <td>23</td>\n",
       "      <td>2</td>\n",
       "      <td>1846.0</td>\n",
       "      <td>1850</td>\n",
       "      <td>1928.0</td>\n",
       "      <td>1940</td>\n",
       "      <td>NW</td>\n",
       "      <td>1186</td>\n",
       "      <td>...</td>\n",
       "      <td>4.0</td>\n",
       "      <td>12.0</td>\n",
       "      <td>0</td>\n",
       "      <td>NaN</td>\n",
       "      <td>0</td>\n",
       "      <td>NaN</td>\n",
       "      <td>NaN</td>\n",
       "      <td>NaN</td>\n",
       "      <td>NaN</td>\n",
       "      <td>NaN</td>\n",
       "    </tr>\n",
       "    <tr>\n",
       "      <th>32518</th>\n",
       "      <td>1990</td>\n",
       "      <td>1</td>\n",
       "      <td>17</td>\n",
       "      <td>3</td>\n",
       "      <td>1442.0</td>\n",
       "      <td>1355</td>\n",
       "      <td>1714.0</td>\n",
       "      <td>1636</td>\n",
       "      <td>AA</td>\n",
       "      <td>352</td>\n",
       "      <td>...</td>\n",
       "      <td>NaN</td>\n",
       "      <td>NaN</td>\n",
       "      <td>0</td>\n",
       "      <td>NaN</td>\n",
       "      <td>0</td>\n",
       "      <td>NaN</td>\n",
       "      <td>NaN</td>\n",
       "      <td>NaN</td>\n",
       "      <td>NaN</td>\n",
       "      <td>NaN</td>\n",
       "    </tr>\n",
       "    <tr>\n",
       "      <th>82376</th>\n",
       "      <td>1995</td>\n",
       "      <td>6</td>\n",
       "      <td>5</td>\n",
       "      <td>1</td>\n",
       "      <td>1750.0</td>\n",
       "      <td>1750</td>\n",
       "      <td>1859.0</td>\n",
       "      <td>1902</td>\n",
       "      <td>HP</td>\n",
       "      <td>212</td>\n",
       "      <td>...</td>\n",
       "      <td>5.0</td>\n",
       "      <td>7.0</td>\n",
       "      <td>0</td>\n",
       "      <td>NaN</td>\n",
       "      <td>0</td>\n",
       "      <td>NaN</td>\n",
       "      <td>NaN</td>\n",
       "      <td>NaN</td>\n",
       "      <td>NaN</td>\n",
       "      <td>NaN</td>\n",
       "    </tr>\n",
       "    <tr>\n",
       "      <th>66142</th>\n",
       "      <td>1993</td>\n",
       "      <td>7</td>\n",
       "      <td>13</td>\n",
       "      <td>2</td>\n",
       "      <td>1010.0</td>\n",
       "      <td>1010</td>\n",
       "      <td>1054.0</td>\n",
       "      <td>1057</td>\n",
       "      <td>AS</td>\n",
       "      <td>61</td>\n",
       "      <td>...</td>\n",
       "      <td>NaN</td>\n",
       "      <td>NaN</td>\n",
       "      <td>0</td>\n",
       "      <td>NaN</td>\n",
       "      <td>0</td>\n",
       "      <td>NaN</td>\n",
       "      <td>NaN</td>\n",
       "      <td>NaN</td>\n",
       "      <td>NaN</td>\n",
       "      <td>NaN</td>\n",
       "    </tr>\n",
       "    <tr>\n",
       "      <th>20724</th>\n",
       "      <td>1989</td>\n",
       "      <td>6</td>\n",
       "      <td>11</td>\n",
       "      <td>7</td>\n",
       "      <td>1325.0</td>\n",
       "      <td>1325</td>\n",
       "      <td>1424.0</td>\n",
       "      <td>1410</td>\n",
       "      <td>AS</td>\n",
       "      <td>92</td>\n",
       "      <td>...</td>\n",
       "      <td>NaN</td>\n",
       "      <td>NaN</td>\n",
       "      <td>0</td>\n",
       "      <td>NaN</td>\n",
       "      <td>0</td>\n",
       "      <td>NaN</td>\n",
       "      <td>NaN</td>\n",
       "      <td>NaN</td>\n",
       "      <td>NaN</td>\n",
       "      <td>NaN</td>\n",
       "    </tr>\n",
       "  </tbody>\n",
       "</table>\n",
       "<p>10 rows × 29 columns</p>\n",
       "</div>"
      ],
      "text/plain": [
       "        Year  Month  DayofMonth  DayOfWeek  DepTime  CRSDepTime  ArrTime  \\\n",
       "130229  2000      8           8          2    614.0         615    758.0   \n",
       "176452  2004      9          12          7   1725.0        1730   1826.0   \n",
       "173581  2004      7          22          4   1732.0        1735   1812.0   \n",
       "82725   1995      2           1          3   1442.0        1440   2047.0   \n",
       "197410  2006     10          12          4    639.0         615    937.0   \n",
       "95131   1996      7          23          2   1846.0        1850   1928.0   \n",
       "32518   1990      1          17          3   1442.0        1355   1714.0   \n",
       "82376   1995      6           5          1   1750.0        1750   1859.0   \n",
       "66142   1993      7          13          2   1010.0        1010   1054.0   \n",
       "20724   1989      6          11          7   1325.0        1325   1424.0   \n",
       "\n",
       "        CRSArrTime UniqueCarrier  FlightNum  ... TaxiIn  TaxiOut  Cancelled  \\\n",
       "130229         801            NW       1751  ...    6.0     11.0          0   \n",
       "176452        1841            EV       4200  ...    8.0      8.0          0   \n",
       "173581        1823            US        994  ...    3.0     13.0          0   \n",
       "82725         2029            US          4  ...    7.0     10.0          0   \n",
       "197410         915            OO       6586  ...    4.0      4.0          0   \n",
       "95131         1940            NW       1186  ...    4.0     12.0          0   \n",
       "32518         1636            AA        352  ...    NaN      NaN          0   \n",
       "82376         1902            HP        212  ...    5.0      7.0          0   \n",
       "66142         1057            AS         61  ...    NaN      NaN          0   \n",
       "20724         1410            AS         92  ...    NaN      NaN          0   \n",
       "\n",
       "        CancellationCode  Diverted  CarrierDelay WeatherDelay NASDelay  \\\n",
       "130229               NaN         0           NaN          NaN      NaN   \n",
       "176452               NaN         0           0.0          0.0      0.0   \n",
       "173581               NaN         0           0.0          0.0      0.0   \n",
       "82725                NaN         0           NaN          NaN      NaN   \n",
       "197410               NaN         0          22.0          0.0      0.0   \n",
       "95131                NaN         0           NaN          NaN      NaN   \n",
       "32518                NaN         0           NaN          NaN      NaN   \n",
       "82376                NaN         0           NaN          NaN      NaN   \n",
       "66142                NaN         0           NaN          NaN      NaN   \n",
       "20724                NaN         0           NaN          NaN      NaN   \n",
       "\n",
       "        SecurityDelay  LateAircraftDelay  \n",
       "130229            NaN                NaN  \n",
       "176452            0.0                0.0  \n",
       "173581            0.0                0.0  \n",
       "82725             NaN                NaN  \n",
       "197410            0.0                0.0  \n",
       "95131             NaN                NaN  \n",
       "32518             NaN                NaN  \n",
       "82376             NaN                NaN  \n",
       "66142             NaN                NaN  \n",
       "20724             NaN                NaN  \n",
       "\n",
       "[10 rows x 29 columns]"
      ]
     },
     "execution_count": 8,
     "metadata": {},
     "output_type": "execute_result"
    }
   ],
   "source": [
    "flights_sample_original.sample(10)"
   ]
  },
  {
   "cell_type": "code",
   "execution_count": 9,
   "metadata": {
    "slideshow": {
     "slide_type": "skip"
    }
   },
   "outputs": [],
   "source": [
    "# dropping less relevant columns\n",
    "flights_sample_original = flights_sample_original.drop(columns=['FlightNum', 'TailNum', 'ActualElapsedTime', 'CRSElapsedTime', 'AirTime',\n",
    "                             'Origin', 'Dest', 'TaxiIn', 'TaxiOut', 'Cancelled', 'CancellationCode', 'Diverted', \n",
    "                             'CarrierDelay', 'WeatherDelay', 'NASDelay', 'SecurityDelay', 'LateAircraftDelay'])"
   ]
  },
  {
   "cell_type": "markdown",
   "metadata": {
    "slideshow": {
     "slide_type": "skip"
    }
   },
   "source": [
    "### Quality\n",
    "\n",
    "- ~Erroneous datatypes (DepTime, CRSDepTime, ArrTime, CRSArrTime, ArrDelay, DepDelay)~\n",
    "- ~Missing information on Deptime, ArrTime, ArrDelay, DepDelay, Distance)~\n",
    "\n",
    "### Tidiness\n",
    "- ~DayofMonth does not follow naming convention~"
   ]
  },
  {
   "cell_type": "code",
   "execution_count": 10,
   "metadata": {
    "slideshow": {
     "slide_type": "skip"
    }
   },
   "outputs": [],
   "source": [
    "flights_sample = flights_sample_original.copy()"
   ]
  },
  {
   "cell_type": "markdown",
   "metadata": {
    "slideshow": {
     "slide_type": "skip"
    }
   },
   "source": [
    "#### DayofMonth does not follow naming convention\n",
    "\n",
    "##### Define\n",
    "Change DayofMonth to DayOfMonth\n",
    "\n",
    "##### Code"
   ]
  },
  {
   "cell_type": "code",
   "execution_count": 11,
   "metadata": {
    "slideshow": {
     "slide_type": "skip"
    }
   },
   "outputs": [],
   "source": [
    "flights_sample = flights_sample.rename(columns={'DayofMonth': 'DayOfMonth'})"
   ]
  },
  {
   "cell_type": "code",
   "execution_count": 12,
   "metadata": {
    "slideshow": {
     "slide_type": "skip"
    }
   },
   "outputs": [
    {
     "name": "stdout",
     "output_type": "stream",
     "text": [
      "<class 'pandas.core.frame.DataFrame'>\n",
      "RangeIndex: 220000 entries, 0 to 219999\n",
      "Data columns (total 12 columns):\n",
      " #   Column         Non-Null Count   Dtype  \n",
      "---  ------         --------------   -----  \n",
      " 0   Year           220000 non-null  int64  \n",
      " 1   Month          220000 non-null  int64  \n",
      " 2   DayOfMonth     220000 non-null  int64  \n",
      " 3   DayOfWeek      220000 non-null  int64  \n",
      " 4   DepTime        215926 non-null  float64\n",
      " 5   CRSDepTime     220000 non-null  int64  \n",
      " 6   ArrTime        215403 non-null  float64\n",
      " 7   CRSArrTime     220000 non-null  int64  \n",
      " 8   UniqueCarrier  220000 non-null  object \n",
      " 9   ArrDelay       215398 non-null  float64\n",
      " 10  DepDelay       215926 non-null  float64\n",
      " 11  Distance       219584 non-null  float64\n",
      "dtypes: float64(5), int64(6), object(1)\n",
      "memory usage: 20.1+ MB\n"
     ]
    }
   ],
   "source": [
    "flights_sample.info()"
   ]
  },
  {
   "cell_type": "markdown",
   "metadata": {
    "slideshow": {
     "slide_type": "skip"
    }
   },
   "source": [
    "#### Missing information on Deptime, ArrTime, ArrDelay, DepDelay, Distance)\n",
    "##### Define\n",
    "Check empty records on Deptime, ArrTime, ArrDelay, DepDelay, Distance and remove/modify as necessary.\n",
    "##### Code"
   ]
  },
  {
   "cell_type": "code",
   "execution_count": 13,
   "metadata": {
    "slideshow": {
     "slide_type": "skip"
    }
   },
   "outputs": [
    {
     "data": {
      "text/html": [
       "<div>\n",
       "<style scoped>\n",
       "    .dataframe tbody tr th:only-of-type {\n",
       "        vertical-align: middle;\n",
       "    }\n",
       "\n",
       "    .dataframe tbody tr th {\n",
       "        vertical-align: top;\n",
       "    }\n",
       "\n",
       "    .dataframe thead th {\n",
       "        text-align: right;\n",
       "    }\n",
       "</style>\n",
       "<table border=\"1\" class=\"dataframe\">\n",
       "  <thead>\n",
       "    <tr style=\"text-align: right;\">\n",
       "      <th></th>\n",
       "      <th>Year</th>\n",
       "      <th>Month</th>\n",
       "      <th>DayOfMonth</th>\n",
       "      <th>DayOfWeek</th>\n",
       "      <th>DepTime</th>\n",
       "      <th>CRSDepTime</th>\n",
       "      <th>ArrTime</th>\n",
       "      <th>CRSArrTime</th>\n",
       "      <th>ArrDelay</th>\n",
       "      <th>DepDelay</th>\n",
       "      <th>Distance</th>\n",
       "    </tr>\n",
       "  </thead>\n",
       "  <tbody>\n",
       "    <tr>\n",
       "      <th>count</th>\n",
       "      <td>4074.000000</td>\n",
       "      <td>4074.000000</td>\n",
       "      <td>4074.000000</td>\n",
       "      <td>4074.000000</td>\n",
       "      <td>0.0</td>\n",
       "      <td>4074.000000</td>\n",
       "      <td>0.0</td>\n",
       "      <td>4074.000000</td>\n",
       "      <td>0.0</td>\n",
       "      <td>0.0</td>\n",
       "      <td>4068.000000</td>\n",
       "    </tr>\n",
       "    <tr>\n",
       "      <th>mean</th>\n",
       "      <td>1998.767059</td>\n",
       "      <td>6.218949</td>\n",
       "      <td>15.335052</td>\n",
       "      <td>3.766814</td>\n",
       "      <td>NaN</td>\n",
       "      <td>1336.668630</td>\n",
       "      <td>NaN</td>\n",
       "      <td>1489.431762</td>\n",
       "      <td>NaN</td>\n",
       "      <td>NaN</td>\n",
       "      <td>604.562930</td>\n",
       "    </tr>\n",
       "    <tr>\n",
       "      <th>std</th>\n",
       "      <td>5.851504</td>\n",
       "      <td>3.774997</td>\n",
       "      <td>8.569321</td>\n",
       "      <td>1.923179</td>\n",
       "      <td>NaN</td>\n",
       "      <td>473.834831</td>\n",
       "      <td>NaN</td>\n",
       "      <td>494.384986</td>\n",
       "      <td>NaN</td>\n",
       "      <td>NaN</td>\n",
       "      <td>479.536708</td>\n",
       "    </tr>\n",
       "    <tr>\n",
       "      <th>min</th>\n",
       "      <td>1987.000000</td>\n",
       "      <td>1.000000</td>\n",
       "      <td>1.000000</td>\n",
       "      <td>1.000000</td>\n",
       "      <td>NaN</td>\n",
       "      <td>0.000000</td>\n",
       "      <td>NaN</td>\n",
       "      <td>0.000000</td>\n",
       "      <td>NaN</td>\n",
       "      <td>NaN</td>\n",
       "      <td>24.000000</td>\n",
       "    </tr>\n",
       "    <tr>\n",
       "      <th>25%</th>\n",
       "      <td>1995.000000</td>\n",
       "      <td>3.000000</td>\n",
       "      <td>8.000000</td>\n",
       "      <td>2.000000</td>\n",
       "      <td>NaN</td>\n",
       "      <td>930.000000</td>\n",
       "      <td>NaN</td>\n",
       "      <td>1116.250000</td>\n",
       "      <td>NaN</td>\n",
       "      <td>NaN</td>\n",
       "      <td>265.500000</td>\n",
       "    </tr>\n",
       "    <tr>\n",
       "      <th>50%</th>\n",
       "      <td>1999.000000</td>\n",
       "      <td>6.000000</td>\n",
       "      <td>15.000000</td>\n",
       "      <td>4.000000</td>\n",
       "      <td>NaN</td>\n",
       "      <td>1340.000000</td>\n",
       "      <td>NaN</td>\n",
       "      <td>1528.500000</td>\n",
       "      <td>NaN</td>\n",
       "      <td>NaN</td>\n",
       "      <td>448.000000</td>\n",
       "    </tr>\n",
       "    <tr>\n",
       "      <th>75%</th>\n",
       "      <td>2003.000000</td>\n",
       "      <td>9.000000</td>\n",
       "      <td>23.000000</td>\n",
       "      <td>5.000000</td>\n",
       "      <td>NaN</td>\n",
       "      <td>1725.000000</td>\n",
       "      <td>NaN</td>\n",
       "      <td>1908.000000</td>\n",
       "      <td>NaN</td>\n",
       "      <td>NaN</td>\n",
       "      <td>799.000000</td>\n",
       "    </tr>\n",
       "    <tr>\n",
       "      <th>max</th>\n",
       "      <td>2008.000000</td>\n",
       "      <td>12.000000</td>\n",
       "      <td>31.000000</td>\n",
       "      <td>7.000000</td>\n",
       "      <td>NaN</td>\n",
       "      <td>2359.000000</td>\n",
       "      <td>NaN</td>\n",
       "      <td>2359.000000</td>\n",
       "      <td>NaN</td>\n",
       "      <td>NaN</td>\n",
       "      <td>3801.000000</td>\n",
       "    </tr>\n",
       "  </tbody>\n",
       "</table>\n",
       "</div>"
      ],
      "text/plain": [
       "              Year        Month   DayOfMonth    DayOfWeek  DepTime  \\\n",
       "count  4074.000000  4074.000000  4074.000000  4074.000000      0.0   \n",
       "mean   1998.767059     6.218949    15.335052     3.766814      NaN   \n",
       "std       5.851504     3.774997     8.569321     1.923179      NaN   \n",
       "min    1987.000000     1.000000     1.000000     1.000000      NaN   \n",
       "25%    1995.000000     3.000000     8.000000     2.000000      NaN   \n",
       "50%    1999.000000     6.000000    15.000000     4.000000      NaN   \n",
       "75%    2003.000000     9.000000    23.000000     5.000000      NaN   \n",
       "max    2008.000000    12.000000    31.000000     7.000000      NaN   \n",
       "\n",
       "        CRSDepTime  ArrTime   CRSArrTime  ArrDelay  DepDelay     Distance  \n",
       "count  4074.000000      0.0  4074.000000       0.0       0.0  4068.000000  \n",
       "mean   1336.668630      NaN  1489.431762       NaN       NaN   604.562930  \n",
       "std     473.834831      NaN   494.384986       NaN       NaN   479.536708  \n",
       "min       0.000000      NaN     0.000000       NaN       NaN    24.000000  \n",
       "25%     930.000000      NaN  1116.250000       NaN       NaN   265.500000  \n",
       "50%    1340.000000      NaN  1528.500000       NaN       NaN   448.000000  \n",
       "75%    1725.000000      NaN  1908.000000       NaN       NaN   799.000000  \n",
       "max    2359.000000      NaN  2359.000000       NaN       NaN  3801.000000  "
      ]
     },
     "execution_count": 13,
     "metadata": {},
     "output_type": "execute_result"
    }
   ],
   "source": [
    "# check null DepTime records\n",
    "dep_null = flights_sample['DepTime'].isnull()\n",
    "flights_sample.loc[dep_null, :].describe()"
   ]
  },
  {
   "cell_type": "code",
   "execution_count": 14,
   "metadata": {
    "slideshow": {
     "slide_type": "skip"
    }
   },
   "outputs": [],
   "source": [
    "# dep_null records are all missing DepTime, ArrTime, ArrDelay and DepDelay, we could remove them safely\n",
    "flights_sample.drop(flights_sample.index[dep_null], inplace=True)"
   ]
  },
  {
   "cell_type": "code",
   "execution_count": 15,
   "metadata": {
    "slideshow": {
     "slide_type": "skip"
    }
   },
   "outputs": [
    {
     "data": {
      "text/html": [
       "<div>\n",
       "<style scoped>\n",
       "    .dataframe tbody tr th:only-of-type {\n",
       "        vertical-align: middle;\n",
       "    }\n",
       "\n",
       "    .dataframe tbody tr th {\n",
       "        vertical-align: top;\n",
       "    }\n",
       "\n",
       "    .dataframe thead th {\n",
       "        text-align: right;\n",
       "    }\n",
       "</style>\n",
       "<table border=\"1\" class=\"dataframe\">\n",
       "  <thead>\n",
       "    <tr style=\"text-align: right;\">\n",
       "      <th></th>\n",
       "      <th>Year</th>\n",
       "      <th>Month</th>\n",
       "      <th>DayOfMonth</th>\n",
       "      <th>DayOfWeek</th>\n",
       "      <th>DepTime</th>\n",
       "      <th>CRSDepTime</th>\n",
       "      <th>ArrTime</th>\n",
       "      <th>CRSArrTime</th>\n",
       "      <th>ArrDelay</th>\n",
       "      <th>DepDelay</th>\n",
       "      <th>Distance</th>\n",
       "    </tr>\n",
       "  </thead>\n",
       "  <tbody>\n",
       "    <tr>\n",
       "      <th>count</th>\n",
       "      <td>523.000000</td>\n",
       "      <td>523.000000</td>\n",
       "      <td>523.000000</td>\n",
       "      <td>523.000000</td>\n",
       "      <td>523.000000</td>\n",
       "      <td>523.00000</td>\n",
       "      <td>0.0</td>\n",
       "      <td>523.000000</td>\n",
       "      <td>0.0</td>\n",
       "      <td>523.000000</td>\n",
       "      <td>522.000000</td>\n",
       "    </tr>\n",
       "    <tr>\n",
       "      <th>mean</th>\n",
       "      <td>1996.606119</td>\n",
       "      <td>6.743786</td>\n",
       "      <td>16.428298</td>\n",
       "      <td>3.963671</td>\n",
       "      <td>1379.527725</td>\n",
       "      <td>1349.31740</td>\n",
       "      <td>NaN</td>\n",
       "      <td>1549.944551</td>\n",
       "      <td>NaN</td>\n",
       "      <td>25.502868</td>\n",
       "      <td>894.764368</td>\n",
       "    </tr>\n",
       "    <tr>\n",
       "      <th>std</th>\n",
       "      <td>6.593399</td>\n",
       "      <td>3.583077</td>\n",
       "      <td>8.534364</td>\n",
       "      <td>1.961463</td>\n",
       "      <td>511.588152</td>\n",
       "      <td>494.67929</td>\n",
       "      <td>NaN</td>\n",
       "      <td>515.850786</td>\n",
       "      <td>NaN</td>\n",
       "      <td>74.155769</td>\n",
       "      <td>644.095861</td>\n",
       "    </tr>\n",
       "    <tr>\n",
       "      <th>min</th>\n",
       "      <td>1987.000000</td>\n",
       "      <td>1.000000</td>\n",
       "      <td>1.000000</td>\n",
       "      <td>1.000000</td>\n",
       "      <td>19.000000</td>\n",
       "      <td>0.00000</td>\n",
       "      <td>NaN</td>\n",
       "      <td>0.000000</td>\n",
       "      <td>NaN</td>\n",
       "      <td>-855.000000</td>\n",
       "      <td>21.000000</td>\n",
       "    </tr>\n",
       "    <tr>\n",
       "      <th>25%</th>\n",
       "      <td>1990.000000</td>\n",
       "      <td>3.500000</td>\n",
       "      <td>9.500000</td>\n",
       "      <td>2.000000</td>\n",
       "      <td>914.000000</td>\n",
       "      <td>900.00000</td>\n",
       "      <td>NaN</td>\n",
       "      <td>1136.000000</td>\n",
       "      <td>NaN</td>\n",
       "      <td>-1.000000</td>\n",
       "      <td>404.500000</td>\n",
       "    </tr>\n",
       "    <tr>\n",
       "      <th>50%</th>\n",
       "      <td>1996.000000</td>\n",
       "      <td>7.000000</td>\n",
       "      <td>16.000000</td>\n",
       "      <td>4.000000</td>\n",
       "      <td>1407.000000</td>\n",
       "      <td>1355.00000</td>\n",
       "      <td>NaN</td>\n",
       "      <td>1630.000000</td>\n",
       "      <td>NaN</td>\n",
       "      <td>2.000000</td>\n",
       "      <td>743.500000</td>\n",
       "    </tr>\n",
       "    <tr>\n",
       "      <th>75%</th>\n",
       "      <td>2002.000000</td>\n",
       "      <td>10.000000</td>\n",
       "      <td>23.000000</td>\n",
       "      <td>6.000000</td>\n",
       "      <td>1816.000000</td>\n",
       "      <td>1737.00000</td>\n",
       "      <td>NaN</td>\n",
       "      <td>1949.500000</td>\n",
       "      <td>NaN</td>\n",
       "      <td>25.000000</td>\n",
       "      <td>1165.000000</td>\n",
       "    </tr>\n",
       "    <tr>\n",
       "      <th>max</th>\n",
       "      <td>2008.000000</td>\n",
       "      <td>12.000000</td>\n",
       "      <td>31.000000</td>\n",
       "      <td>7.000000</td>\n",
       "      <td>2333.000000</td>\n",
       "      <td>2318.00000</td>\n",
       "      <td>NaN</td>\n",
       "      <td>2400.000000</td>\n",
       "      <td>NaN</td>\n",
       "      <td>735.000000</td>\n",
       "      <td>4243.000000</td>\n",
       "    </tr>\n",
       "  </tbody>\n",
       "</table>\n",
       "</div>"
      ],
      "text/plain": [
       "              Year       Month  DayOfMonth   DayOfWeek      DepTime  \\\n",
       "count   523.000000  523.000000  523.000000  523.000000   523.000000   \n",
       "mean   1996.606119    6.743786   16.428298    3.963671  1379.527725   \n",
       "std       6.593399    3.583077    8.534364    1.961463   511.588152   \n",
       "min    1987.000000    1.000000    1.000000    1.000000    19.000000   \n",
       "25%    1990.000000    3.500000    9.500000    2.000000   914.000000   \n",
       "50%    1996.000000    7.000000   16.000000    4.000000  1407.000000   \n",
       "75%    2002.000000   10.000000   23.000000    6.000000  1816.000000   \n",
       "max    2008.000000   12.000000   31.000000    7.000000  2333.000000   \n",
       "\n",
       "       CRSDepTime  ArrTime   CRSArrTime  ArrDelay    DepDelay     Distance  \n",
       "count   523.00000      0.0   523.000000       0.0  523.000000   522.000000  \n",
       "mean   1349.31740      NaN  1549.944551       NaN   25.502868   894.764368  \n",
       "std     494.67929      NaN   515.850786       NaN   74.155769   644.095861  \n",
       "min       0.00000      NaN     0.000000       NaN -855.000000    21.000000  \n",
       "25%     900.00000      NaN  1136.000000       NaN   -1.000000   404.500000  \n",
       "50%    1355.00000      NaN  1630.000000       NaN    2.000000   743.500000  \n",
       "75%    1737.00000      NaN  1949.500000       NaN   25.000000  1165.000000  \n",
       "max    2318.00000      NaN  2400.000000       NaN  735.000000  4243.000000  "
      ]
     },
     "execution_count": 15,
     "metadata": {},
     "output_type": "execute_result"
    }
   ],
   "source": [
    "# check null arrTime records\n",
    "arr_null = flights_sample['ArrTime'].isnull()\n",
    "flights_sample.loc[arr_null, :].describe()"
   ]
  },
  {
   "cell_type": "code",
   "execution_count": 16,
   "metadata": {
    "slideshow": {
     "slide_type": "skip"
    }
   },
   "outputs": [],
   "source": [
    "# remove null arrTime records\n",
    "flights_sample.drop(flights_sample.index[arr_null], inplace=True)"
   ]
  },
  {
   "cell_type": "code",
   "execution_count": 17,
   "metadata": {
    "slideshow": {
     "slide_type": "skip"
    }
   },
   "outputs": [
    {
     "data": {
      "text/html": [
       "<div>\n",
       "<style scoped>\n",
       "    .dataframe tbody tr th:only-of-type {\n",
       "        vertical-align: middle;\n",
       "    }\n",
       "\n",
       "    .dataframe tbody tr th {\n",
       "        vertical-align: top;\n",
       "    }\n",
       "\n",
       "    .dataframe thead th {\n",
       "        text-align: right;\n",
       "    }\n",
       "</style>\n",
       "<table border=\"1\" class=\"dataframe\">\n",
       "  <thead>\n",
       "    <tr style=\"text-align: right;\">\n",
       "      <th></th>\n",
       "      <th>Year</th>\n",
       "      <th>Month</th>\n",
       "      <th>DayOfMonth</th>\n",
       "      <th>DayOfWeek</th>\n",
       "      <th>DepTime</th>\n",
       "      <th>CRSDepTime</th>\n",
       "      <th>ArrTime</th>\n",
       "      <th>CRSArrTime</th>\n",
       "      <th>UniqueCarrier</th>\n",
       "      <th>ArrDelay</th>\n",
       "      <th>DepDelay</th>\n",
       "      <th>Distance</th>\n",
       "    </tr>\n",
       "  </thead>\n",
       "  <tbody>\n",
       "    <tr>\n",
       "      <th>210470</th>\n",
       "      <td>2008</td>\n",
       "      <td>10</td>\n",
       "      <td>25</td>\n",
       "      <td>6</td>\n",
       "      <td>1533.0</td>\n",
       "      <td>1540</td>\n",
       "      <td>2312.0</td>\n",
       "      <td>1725</td>\n",
       "      <td>MQ</td>\n",
       "      <td>NaN</td>\n",
       "      <td>-7.0</td>\n",
       "      <td>431.0</td>\n",
       "    </tr>\n",
       "    <tr>\n",
       "      <th>213386</th>\n",
       "      <td>2008</td>\n",
       "      <td>12</td>\n",
       "      <td>24</td>\n",
       "      <td>3</td>\n",
       "      <td>941.0</td>\n",
       "      <td>855</td>\n",
       "      <td>1126.0</td>\n",
       "      <td>945</td>\n",
       "      <td>WN</td>\n",
       "      <td>NaN</td>\n",
       "      <td>46.0</td>\n",
       "      <td>181.0</td>\n",
       "    </tr>\n",
       "    <tr>\n",
       "      <th>214203</th>\n",
       "      <td>2008</td>\n",
       "      <td>10</td>\n",
       "      <td>26</td>\n",
       "      <td>7</td>\n",
       "      <td>1717.0</td>\n",
       "      <td>1720</td>\n",
       "      <td>908.0</td>\n",
       "      <td>558</td>\n",
       "      <td>NW</td>\n",
       "      <td>NaN</td>\n",
       "      <td>-3.0</td>\n",
       "      <td>3972.0</td>\n",
       "    </tr>\n",
       "    <tr>\n",
       "      <th>214563</th>\n",
       "      <td>2008</td>\n",
       "      <td>12</td>\n",
       "      <td>27</td>\n",
       "      <td>6</td>\n",
       "      <td>720.0</td>\n",
       "      <td>650</td>\n",
       "      <td>1240.0</td>\n",
       "      <td>900</td>\n",
       "      <td>MQ</td>\n",
       "      <td>NaN</td>\n",
       "      <td>30.0</td>\n",
       "      <td>1021.0</td>\n",
       "    </tr>\n",
       "    <tr>\n",
       "      <th>216466</th>\n",
       "      <td>2008</td>\n",
       "      <td>11</td>\n",
       "      <td>29</td>\n",
       "      <td>6</td>\n",
       "      <td>556.0</td>\n",
       "      <td>600</td>\n",
       "      <td>1101.0</td>\n",
       "      <td>950</td>\n",
       "      <td>UA</td>\n",
       "      <td>NaN</td>\n",
       "      <td>-4.0</td>\n",
       "      <td>2704.0</td>\n",
       "    </tr>\n",
       "  </tbody>\n",
       "</table>\n",
       "</div>"
      ],
      "text/plain": [
       "        Year  Month  DayOfMonth  DayOfWeek  DepTime  CRSDepTime  ArrTime  \\\n",
       "210470  2008     10          25          6   1533.0        1540   2312.0   \n",
       "213386  2008     12          24          3    941.0         855   1126.0   \n",
       "214203  2008     10          26          7   1717.0        1720    908.0   \n",
       "214563  2008     12          27          6    720.0         650   1240.0   \n",
       "216466  2008     11          29          6    556.0         600   1101.0   \n",
       "\n",
       "        CRSArrTime UniqueCarrier  ArrDelay  DepDelay  Distance  \n",
       "210470        1725            MQ       NaN      -7.0     431.0  \n",
       "213386         945            WN       NaN      46.0     181.0  \n",
       "214203         558            NW       NaN      -3.0    3972.0  \n",
       "214563         900            MQ       NaN      30.0    1021.0  \n",
       "216466         950            UA       NaN      -4.0    2704.0  "
      ]
     },
     "execution_count": 17,
     "metadata": {},
     "output_type": "execute_result"
    }
   ],
   "source": [
    "# check null ArrDelay records\n",
    "arr_delay_null = flights_sample['ArrDelay'].isnull()\n",
    "flights_sample.loc[arr_delay_null, :]"
   ]
  },
  {
   "cell_type": "code",
   "execution_count": 18,
   "metadata": {
    "slideshow": {
     "slide_type": "skip"
    }
   },
   "outputs": [],
   "source": [
    "# manually fill the null entries for ArrDelay\n",
    "flights_sample.at[210470, 'ArrDelay'] = 547\n",
    "flights_sample.at[213386, 'ArrDelay'] = 141\n",
    "flights_sample.at[214203, 'ArrDelay'] = 310\n",
    "flights_sample.at[214563, 'ArrDelay'] = 340\n",
    "flights_sample.at[216466, 'ArrDelay'] = 111"
   ]
  },
  {
   "cell_type": "code",
   "execution_count": 19,
   "metadata": {
    "slideshow": {
     "slide_type": "skip"
    }
   },
   "outputs": [
    {
     "data": {
      "text/html": [
       "<div>\n",
       "<style scoped>\n",
       "    .dataframe tbody tr th:only-of-type {\n",
       "        vertical-align: middle;\n",
       "    }\n",
       "\n",
       "    .dataframe tbody tr th {\n",
       "        vertical-align: top;\n",
       "    }\n",
       "\n",
       "    .dataframe thead th {\n",
       "        text-align: right;\n",
       "    }\n",
       "</style>\n",
       "<table border=\"1\" class=\"dataframe\">\n",
       "  <thead>\n",
       "    <tr style=\"text-align: right;\">\n",
       "      <th></th>\n",
       "      <th>Year</th>\n",
       "      <th>Month</th>\n",
       "      <th>DayOfMonth</th>\n",
       "      <th>DayOfWeek</th>\n",
       "      <th>DepTime</th>\n",
       "      <th>CRSDepTime</th>\n",
       "      <th>ArrTime</th>\n",
       "      <th>CRSArrTime</th>\n",
       "      <th>UniqueCarrier</th>\n",
       "      <th>ArrDelay</th>\n",
       "      <th>DepDelay</th>\n",
       "      <th>Distance</th>\n",
       "    </tr>\n",
       "  </thead>\n",
       "  <tbody>\n",
       "    <tr>\n",
       "      <th>210470</th>\n",
       "      <td>2008</td>\n",
       "      <td>10</td>\n",
       "      <td>25</td>\n",
       "      <td>6</td>\n",
       "      <td>1533.0</td>\n",
       "      <td>1540</td>\n",
       "      <td>2312.0</td>\n",
       "      <td>1725</td>\n",
       "      <td>MQ</td>\n",
       "      <td>547.0</td>\n",
       "      <td>-7.0</td>\n",
       "      <td>431.0</td>\n",
       "    </tr>\n",
       "    <tr>\n",
       "      <th>213386</th>\n",
       "      <td>2008</td>\n",
       "      <td>12</td>\n",
       "      <td>24</td>\n",
       "      <td>3</td>\n",
       "      <td>941.0</td>\n",
       "      <td>855</td>\n",
       "      <td>1126.0</td>\n",
       "      <td>945</td>\n",
       "      <td>WN</td>\n",
       "      <td>141.0</td>\n",
       "      <td>46.0</td>\n",
       "      <td>181.0</td>\n",
       "    </tr>\n",
       "    <tr>\n",
       "      <th>214203</th>\n",
       "      <td>2008</td>\n",
       "      <td>10</td>\n",
       "      <td>26</td>\n",
       "      <td>7</td>\n",
       "      <td>1717.0</td>\n",
       "      <td>1720</td>\n",
       "      <td>908.0</td>\n",
       "      <td>558</td>\n",
       "      <td>NW</td>\n",
       "      <td>310.0</td>\n",
       "      <td>-3.0</td>\n",
       "      <td>3972.0</td>\n",
       "    </tr>\n",
       "    <tr>\n",
       "      <th>214563</th>\n",
       "      <td>2008</td>\n",
       "      <td>12</td>\n",
       "      <td>27</td>\n",
       "      <td>6</td>\n",
       "      <td>720.0</td>\n",
       "      <td>650</td>\n",
       "      <td>1240.0</td>\n",
       "      <td>900</td>\n",
       "      <td>MQ</td>\n",
       "      <td>340.0</td>\n",
       "      <td>30.0</td>\n",
       "      <td>1021.0</td>\n",
       "    </tr>\n",
       "    <tr>\n",
       "      <th>216466</th>\n",
       "      <td>2008</td>\n",
       "      <td>11</td>\n",
       "      <td>29</td>\n",
       "      <td>6</td>\n",
       "      <td>556.0</td>\n",
       "      <td>600</td>\n",
       "      <td>1101.0</td>\n",
       "      <td>950</td>\n",
       "      <td>UA</td>\n",
       "      <td>111.0</td>\n",
       "      <td>-4.0</td>\n",
       "      <td>2704.0</td>\n",
       "    </tr>\n",
       "  </tbody>\n",
       "</table>\n",
       "</div>"
      ],
      "text/plain": [
       "        Year  Month  DayOfMonth  DayOfWeek  DepTime  CRSDepTime  ArrTime  \\\n",
       "210470  2008     10          25          6   1533.0        1540   2312.0   \n",
       "213386  2008     12          24          3    941.0         855   1126.0   \n",
       "214203  2008     10          26          7   1717.0        1720    908.0   \n",
       "214563  2008     12          27          6    720.0         650   1240.0   \n",
       "216466  2008     11          29          6    556.0         600   1101.0   \n",
       "\n",
       "        CRSArrTime UniqueCarrier  ArrDelay  DepDelay  Distance  \n",
       "210470        1725            MQ     547.0      -7.0     431.0  \n",
       "213386         945            WN     141.0      46.0     181.0  \n",
       "214203         558            NW     310.0      -3.0    3972.0  \n",
       "214563         900            MQ     340.0      30.0    1021.0  \n",
       "216466         950            UA     111.0      -4.0    2704.0  "
      ]
     },
     "execution_count": 19,
     "metadata": {},
     "output_type": "execute_result"
    }
   ],
   "source": [
    "flights_sample.loc[arr_delay_null, :]"
   ]
  },
  {
   "cell_type": "code",
   "execution_count": 20,
   "metadata": {
    "slideshow": {
     "slide_type": "skip"
    }
   },
   "outputs": [
    {
     "data": {
      "text/html": [
       "<div>\n",
       "<style scoped>\n",
       "    .dataframe tbody tr th:only-of-type {\n",
       "        vertical-align: middle;\n",
       "    }\n",
       "\n",
       "    .dataframe tbody tr th {\n",
       "        vertical-align: top;\n",
       "    }\n",
       "\n",
       "    .dataframe thead th {\n",
       "        text-align: right;\n",
       "    }\n",
       "</style>\n",
       "<table border=\"1\" class=\"dataframe\">\n",
       "  <thead>\n",
       "    <tr style=\"text-align: right;\">\n",
       "      <th></th>\n",
       "      <th>Year</th>\n",
       "      <th>Month</th>\n",
       "      <th>DayOfMonth</th>\n",
       "      <th>DayOfWeek</th>\n",
       "      <th>DepTime</th>\n",
       "      <th>CRSDepTime</th>\n",
       "      <th>ArrTime</th>\n",
       "      <th>CRSArrTime</th>\n",
       "      <th>UniqueCarrier</th>\n",
       "      <th>ArrDelay</th>\n",
       "      <th>DepDelay</th>\n",
       "      <th>Distance</th>\n",
       "    </tr>\n",
       "  </thead>\n",
       "  <tbody>\n",
       "    <tr>\n",
       "      <th>145</th>\n",
       "      <td>1987</td>\n",
       "      <td>12</td>\n",
       "      <td>15</td>\n",
       "      <td>2</td>\n",
       "      <td>1315.0</td>\n",
       "      <td>1255</td>\n",
       "      <td>1554.0</td>\n",
       "      <td>1535</td>\n",
       "      <td>AS</td>\n",
       "      <td>19.0</td>\n",
       "      <td>20.0</td>\n",
       "      <td>NaN</td>\n",
       "    </tr>\n",
       "    <tr>\n",
       "      <th>1856</th>\n",
       "      <td>1987</td>\n",
       "      <td>11</td>\n",
       "      <td>20</td>\n",
       "      <td>5</td>\n",
       "      <td>914.0</td>\n",
       "      <td>915</td>\n",
       "      <td>1003.0</td>\n",
       "      <td>945</td>\n",
       "      <td>AS</td>\n",
       "      <td>18.0</td>\n",
       "      <td>-1.0</td>\n",
       "      <td>NaN</td>\n",
       "    </tr>\n",
       "    <tr>\n",
       "      <th>2119</th>\n",
       "      <td>1987</td>\n",
       "      <td>11</td>\n",
       "      <td>3</td>\n",
       "      <td>2</td>\n",
       "      <td>700.0</td>\n",
       "      <td>700</td>\n",
       "      <td>749.0</td>\n",
       "      <td>755</td>\n",
       "      <td>AS</td>\n",
       "      <td>-6.0</td>\n",
       "      <td>0.0</td>\n",
       "      <td>NaN</td>\n",
       "    </tr>\n",
       "    <tr>\n",
       "      <th>3618</th>\n",
       "      <td>1987</td>\n",
       "      <td>11</td>\n",
       "      <td>3</td>\n",
       "      <td>2</td>\n",
       "      <td>825.0</td>\n",
       "      <td>830</td>\n",
       "      <td>1100.0</td>\n",
       "      <td>1111</td>\n",
       "      <td>AS</td>\n",
       "      <td>-11.0</td>\n",
       "      <td>-5.0</td>\n",
       "      <td>NaN</td>\n",
       "    </tr>\n",
       "    <tr>\n",
       "      <th>4913</th>\n",
       "      <td>1987</td>\n",
       "      <td>11</td>\n",
       "      <td>22</td>\n",
       "      <td>7</td>\n",
       "      <td>1547.0</td>\n",
       "      <td>1550</td>\n",
       "      <td>1637.0</td>\n",
       "      <td>1635</td>\n",
       "      <td>AS</td>\n",
       "      <td>2.0</td>\n",
       "      <td>-3.0</td>\n",
       "      <td>NaN</td>\n",
       "    </tr>\n",
       "    <tr>\n",
       "      <th>...</th>\n",
       "      <td>...</td>\n",
       "      <td>...</td>\n",
       "      <td>...</td>\n",
       "      <td>...</td>\n",
       "      <td>...</td>\n",
       "      <td>...</td>\n",
       "      <td>...</td>\n",
       "      <td>...</td>\n",
       "      <td>...</td>\n",
       "      <td>...</td>\n",
       "      <td>...</td>\n",
       "      <td>...</td>\n",
       "    </tr>\n",
       "    <tr>\n",
       "      <th>85875</th>\n",
       "      <td>1995</td>\n",
       "      <td>10</td>\n",
       "      <td>26</td>\n",
       "      <td>4</td>\n",
       "      <td>616.0</td>\n",
       "      <td>615</td>\n",
       "      <td>726.0</td>\n",
       "      <td>719</td>\n",
       "      <td>DL</td>\n",
       "      <td>7.0</td>\n",
       "      <td>1.0</td>\n",
       "      <td>NaN</td>\n",
       "    </tr>\n",
       "    <tr>\n",
       "      <th>86902</th>\n",
       "      <td>1995</td>\n",
       "      <td>11</td>\n",
       "      <td>7</td>\n",
       "      <td>2</td>\n",
       "      <td>942.0</td>\n",
       "      <td>942</td>\n",
       "      <td>1049.0</td>\n",
       "      <td>1050</td>\n",
       "      <td>DL</td>\n",
       "      <td>-1.0</td>\n",
       "      <td>0.0</td>\n",
       "      <td>NaN</td>\n",
       "    </tr>\n",
       "    <tr>\n",
       "      <th>87278</th>\n",
       "      <td>1995</td>\n",
       "      <td>10</td>\n",
       "      <td>9</td>\n",
       "      <td>1</td>\n",
       "      <td>1040.0</td>\n",
       "      <td>1040</td>\n",
       "      <td>1145.0</td>\n",
       "      <td>1140</td>\n",
       "      <td>WN</td>\n",
       "      <td>5.0</td>\n",
       "      <td>0.0</td>\n",
       "      <td>NaN</td>\n",
       "    </tr>\n",
       "    <tr>\n",
       "      <th>89735</th>\n",
       "      <td>1995</td>\n",
       "      <td>11</td>\n",
       "      <td>15</td>\n",
       "      <td>3</td>\n",
       "      <td>1735.0</td>\n",
       "      <td>1735</td>\n",
       "      <td>1915.0</td>\n",
       "      <td>1940</td>\n",
       "      <td>WN</td>\n",
       "      <td>-25.0</td>\n",
       "      <td>0.0</td>\n",
       "      <td>NaN</td>\n",
       "    </tr>\n",
       "    <tr>\n",
       "      <th>89838</th>\n",
       "      <td>1995</td>\n",
       "      <td>10</td>\n",
       "      <td>25</td>\n",
       "      <td>3</td>\n",
       "      <td>908.0</td>\n",
       "      <td>910</td>\n",
       "      <td>951.0</td>\n",
       "      <td>1001</td>\n",
       "      <td>NW</td>\n",
       "      <td>-10.0</td>\n",
       "      <td>-2.0</td>\n",
       "      <td>NaN</td>\n",
       "    </tr>\n",
       "  </tbody>\n",
       "</table>\n",
       "<p>409 rows × 12 columns</p>\n",
       "</div>"
      ],
      "text/plain": [
       "       Year  Month  DayOfMonth  DayOfWeek  DepTime  CRSDepTime  ArrTime  \\\n",
       "145    1987     12          15          2   1315.0        1255   1554.0   \n",
       "1856   1987     11          20          5    914.0         915   1003.0   \n",
       "2119   1987     11           3          2    700.0         700    749.0   \n",
       "3618   1987     11           3          2    825.0         830   1100.0   \n",
       "4913   1987     11          22          7   1547.0        1550   1637.0   \n",
       "...     ...    ...         ...        ...      ...         ...      ...   \n",
       "85875  1995     10          26          4    616.0         615    726.0   \n",
       "86902  1995     11           7          2    942.0         942   1049.0   \n",
       "87278  1995     10           9          1   1040.0        1040   1145.0   \n",
       "89735  1995     11          15          3   1735.0        1735   1915.0   \n",
       "89838  1995     10          25          3    908.0         910    951.0   \n",
       "\n",
       "       CRSArrTime UniqueCarrier  ArrDelay  DepDelay  Distance  \n",
       "145          1535            AS      19.0      20.0       NaN  \n",
       "1856          945            AS      18.0      -1.0       NaN  \n",
       "2119          755            AS      -6.0       0.0       NaN  \n",
       "3618         1111            AS     -11.0      -5.0       NaN  \n",
       "4913         1635            AS       2.0      -3.0       NaN  \n",
       "...           ...           ...       ...       ...       ...  \n",
       "85875         719            DL       7.0       1.0       NaN  \n",
       "86902        1050            DL      -1.0       0.0       NaN  \n",
       "87278        1140            WN       5.0       0.0       NaN  \n",
       "89735        1940            WN     -25.0       0.0       NaN  \n",
       "89838        1001            NW     -10.0      -2.0       NaN  \n",
       "\n",
       "[409 rows x 12 columns]"
      ]
     },
     "execution_count": 20,
     "metadata": {},
     "output_type": "execute_result"
    }
   ],
   "source": [
    "# check null distance entries\n",
    "dist_null = flights_sample['Distance'].isnull()\n",
    "flights_sample.loc[dist_null, :]"
   ]
  },
  {
   "cell_type": "code",
   "execution_count": 21,
   "metadata": {
    "slideshow": {
     "slide_type": "skip"
    }
   },
   "outputs": [],
   "source": [
    "# there are only 409 entries and we cannot meaningfully fill them with means or medians, \n",
    "# so we are removing them\n",
    "flights_sample.drop(flights_sample.index[dist_null], inplace=True)"
   ]
  },
  {
   "cell_type": "markdown",
   "metadata": {
    "slideshow": {
     "slide_type": "skip"
    }
   },
   "source": [
    "##### Test"
   ]
  },
  {
   "cell_type": "code",
   "execution_count": 22,
   "metadata": {
    "slideshow": {
     "slide_type": "skip"
    }
   },
   "outputs": [
    {
     "name": "stdout",
     "output_type": "stream",
     "text": [
      "<class 'pandas.core.frame.DataFrame'>\n",
      "Int64Index: 214994 entries, 0 to 219999\n",
      "Data columns (total 12 columns):\n",
      " #   Column         Non-Null Count   Dtype  \n",
      "---  ------         --------------   -----  \n",
      " 0   Year           214994 non-null  int64  \n",
      " 1   Month          214994 non-null  int64  \n",
      " 2   DayOfMonth     214994 non-null  int64  \n",
      " 3   DayOfWeek      214994 non-null  int64  \n",
      " 4   DepTime        214994 non-null  float64\n",
      " 5   CRSDepTime     214994 non-null  int64  \n",
      " 6   ArrTime        214994 non-null  float64\n",
      " 7   CRSArrTime     214994 non-null  int64  \n",
      " 8   UniqueCarrier  214994 non-null  object \n",
      " 9   ArrDelay       214994 non-null  float64\n",
      " 10  DepDelay       214994 non-null  float64\n",
      " 11  Distance       214994 non-null  float64\n",
      "dtypes: float64(5), int64(6), object(1)\n",
      "memory usage: 21.3+ MB\n"
     ]
    }
   ],
   "source": [
    "flights_sample.info()"
   ]
  },
  {
   "cell_type": "markdown",
   "metadata": {
    "slideshow": {
     "slide_type": "skip"
    }
   },
   "source": [
    "#### Erroneous datatypes (DepTime, CRSDepTime, ArrTime, CRSArrTime, ArrDelay, DepDelay)\n",
    "##### Define\n",
    "Change DepTime, CRSDepTime, ArrTime, CRSArrTime to string, ArrDelay and DepDelay to int.\n",
    "##### Code"
   ]
  },
  {
   "cell_type": "code",
   "execution_count": 23,
   "metadata": {
    "slideshow": {
     "slide_type": "skip"
    }
   },
   "outputs": [],
   "source": [
    "def format_change(columns):\n",
    "    ''' change column type to int'''\n",
    "    for c in columns:\n",
    "        flights_sample[c] = flights_sample[c].astype(int)\n",
    "        #flights_sample[c] = flights_sample[c].str.replace('\\.0', '', regex=True)\n",
    "        #flights_sample[c] = flights_sample[c].str.zfill(4)\n",
    "\n",
    "        #flights_sample[c] = flights_sample[c].apply(lambda x: \"{}:{}\".format(x[:2],x[2:]))"
   ]
  },
  {
   "cell_type": "code",
   "execution_count": 24,
   "metadata": {
    "scrolled": false,
    "slideshow": {
     "slide_type": "skip"
    }
   },
   "outputs": [],
   "source": [
    "columns = ['DepTime', 'CRSDepTime', 'ArrTime', 'CRSArrTime', 'ArrDelay', 'DepDelay']\n",
    "\n",
    "format_change(columns)"
   ]
  },
  {
   "cell_type": "markdown",
   "metadata": {
    "slideshow": {
     "slide_type": "skip"
    }
   },
   "source": [
    "##### Test"
   ]
  },
  {
   "cell_type": "code",
   "execution_count": 25,
   "metadata": {
    "slideshow": {
     "slide_type": "skip"
    }
   },
   "outputs": [
    {
     "name": "stdout",
     "output_type": "stream",
     "text": [
      "<class 'pandas.core.frame.DataFrame'>\n",
      "Int64Index: 214994 entries, 0 to 219999\n",
      "Data columns (total 12 columns):\n",
      " #   Column         Non-Null Count   Dtype  \n",
      "---  ------         --------------   -----  \n",
      " 0   Year           214994 non-null  int64  \n",
      " 1   Month          214994 non-null  int64  \n",
      " 2   DayOfMonth     214994 non-null  int64  \n",
      " 3   DayOfWeek      214994 non-null  int64  \n",
      " 4   DepTime        214994 non-null  int32  \n",
      " 5   CRSDepTime     214994 non-null  int32  \n",
      " 6   ArrTime        214994 non-null  int32  \n",
      " 7   CRSArrTime     214994 non-null  int32  \n",
      " 8   UniqueCarrier  214994 non-null  object \n",
      " 9   ArrDelay       214994 non-null  int32  \n",
      " 10  DepDelay       214994 non-null  int32  \n",
      " 11  Distance       214994 non-null  float64\n",
      "dtypes: float64(1), int32(6), int64(4), object(1)\n",
      "memory usage: 16.4+ MB\n"
     ]
    }
   ],
   "source": [
    "flights_sample.info()"
   ]
  },
  {
   "cell_type": "code",
   "execution_count": 26,
   "metadata": {
    "slideshow": {
     "slide_type": "skip"
    }
   },
   "outputs": [
    {
     "data": {
      "text/html": [
       "<div>\n",
       "<style scoped>\n",
       "    .dataframe tbody tr th:only-of-type {\n",
       "        vertical-align: middle;\n",
       "    }\n",
       "\n",
       "    .dataframe tbody tr th {\n",
       "        vertical-align: top;\n",
       "    }\n",
       "\n",
       "    .dataframe thead th {\n",
       "        text-align: right;\n",
       "    }\n",
       "</style>\n",
       "<table border=\"1\" class=\"dataframe\">\n",
       "  <thead>\n",
       "    <tr style=\"text-align: right;\">\n",
       "      <th></th>\n",
       "      <th>Year</th>\n",
       "      <th>Month</th>\n",
       "      <th>DayOfMonth</th>\n",
       "      <th>DayOfWeek</th>\n",
       "      <th>DepTime</th>\n",
       "      <th>CRSDepTime</th>\n",
       "      <th>ArrTime</th>\n",
       "      <th>CRSArrTime</th>\n",
       "      <th>UniqueCarrier</th>\n",
       "      <th>ArrDelay</th>\n",
       "      <th>DepDelay</th>\n",
       "      <th>Distance</th>\n",
       "    </tr>\n",
       "  </thead>\n",
       "  <tbody>\n",
       "    <tr>\n",
       "      <th>0</th>\n",
       "      <td>1987</td>\n",
       "      <td>12</td>\n",
       "      <td>2</td>\n",
       "      <td>3</td>\n",
       "      <td>1945</td>\n",
       "      <td>1945</td>\n",
       "      <td>2050</td>\n",
       "      <td>2045</td>\n",
       "      <td>NW</td>\n",
       "      <td>5</td>\n",
       "      <td>0</td>\n",
       "      <td>256.0</td>\n",
       "    </tr>\n",
       "    <tr>\n",
       "      <th>1</th>\n",
       "      <td>1987</td>\n",
       "      <td>11</td>\n",
       "      <td>23</td>\n",
       "      <td>1</td>\n",
       "      <td>1029</td>\n",
       "      <td>1030</td>\n",
       "      <td>1500</td>\n",
       "      <td>1527</td>\n",
       "      <td>CO</td>\n",
       "      <td>-27</td>\n",
       "      <td>-1</td>\n",
       "      <td>1123.0</td>\n",
       "    </tr>\n",
       "    <tr>\n",
       "      <th>2</th>\n",
       "      <td>1987</td>\n",
       "      <td>12</td>\n",
       "      <td>7</td>\n",
       "      <td>1</td>\n",
       "      <td>702</td>\n",
       "      <td>704</td>\n",
       "      <td>934</td>\n",
       "      <td>930</td>\n",
       "      <td>UA</td>\n",
       "      <td>4</td>\n",
       "      <td>-2</td>\n",
       "      <td>495.0</td>\n",
       "    </tr>\n",
       "    <tr>\n",
       "      <th>3</th>\n",
       "      <td>1987</td>\n",
       "      <td>10</td>\n",
       "      <td>8</td>\n",
       "      <td>4</td>\n",
       "      <td>629</td>\n",
       "      <td>630</td>\n",
       "      <td>945</td>\n",
       "      <td>948</td>\n",
       "      <td>UA</td>\n",
       "      <td>-3</td>\n",
       "      <td>-1</td>\n",
       "      <td>957.0</td>\n",
       "    </tr>\n",
       "    <tr>\n",
       "      <th>4</th>\n",
       "      <td>1987</td>\n",
       "      <td>10</td>\n",
       "      <td>26</td>\n",
       "      <td>1</td>\n",
       "      <td>715</td>\n",
       "      <td>715</td>\n",
       "      <td>747</td>\n",
       "      <td>750</td>\n",
       "      <td>HP</td>\n",
       "      <td>-3</td>\n",
       "      <td>0</td>\n",
       "      <td>110.0</td>\n",
       "    </tr>\n",
       "    <tr>\n",
       "      <th>5</th>\n",
       "      <td>1987</td>\n",
       "      <td>11</td>\n",
       "      <td>11</td>\n",
       "      <td>3</td>\n",
       "      <td>730</td>\n",
       "      <td>719</td>\n",
       "      <td>845</td>\n",
       "      <td>828</td>\n",
       "      <td>AA</td>\n",
       "      <td>17</td>\n",
       "      <td>11</td>\n",
       "      <td>328.0</td>\n",
       "    </tr>\n",
       "    <tr>\n",
       "      <th>6</th>\n",
       "      <td>1987</td>\n",
       "      <td>11</td>\n",
       "      <td>3</td>\n",
       "      <td>2</td>\n",
       "      <td>1800</td>\n",
       "      <td>1800</td>\n",
       "      <td>1934</td>\n",
       "      <td>1918</td>\n",
       "      <td>AA</td>\n",
       "      <td>16</td>\n",
       "      <td>0</td>\n",
       "      <td>337.0</td>\n",
       "    </tr>\n",
       "    <tr>\n",
       "      <th>7</th>\n",
       "      <td>1987</td>\n",
       "      <td>11</td>\n",
       "      <td>4</td>\n",
       "      <td>3</td>\n",
       "      <td>1234</td>\n",
       "      <td>1234</td>\n",
       "      <td>1329</td>\n",
       "      <td>1338</td>\n",
       "      <td>EA</td>\n",
       "      <td>-9</td>\n",
       "      <td>0</td>\n",
       "      <td>270.0</td>\n",
       "    </tr>\n",
       "    <tr>\n",
       "      <th>8</th>\n",
       "      <td>1987</td>\n",
       "      <td>10</td>\n",
       "      <td>16</td>\n",
       "      <td>5</td>\n",
       "      <td>1626</td>\n",
       "      <td>1628</td>\n",
       "      <td>1653</td>\n",
       "      <td>1654</td>\n",
       "      <td>UA</td>\n",
       "      <td>-1</td>\n",
       "      <td>-2</td>\n",
       "      <td>74.0</td>\n",
       "    </tr>\n",
       "    <tr>\n",
       "      <th>9</th>\n",
       "      <td>1987</td>\n",
       "      <td>10</td>\n",
       "      <td>5</td>\n",
       "      <td>1</td>\n",
       "      <td>2137</td>\n",
       "      <td>2135</td>\n",
       "      <td>2221</td>\n",
       "      <td>2220</td>\n",
       "      <td>US</td>\n",
       "      <td>1</td>\n",
       "      <td>2</td>\n",
       "      <td>164.0</td>\n",
       "    </tr>\n",
       "  </tbody>\n",
       "</table>\n",
       "</div>"
      ],
      "text/plain": [
       "   Year  Month  DayOfMonth  DayOfWeek  DepTime  CRSDepTime  ArrTime  \\\n",
       "0  1987     12           2          3     1945        1945     2050   \n",
       "1  1987     11          23          1     1029        1030     1500   \n",
       "2  1987     12           7          1      702         704      934   \n",
       "3  1987     10           8          4      629         630      945   \n",
       "4  1987     10          26          1      715         715      747   \n",
       "5  1987     11          11          3      730         719      845   \n",
       "6  1987     11           3          2     1800        1800     1934   \n",
       "7  1987     11           4          3     1234        1234     1329   \n",
       "8  1987     10          16          5     1626        1628     1653   \n",
       "9  1987     10           5          1     2137        2135     2221   \n",
       "\n",
       "   CRSArrTime UniqueCarrier  ArrDelay  DepDelay  Distance  \n",
       "0        2045            NW         5         0     256.0  \n",
       "1        1527            CO       -27        -1    1123.0  \n",
       "2         930            UA         4        -2     495.0  \n",
       "3         948            UA        -3        -1     957.0  \n",
       "4         750            HP        -3         0     110.0  \n",
       "5         828            AA        17        11     328.0  \n",
       "6        1918            AA        16         0     337.0  \n",
       "7        1338            EA        -9         0     270.0  \n",
       "8        1654            UA        -1        -2      74.0  \n",
       "9        2220            US         1         2     164.0  "
      ]
     },
     "execution_count": 26,
     "metadata": {},
     "output_type": "execute_result"
    }
   ],
   "source": [
    "flights_sample.head(10)"
   ]
  },
  {
   "cell_type": "code",
   "execution_count": 27,
   "metadata": {
    "slideshow": {
     "slide_type": "skip"
    }
   },
   "outputs": [],
   "source": [
    "flights_sample.to_csv('flights_sample.csv', index=False)"
   ]
  },
  {
   "cell_type": "code",
   "execution_count": 28,
   "metadata": {
    "slideshow": {
     "slide_type": "skip"
    }
   },
   "outputs": [
    {
     "data": {
      "text/html": [
       "<div>\n",
       "<style scoped>\n",
       "    .dataframe tbody tr th:only-of-type {\n",
       "        vertical-align: middle;\n",
       "    }\n",
       "\n",
       "    .dataframe tbody tr th {\n",
       "        vertical-align: top;\n",
       "    }\n",
       "\n",
       "    .dataframe thead th {\n",
       "        text-align: right;\n",
       "    }\n",
       "</style>\n",
       "<table border=\"1\" class=\"dataframe\">\n",
       "  <thead>\n",
       "    <tr style=\"text-align: right;\">\n",
       "      <th></th>\n",
       "      <th>Year</th>\n",
       "      <th>Month</th>\n",
       "      <th>DayOfMonth</th>\n",
       "      <th>DayOfWeek</th>\n",
       "      <th>DepTime</th>\n",
       "      <th>CRSDepTime</th>\n",
       "      <th>ArrTime</th>\n",
       "      <th>CRSArrTime</th>\n",
       "      <th>UniqueCarrier</th>\n",
       "      <th>ArrDelay</th>\n",
       "      <th>DepDelay</th>\n",
       "      <th>Distance</th>\n",
       "    </tr>\n",
       "  </thead>\n",
       "  <tbody>\n",
       "    <tr>\n",
       "      <th>0</th>\n",
       "      <td>1987</td>\n",
       "      <td>12</td>\n",
       "      <td>2</td>\n",
       "      <td>3</td>\n",
       "      <td>1945</td>\n",
       "      <td>1945</td>\n",
       "      <td>2050</td>\n",
       "      <td>2045</td>\n",
       "      <td>NW</td>\n",
       "      <td>5</td>\n",
       "      <td>0</td>\n",
       "      <td>256.0</td>\n",
       "    </tr>\n",
       "    <tr>\n",
       "      <th>1</th>\n",
       "      <td>1987</td>\n",
       "      <td>11</td>\n",
       "      <td>23</td>\n",
       "      <td>1</td>\n",
       "      <td>1029</td>\n",
       "      <td>1030</td>\n",
       "      <td>1500</td>\n",
       "      <td>1527</td>\n",
       "      <td>CO</td>\n",
       "      <td>-27</td>\n",
       "      <td>-1</td>\n",
       "      <td>1123.0</td>\n",
       "    </tr>\n",
       "    <tr>\n",
       "      <th>2</th>\n",
       "      <td>1987</td>\n",
       "      <td>12</td>\n",
       "      <td>7</td>\n",
       "      <td>1</td>\n",
       "      <td>702</td>\n",
       "      <td>704</td>\n",
       "      <td>934</td>\n",
       "      <td>930</td>\n",
       "      <td>UA</td>\n",
       "      <td>4</td>\n",
       "      <td>-2</td>\n",
       "      <td>495.0</td>\n",
       "    </tr>\n",
       "    <tr>\n",
       "      <th>3</th>\n",
       "      <td>1987</td>\n",
       "      <td>10</td>\n",
       "      <td>8</td>\n",
       "      <td>4</td>\n",
       "      <td>629</td>\n",
       "      <td>630</td>\n",
       "      <td>945</td>\n",
       "      <td>948</td>\n",
       "      <td>UA</td>\n",
       "      <td>-3</td>\n",
       "      <td>-1</td>\n",
       "      <td>957.0</td>\n",
       "    </tr>\n",
       "    <tr>\n",
       "      <th>4</th>\n",
       "      <td>1987</td>\n",
       "      <td>10</td>\n",
       "      <td>26</td>\n",
       "      <td>1</td>\n",
       "      <td>715</td>\n",
       "      <td>715</td>\n",
       "      <td>747</td>\n",
       "      <td>750</td>\n",
       "      <td>HP</td>\n",
       "      <td>-3</td>\n",
       "      <td>0</td>\n",
       "      <td>110.0</td>\n",
       "    </tr>\n",
       "  </tbody>\n",
       "</table>\n",
       "</div>"
      ],
      "text/plain": [
       "   Year  Month  DayOfMonth  DayOfWeek  DepTime  CRSDepTime  ArrTime  \\\n",
       "0  1987     12           2          3     1945        1945     2050   \n",
       "1  1987     11          23          1     1029        1030     1500   \n",
       "2  1987     12           7          1      702         704      934   \n",
       "3  1987     10           8          4      629         630      945   \n",
       "4  1987     10          26          1      715         715      747   \n",
       "\n",
       "   CRSArrTime UniqueCarrier  ArrDelay  DepDelay  Distance  \n",
       "0        2045            NW         5         0     256.0  \n",
       "1        1527            CO       -27        -1    1123.0  \n",
       "2         930            UA         4        -2     495.0  \n",
       "3         948            UA        -3        -1     957.0  \n",
       "4         750            HP        -3         0     110.0  "
      ]
     },
     "execution_count": 28,
     "metadata": {},
     "output_type": "execute_result"
    }
   ],
   "source": [
    "flights_sample = pd.read_csv('flights_sample.csv')\n",
    "flights_sample.head()"
   ]
  },
  {
   "cell_type": "code",
   "execution_count": 29,
   "metadata": {
    "slideshow": {
     "slide_type": "skip"
    }
   },
   "outputs": [
    {
     "name": "stdout",
     "output_type": "stream",
     "text": [
      "<class 'pandas.core.frame.DataFrame'>\n",
      "RangeIndex: 214994 entries, 0 to 214993\n",
      "Data columns (total 12 columns):\n",
      " #   Column         Non-Null Count   Dtype  \n",
      "---  ------         --------------   -----  \n",
      " 0   Year           214994 non-null  int64  \n",
      " 1   Month          214994 non-null  int64  \n",
      " 2   DayOfMonth     214994 non-null  int64  \n",
      " 3   DayOfWeek      214994 non-null  int64  \n",
      " 4   DepTime        214994 non-null  int64  \n",
      " 5   CRSDepTime     214994 non-null  int64  \n",
      " 6   ArrTime        214994 non-null  int64  \n",
      " 7   CRSArrTime     214994 non-null  int64  \n",
      " 8   UniqueCarrier  214994 non-null  object \n",
      " 9   ArrDelay       214994 non-null  int64  \n",
      " 10  DepDelay       214994 non-null  int64  \n",
      " 11  Distance       214994 non-null  float64\n",
      "dtypes: float64(1), int64(10), object(1)\n",
      "memory usage: 19.7+ MB\n"
     ]
    }
   ],
   "source": [
    "flights_sample.info()"
   ]
  },
  {
   "cell_type": "markdown",
   "metadata": {
    "slideshow": {
     "slide_type": "skip"
    }
   },
   "source": [
    "### What is the structure of your dataset?\n",
    "\n",
    "The original dataset has nearly 120 million records in total, so I sampled 10,000 records from each year and combined them into a new dataset with 220,000 entries and 12 features (Year, Month, DayOfMonth, DayOfWeek, DepTime, CRSDepTime, ArrTime, CRSArrTime, UniqueCarrier, ArrDelay, DepDelay, Distance). After removing null values, there are 214,994 data entries in total.\n",
    "\n",
    "DayOfWeek: 1 (Monday) - 7 (Sunday)\n",
    "\n",
    "### What is/are the main feature(s) of interest in your dataset?\n",
    "\n",
    "I am most interested in figuring out what the best time to fly is to minimize arrival delay.\n",
    "\n",
    "### What features in the dataset do you think will help support your investigation into your feature(s) of interest?\n",
    "\n",
    "I expect the DepTime to have the strongest effect on arrival delays: later departure times result in more delays Other than that, I think DayOfWeek would also affect arrival delays - weekends are going to have more delays than weekdays. I also think that carriers will have effects on delays too, though to a much smaller degree than the main effect of DepTime and DayOfWeek."
   ]
  },
  {
   "cell_type": "markdown",
   "metadata": {
    "slideshow": {
     "slide_type": "skip"
    }
   },
   "source": [
    "## Univariate Exploration"
   ]
  },
  {
   "cell_type": "code",
   "execution_count": 30,
   "metadata": {
    "slideshow": {
     "slide_type": "skip"
    }
   },
   "outputs": [],
   "source": [
    "# decide if a trip is short/medium/long\n",
    "conditions = [\n",
    "    (flights_sample['Distance'] <700),\n",
    "    (flights_sample['Distance'] >= 700) & (flights_sample['Distance'] < 3000),\n",
    "    (flights_sample['Distance'] >= 3000)\n",
    "]\n",
    "\n",
    "hauls = ['Short', 'Medium', 'Long']\n",
    "\n",
    "flights_sample['Haul'] = np.select(conditions, hauls)"
   ]
  },
  {
   "cell_type": "code",
   "execution_count": 31,
   "metadata": {
    "slideshow": {
     "slide_type": "skip"
    }
   },
   "outputs": [],
   "source": [
    "# make a column to indicate if arrival is on-time \n",
    "flights_sample['ArrOnTime'] = flights_sample['ArrDelay'] <= 0"
   ]
  },
  {
   "cell_type": "markdown",
   "metadata": {
    "slideshow": {
     "slide_type": "skip"
    }
   },
   "source": [
    "I will start by looking at the distribution of on-time vs delayed arrival flights."
   ]
  },
  {
   "cell_type": "code",
   "execution_count": 32,
   "metadata": {
    "scrolled": false,
    "slideshow": {
     "slide_type": "slide"
    }
   },
   "outputs": [
    {
     "data": {
      "image/png": "[encoded data removed]",
      "text/plain": [
       "<Figure size 432x432 with 1 Axes>"
      ]
     },
     "metadata": {
      "needs_background": "light"
     },
     "output_type": "display_data"
    }
   ],
   "source": [
    "base_color = sb.color_palette()[0]\n",
    "plt.figure(figsize=[6, 6])\n",
    "\n",
    "ax = sb.countplot(data=flights_sample, x='ArrOnTime', color=base_color)\n",
    "plt.xticks([False, True], ['Delayed', 'On-time'])\n",
    "plt.xlabel('Arrivals')\n",
    "plt.ylabel('Amount of Flights')\n",
    "plt.yticks([0, 2e4, 4e4, 6e4, 8e4, 1e5], ['0', '20k', '40k', '60k', '80k', '100k'])\n",
    "\n",
    "plt.title('Delayed Arrival Counts vs On-Time Arrival Counts')\n",
    "\n",
    "total = flights_sample.shape[0]\n",
    "\n",
    "for p in ax.patches:\n",
    "    percentage = '{:.1f}%'.format(100 * p.get_height()/total)\n",
    "    x = p.get_x() + p.get_width()/2.7\n",
    "    y = p.get_y() + p.get_height()/1.1\n",
    "    ax.annotate(percentage, (x, y), size=12, color='white')\n",
    "\n",
    "plt.show();"
   ]
  },
  {
   "cell_type": "markdown",
   "metadata": {},
   "source": [
    "From the graph above, we can see that there are slightly more on-time arrivals than delayed ones - 51.4% of all the flights taken were on time! That is a good start. Next, let's check the distribution of flights taken on each day of the week, each month, and each day of the month."
   ]
  },
  {
   "cell_type": "code",
   "execution_count": 33,
   "metadata": {},
   "outputs": [
    {
     "data": {
      "image/png": "[encoded data removed]",
      "text/plain": [
       "<Figure size 576x576 with 3 Axes>"
      ]
     },
     "metadata": {
      "needs_background": "light"
     },
     "output_type": "display_data"
    }
   ],
   "source": [
    "fig, ax = plt.subplots(nrows = 3, figsize = [8,8])\n",
    "\n",
    "sb.countplot(data=flights_sample, x='DayOfWeek', color=base_color, ax=ax[0])\n",
    "ax[0].set_xticks(np.arange(0, 7, 1))\n",
    "ax[0].set_xticklabels(['Monday', 'Tuesday', 'Wednesday', 'Thursday', 'Friday', 'Saturday', 'Sunday'])\n",
    "ax[0].set_xlabel('Days of Week')\n",
    "ax[0].set_ylabel('Amount of Flights')\n",
    "\n",
    "sb.countplot(data=flights_sample, x='Month', color=base_color, ax=ax[1])\n",
    "ax[1].set_xticks(np.arange(0,12,1))\n",
    "ax[1].set_xticklabels(['Jan', 'Feb', 'Mar', 'Apr', 'May', 'Jun', 'Jul', 'Aug', 'Sep', 'Oct', 'Nov', 'Dec'])\n",
    "ax[1].set_xlabel('Month')\n",
    "ax[1].set_ylabel('Amount of Flights')\n",
    "\n",
    "sb.countplot(data=flights_sample, x='DayOfMonth', color=base_color, ax=ax[2])\n",
    "ax[2].set_xlabel('Days Of Month')\n",
    "ax[2].set_ylabel('Amount of Flights')\n",
    "\n",
    "fig.suptitle('Flights Taken on Each Day of Week/Month/Each Day of Month');"
   ]
  },
  {
   "cell_type": "code",
   "execution_count": 34,
   "metadata": {},
   "outputs": [
    {
     "name": "stdout",
     "output_type": "stream",
     "text": [
      "1    31526\n",
      "4    31526\n",
      "3    31500\n",
      "2    31397\n",
      "5    31334\n",
      "7    29806\n",
      "6    27905\n",
      "Name: DayOfWeek, dtype: int64\n",
      "10    20748\n",
      "12    20128\n",
      "11    19774\n",
      "8     17983\n",
      "7     17795\n",
      "5     17694\n",
      "3     17318\n",
      "6     17224\n",
      "4     16998\n",
      "1     16933\n",
      "9     16691\n",
      "2     15708\n",
      "Name: Month, dtype: int64\n"
     ]
    }
   ],
   "source": [
    "print(flights_sample['DayOfWeek'].value_counts())\n",
    "print(flights_sample['Month'].value_counts())"
   ]
  },
  {
   "cell_type": "markdown",
   "metadata": {},
   "source": [
    "To my surprise, less people are flying during the weekend than during the weekdays. All of the weekdays have a similar amount of flights, while Saturday has about 10% less flights than weekdays. On the other hand, October, November and December are the peak months for traveling, especially October, with about 25% more flights in general than the least popular month to travel, February. Interestingly, the amount of flights taken per day is similar thoughout the month, except for day 29, 30 and 31. It is understandable that day 31 has less flights because more than half of the months don't have day 31. "
   ]
  },
  {
   "cell_type": "markdown",
   "metadata": {},
   "source": [
    "Next up, let's take a look at what's the popular time of day to fly."
   ]
  },
  {
   "cell_type": "code",
   "execution_count": 35,
   "metadata": {},
   "outputs": [],
   "source": [
    "def make_hour_string():\n",
    "    ''' convert numbers 1-24 into strings '''\n",
    "    hours = []\n",
    "    for i in np.arange(24):\n",
    "        if i < 10:\n",
    "            hours.append('0' + str(i) + \":00\")\n",
    "        else:\n",
    "            hours.append(str(i) + \":00\")\n",
    "    return hours"
   ]
  },
  {
   "cell_type": "code",
   "execution_count": 36,
   "metadata": {
    "scrolled": false
   },
   "outputs": [
    {
     "data": {
      "image/png": "[encoded data removed]",
      "text/plain": [
       "<Figure size 576x432 with 1 Axes>"
      ]
     },
     "metadata": {
      "needs_background": "light"
     },
     "output_type": "display_data"
    }
   ],
   "source": [
    "# distribution of scheduled departure time for flights\n",
    "bins = np.arange(0, 2400, 100)\n",
    "hours = make_hour_string()\n",
    "\n",
    "plt.figure(figsize=[8, 6])\n",
    "plt.hist(data=flights_sample, x='CRSDepTime', bins=bins, color=base_color)\n",
    "plt.xticks(bins, hours)\n",
    "plt.xlabel('Scheduled Departure Time (hh:mm)')\n",
    "plt.ylabel('Amount of Flights')\n",
    "plt.title('Amount of Flights Scheduled at Different Times of the Day')\n",
    "plt.xticks(rotation=90);"
   ]
  },
  {
   "cell_type": "markdown",
   "metadata": {},
   "source": [
    "There is only a few flights between 1 AM and 5 AM, and most of the flights happen between 6 AM and 10 PM, with one peak at around 8 AM, one peak at around 1 PM, and another peak at around 5 PM."
   ]
  },
  {
   "cell_type": "markdown",
   "metadata": {},
   "source": [
    "Besides departure time, I am also curious about the distance of each flight."
   ]
  },
  {
   "cell_type": "code",
   "execution_count": 37,
   "metadata": {},
   "outputs": [
    {
     "data": {
      "image/png": "[encoded data removed]",
      "text/plain": [
       "<Figure size 576x432 with 1 Axes>"
      ]
     },
     "metadata": {
      "needs_background": "light"
     },
     "output_type": "display_data"
    }
   ],
   "source": [
    "plt.figure(figsize=[8, 6])\n",
    "sb.countplot(data=flights_sample, x='Haul', color=base_color, order=['Short', 'Medium', 'Long'])\n",
    "plt.xlabel('Flight Length')\n",
    "plt.ylabel('Amount of Flights')\n",
    "plt.xticks(rotation=90)\n",
    "plt.title('Amount of Flights at Different Flight Lengths');"
   ]
  },
  {
   "cell_type": "code",
   "execution_count": 38,
   "metadata": {},
   "outputs": [
    {
     "data": {
      "text/plain": [
       "Short     135523\n",
       "Medium     79155\n",
       "Long         316\n",
       "Name: Haul, dtype: int64"
      ]
     },
     "execution_count": 38,
     "metadata": {},
     "output_type": "execute_result"
    }
   ],
   "source": [
    "flights_sample['Haul'].value_counts()"
   ]
  },
  {
   "cell_type": "markdown",
   "metadata": {},
   "source": [
    "Most of the flights in this dataset are short distance flights, with some medium distance ones. There are barely any long distance flights. Let's plot the actual distance and see the distribution."
   ]
  },
  {
   "cell_type": "code",
   "execution_count": 39,
   "metadata": {},
   "outputs": [
    {
     "data": {
      "image/png": "[encoded data removed]",
      "text/plain": [
       "<Figure size 432x288 with 1 Axes>"
      ]
     },
     "metadata": {
      "needs_background": "light"
     },
     "output_type": "display_data"
    }
   ],
   "source": [
    "bins = np.arange(1, 5000, 50)\n",
    "plt.hist(data=flights_sample, x='Distance', color=base_color, bins=bins)\n",
    "plt.xlabel('Distance (miles)')\n",
    "plt.ylabel('Amount of Flights')\n",
    "plt.title('Amount of Flights at Different Flight Lengths');"
   ]
  },
  {
   "cell_type": "markdown",
   "metadata": {},
   "source": [
    "There is a long tail in the distribution, so let's put it on a log scale and see if we can get more information."
   ]
  },
  {
   "cell_type": "code",
   "execution_count": 40,
   "metadata": {
    "scrolled": false
   },
   "outputs": [
    {
     "data": {
      "text/plain": [
       "count    5.332426\n",
       "mean     2.843258\n",
       "std      2.741525\n",
       "min      1.041393\n",
       "25%      2.482874\n",
       "50%      2.731589\n",
       "75%      2.969882\n",
       "max      3.697491\n",
       "Name: Distance, dtype: float64"
      ]
     },
     "execution_count": 40,
     "metadata": {},
     "output_type": "execute_result"
    }
   ],
   "source": [
    "np.log10(flights_sample['Distance'].describe())"
   ]
  },
  {
   "cell_type": "code",
   "execution_count": 41,
   "metadata": {},
   "outputs": [
    {
     "data": {
      "image/png": "[encoded data removed]",
      "text/plain": [
       "<Figure size 432x288 with 1 Axes>"
      ]
     },
     "metadata": {
      "needs_background": "light"
     },
     "output_type": "display_data"
    }
   ],
   "source": [
    "log_binsize = 0.15\n",
    "bins = 10 ** np.arange(1, np.log10(flights_sample['Distance'].max())+log_binsize, log_binsize)\n",
    "\n",
    "plt.hist(data=flights_sample, x='Distance', color=base_color, bins = bins)\n",
    "plt.xscale('log')\n",
    "plt.xticks([20, 50, 100, 200, 500, 1e3, 2e3, 5e3], \n",
    "           [20, 50, 100, 200, 500, '1k', '2k', '5k'])\n",
    "plt.xlabel('Distance (miles)')\n",
    "plt.ylabel('Amount of Flights')\n",
    "plt.title('Amount of Flights at Different Flight Lengths');"
   ]
  },
  {
   "cell_type": "markdown",
   "metadata": {},
   "source": [
    "Distance has a long-tailed distribution, with a lot of short distance flights, and a few long distance ones. When plotted on a log scale, the distance distribution looks unimodal, with peak at around 300 miles."
   ]
  },
  {
   "cell_type": "markdown",
   "metadata": {},
   "source": [
    "Let's also take a look at the flight distributions by different carriers."
   ]
  },
  {
   "cell_type": "code",
   "execution_count": 42,
   "metadata": {},
   "outputs": [
    {
     "data": {
      "image/png": "[encoded data removed]",
      "text/plain": [
       "<Figure size 576x432 with 1 Axes>"
      ]
     },
     "metadata": {
      "needs_background": "light"
     },
     "output_type": "display_data"
    }
   ],
   "source": [
    "plt.figure(figsize=[8, 6])\n",
    "sb.countplot(data=flights_sample, y='UniqueCarrier', color=base_color, \n",
    "             order=flights_sample['UniqueCarrier'].value_counts().index)\n",
    "plt.xlabel('Amount of Flights')\n",
    "plt.ylabel('Carrier')\n",
    "plt.title('Distribution of Flights between Carriers');"
   ]
  },
  {
   "cell_type": "markdown",
   "metadata": {},
   "source": [
    "The most popular airline is DL (Delta Air Lines), and the differences of flight distributions for some airlines are fairy large, I am guessing some of the flight companies stopped their operations between 1987 and 2008."
   ]
  },
  {
   "cell_type": "markdown",
   "metadata": {},
   "source": [
    "Lastly, let's check the amount of flights data we have throughout the years 1987 - 2008. "
   ]
  },
  {
   "cell_type": "code",
   "execution_count": 43,
   "metadata": {},
   "outputs": [
    {
     "data": {
      "image/png": "[encoded data removed]",
      "text/plain": [
       "<Figure size 576x432 with 1 Axes>"
      ]
     },
     "metadata": {
      "needs_background": "light"
     },
     "output_type": "display_data"
    }
   ],
   "source": [
    "plt.figure(figsize=[8, 6])\n",
    "sb.countplot(data=flights_sample, x='Year', color=base_color)\n",
    "plt.xlabel('Year')\n",
    "plt.ylabel('Amount of Flights')\n",
    "plt.title('Amount of Flights Taken per Year')\n",
    "plt.xticks(rotation=90);"
   ]
  },
  {
   "cell_type": "markdown",
   "metadata": {},
   "source": [
    "Without any surprises, each year have a similar amount of flights, since I sampled 10,000 from each year's data."
   ]
  },
  {
   "cell_type": "markdown",
   "metadata": {},
   "source": [
    "### Discuss the distribution(s) of your variable(s) of interest. Were there any unusual points? Did you need to perform any transformations?\n",
    "\n",
    "51.4% of all the flights taken between 1987 and 2008 are on time. The distance variable took on a large range of values, so I looked at the data using a log transform. Under the transformation, the data looked unimodal with the peak at around 300 miles.\n",
    "\n",
    "### Of the features you investigated, were there any unusual distributions? Did you perform any operations on the data to tidy, adjust, or change the form of the data? If so, why did you do this?\n",
    "\n",
    "Day 31 having half as many flights as the other days is a little unexpected initially, but after thinking about it a little deeper, I realized less than half of the month has 31 days, and that explains the lack of flights on that day."
   ]
  },
  {
   "cell_type": "markdown",
   "metadata": {},
   "source": [
    "## Bivariate Exploration\n",
    "\n",
    "First, I would like to look at the distribution of the rate of on-time flights during the day."
   ]
  },
  {
   "cell_type": "code",
   "execution_count": 44,
   "metadata": {},
   "outputs": [
    {
     "data": {
      "image/png": "[encoded data removed]",
      "text/plain": [
       "<Figure size 576x288 with 1 Axes>"
      ]
     },
     "metadata": {
      "needs_background": "light"
     },
     "output_type": "display_data"
    }
   ],
   "source": [
    "bins = np.arange(0, 2400, 100)\n",
    "hours = make_hour_string()\n",
    "\n",
    "plt.figure(figsize=[8, 4])\n",
    "sb.boxplot(data=flights_sample, y='ArrOnTime', x='CRSDepTime', orient='h', color=base_color)\n",
    "plt.xticks(bins, hours)\n",
    "plt.xlabel('Scheduled Departure Time (hh:mm)')\n",
    "plt.yticks([False, True], ['Delayed', 'On-Time'])\n",
    "plt.ylabel('Arrival')\n",
    "plt.title('Arrival Status of Flights on Different Scheduled Departure Time of Day')\n",
    "plt.xticks(rotation=90);"
   ]
  },
  {
   "cell_type": "markdown",
   "metadata": {},
   "source": [
    "The above box plot suggests that on-time flights usually happen during earlier hours. Let's plot this with a violin plot and see if we can get more information out of it."
   ]
  },
  {
   "cell_type": "code",
   "execution_count": 45,
   "metadata": {},
   "outputs": [
    {
     "data": {
      "image/png": "[encoded data removed]",
      "text/plain": [
       "<Figure size 576x288 with 1 Axes>"
      ]
     },
     "metadata": {
      "needs_background": "light"
     },
     "output_type": "display_data"
    }
   ],
   "source": [
    "bins = np.arange(0, 2400, 100)\n",
    "hours = make_hour_string()\n",
    "\n",
    "plt.figure(figsize=[8, 4])\n",
    "sb.violinplot(data=flights_sample, y='ArrOnTime', x='CRSDepTime', orient='h', color=base_color, inner='quartile')\n",
    "plt.xticks(bins, hours)\n",
    "plt.xlabel('Scheduled Departure Time (hh:mm)')\n",
    "plt.yticks([False, True], ['Delayed', 'On-Time'])\n",
    "plt.ylabel('Arrival')\n",
    "plt.title('Arrival Status of Flights on Different Scheduled Departure Time of Day')\n",
    "plt.xticks(rotation=90);"
   ]
  },
  {
   "cell_type": "markdown",
   "metadata": {},
   "source": [
    "The violin plot reveals much more than the earlier box plot. It suggests that about 25% of the on-time arrival flights happen in the morning before 9 AM scheduled departure, and 50% before 12:30 PM schedueld departure, while 25% of delayed arrival flights happen before 10 AM and 50% before 2 PM. "
   ]
  },
  {
   "cell_type": "markdown",
   "metadata": {},
   "source": [
    "Next, we will check to see if on-time arrivals are affected by distance travelled."
   ]
  },
  {
   "cell_type": "code",
   "execution_count": 46,
   "metadata": {},
   "outputs": [],
   "source": [
    "# compute the logarithm of price to make multivariate plotting easier\n",
    "def log_trans(x, inverse = False):\n",
    "    \"\"\" quick function for computing log and power operations \"\"\"\n",
    "    if not inverse:\n",
    "        return np.log10(x)\n",
    "    else:\n",
    "        return np.power(10, x)"
   ]
  },
  {
   "cell_type": "code",
   "execution_count": 47,
   "metadata": {},
   "outputs": [
    {
     "data": {
      "image/png": "[encoded data removed]",
      "text/plain": [
       "<Figure size 576x288 with 1 Axes>"
      ]
     },
     "metadata": {
      "needs_background": "light"
     },
     "output_type": "display_data"
    }
   ],
   "source": [
    "flights_sample['log_distance'] = flights_sample['Distance'].apply(log_trans)\n",
    "\n",
    "log_binsize = 0.15\n",
    "bins = 10 ** np.arange(1, np.log10(flights_sample['Distance'].max())+log_binsize, log_binsize)\n",
    "\n",
    "plt.figure(figsize=[8, 4])\n",
    "\n",
    "sb.violinplot(data=flights_sample, y='ArrOnTime', x='log_distance', orient='h', color=base_color)\n",
    "plt.xticks(log_trans(np.array([20, 50, 100, 200, 500, 1e3, 2e3, 5e3])), \n",
    "           [20, 50, 100, 200, 500, '1k', '2k', '5k'])\n",
    "plt.yticks([False, True], ['Delayed', 'On-Time'])\n",
    "plt.xlabel('Distance (miles)')\n",
    "plt.ylabel('Arrival')\n",
    "plt.title('Arrival Status of Flights Based on Distance Travelled');"
   ]
  },
  {
   "cell_type": "markdown",
   "metadata": {},
   "source": [
    "Since most of the flights in our data are short distance travels, it makes sense that most of the on-time arrivals and delayed arrivals both happen within 1000-mile travel distance. The graphs are pretty similar between on-time arrivals vs delayed arrivals based on distance, and I will not perform any furhter analysis with distance since it doesn't look like it contributes much to our analysis here."
   ]
  },
  {
   "cell_type": "markdown",
   "metadata": {},
   "source": [
    "Next, we will look at the percentage of on-time arrival flights vs delayed arrival flights in DayOfWeek / Month / DayOfMonth / Year."
   ]
  },
  {
   "cell_type": "code",
   "execution_count": 48,
   "metadata": {},
   "outputs": [],
   "source": [
    "def show_percentage(plot, feature, num_of_cat, hue_cat, ax, size):\n",
    "    ''' show percentage on top of bar'''\n",
    "    height = [p.get_height() for p in plot.patches]\n",
    "    patch = [p for p in plot.patches]\n",
    "    \n",
    "    for i in range(num_of_cat):\n",
    "        total = feature.value_counts().sort_index(ascending=True).values[i]\n",
    "        for j in range(hue_cat):\n",
    "            percentage = '{:.1f}%'.format(100 * height[(j * num_of_cat + i)] / total)\n",
    "            x = patch[(j * num_of_cat + i)].get_x() + patch[(j * num_of_cat + i)].get_width() / 2 - 0.17\n",
    "            y = patch[(j * num_of_cat + i)].get_y() + patch[(j * num_of_cat + i)].get_height()/2\n",
    "            ax.annotate(percentage, (x, y), size=size)"
   ]
  },
  {
   "cell_type": "code",
   "execution_count": 49,
   "metadata": {},
   "outputs": [
    {
     "data": {
      "image/png": "[encoded data removed]",
      "text/plain": [
       "<Figure size 1080x720 with 4 Axes>"
      ]
     },
     "metadata": {
      "needs_background": "light"
     },
     "output_type": "display_data"
    }
   ],
   "source": [
    "fig, ax = plt.subplots(nrows = 4, figsize = [15,10])\n",
    "\n",
    "g1 = sb.countplot(data=flights_sample, x='DayOfWeek', hue = 'ArrOnTime', ax=ax[0])\n",
    "ax[0].set_xticks(np.arange(0, 7, 1))\n",
    "ax[0].set_xticklabels(['Monday', 'Tuesday', 'Wednesday', 'Thursday', 'Friday', 'Saturday', 'Sunday'])\n",
    "ax[0].set_xlabel('Day of Week')\n",
    "ax[0].set_ylabel('Amount of Flights')\n",
    "ax[0].get_legend().remove()\n",
    "show_percentage(g1, flights_sample['DayOfWeek'], 7, 2, ax[0], 12)\n",
    "\n",
    "g2 = sb.countplot(data=flights_sample, x='Month', hue = 'ArrOnTime', ax=ax[1])\n",
    "ax[1].set_xticks(np.arange(0,12,1))\n",
    "ax[1].set_xticklabels(['Jan', 'Feb', 'Mar', 'Apr', 'May', 'Jun', 'Jul', 'Aug', 'Sep', 'Oct', 'Nov', 'Dec'])\n",
    "ax[1].set_xlabel('Month')\n",
    "ax[1].set_ylabel('Amount of Flights')\n",
    "ax[1].get_legend().remove()\n",
    "show_percentage(g2, flights_sample['Month'], 12, 2, ax[1], 8)\n",
    "\n",
    "sb.countplot(data=flights_sample, x='DayOfMonth', hue = 'ArrOnTime', ax=ax[2])\n",
    "ax[2].set_xlabel('Day of Month')\n",
    "ax[2].set_ylabel('Amount of Flights')\n",
    "ax[2].get_legend().remove()\n",
    "\n",
    "sb.countplot(data=flights_sample, x='Year', hue = 'ArrOnTime', ax=ax[3])\n",
    "ax[3].set_xlabel('Year')\n",
    "ax[3].set_ylabel('Amount of Flights')\n",
    "ax[3].get_legend().remove()\n",
    "\n",
    "fig.suptitle('Amount of Delayed and On-Time Flights Comparison on Days of Week/Month/Days of Month/Year')\n",
    "fig.legend(bbox_to_anchor=(1.03, 0.87), labels = ['Delayed Arrival', 'On-Time Arrival']);"
   ]
  },
  {
   "cell_type": "markdown",
   "metadata": {},
   "source": [
    "This plot shows some pretty interesting findings. Thursday and Friday are having the least on-time arrival flights while having about the similar amount of total flights as the other weekdays. Weekends have less flights in general, but both of the days are having the highest on-time arrival rates. Between all the months, September has the highest rate for on-time arrivals (58.6%), December has the lowest on-time arrivals rate (44.2%) while being one of the most popular months to travel. Most of the months have more than 50% on-time arrival rate except for Jun (49.7%) and December (44.2%). For individual days of the month, we can see that only the 15th, 16th, 19th, 21st, 22nd and 23rd are having more flight delays than on-times. Overall, flights seem to be more on-time than delayed at the beginning of the month as well as at the end of the month. Between 1987 and 2008, the on-time arrival rate of flights has increased drastically, from 40% on-time arrival rate in 1987 to about 58% on-time arrival rate in 2008. We should be able to expect the on-time arrival rate to only get higher and higher from now on."
   ]
  },
  {
   "cell_type": "markdown",
   "metadata": {},
   "source": [
    "Before closing this section, we'll take a look at the on-time arrival rate of flights of different unique carriers."
   ]
  },
  {
   "cell_type": "code",
   "execution_count": 50,
   "metadata": {},
   "outputs": [
    {
     "data": {
      "image/png": "[encoded data removed]",
      "text/plain": [
       "<Figure size 1008x576 with 1 Axes>"
      ]
     },
     "metadata": {
      "needs_background": "light"
     },
     "output_type": "display_data"
    }
   ],
   "source": [
    "plt.figure(figsize=[14, 8])\n",
    "ax = sb.countplot(data=flights_sample, y='UniqueCarrier', hue = 'ArrOnTime', \n",
    "             order=flights_sample['UniqueCarrier'].value_counts().index)\n",
    "plt.ylabel('Flight Carriers')\n",
    "plt.xlabel('Amount of Flights')\n",
    "plt.title('Delayed vs On-Time Arrivals for Different Carriers')\n",
    "ax.legend(labels = ['Delayed Arrival', 'On-Time Arrival']);"
   ]
  },
  {
   "cell_type": "markdown",
   "metadata": {},
   "source": [
    "For the main airline companies in the United States, DL (Delta Air Lines) operates the most flights in the countries, but its on-time arrival rate does not seem as impressive as the amount of flights its operates. WN (Southwest Airlines) operates the second most flights, while having the most on-time arrival flights between 1987 and 2008. "
   ]
  },
  {
   "cell_type": "markdown",
   "metadata": {},
   "source": [
    "### Talk about some of the relationships you observed in this part of the investigation. How did the feature(s) of interest vary with other features in the dataset?\n",
    "\n",
    "On-time arrival rate actually have a lot to do with the scheduled departure time and amount of people travelling. Rates are a lot better on early morning and on weekends. To my surprise, distance don't show much effects on on-time arrival rate in our investigation, both box plot and violin plot don't have enough information for us to consider distance to be a valuable feature to keep investigating. Carriers can be a big factor for on-time arrivals too. One of the potentially major interacting factors is the fact that popular carriers fly with more people, and therfore result in more delayed arrivals.\n",
    "\n",
    "### Did you observe any interesting relationships between the other features (not the main feature(s) of interest)?\n",
    "\n",
    "Expected on-time arrival rate growth was found in the plot of flights throughout the years. Between 1987 and 2008, the on-time arrival rate of flights has increased drastically, from 40% on-time arrival rate in 1987 to about 58% on-time arrival rate in 2008. We should be able to expect more and more on-time arrivals from now on."
   ]
  },
  {
   "cell_type": "markdown",
   "metadata": {},
   "source": [
    "## Multivariate Exploration"
   ]
  },
  {
   "cell_type": "markdown",
   "metadata": {},
   "source": [
    "The main thing I want to explore in this part of the analysis is how the scheduled departure time, day of week, month and carrier affect the on-time arrival of flight arrivals."
   ]
  },
  {
   "cell_type": "markdown",
   "metadata": {},
   "source": [
    "First, let's look at the relationships between each day of week, scheduled departure time and if the flight arrived on-time or not."
   ]
  },
  {
   "cell_type": "code",
   "execution_count": 51,
   "metadata": {},
   "outputs": [
    {
     "data": {
      "image/png": "[encoded data removed]",
      "text/plain": [
       "<Figure size 864x576 with 1 Axes>"
      ]
     },
     "metadata": {
      "needs_background": "light"
     },
     "output_type": "display_data"
    }
   ],
   "source": [
    "sb.catplot(data=flights_sample, y='DayOfWeek', x='CRSDepTime', hue='ArrOnTime', \n",
    "           orient='h', split=True, color=base_color, kind='violin', \n",
    "           inner='quartile', legend=False, height=8, aspect=1.5)\n",
    "\n",
    "plt.xticks(np.arange(0, 2400, 100), hours)\n",
    "plt.xlabel('Scheduled Departure Time (hh:mm)')\n",
    "plt.xticks(rotation=90)\n",
    "plt.ylabel('Day of Week')\n",
    "plt.yticks(np.arange(0, 7, 1), ['Monday', 'Tuesday', 'Wednesday', 'Thursday', 'Friday', 'Saturday', 'Sunday'])\n",
    "\n",
    "plt.title('Delayed vs On-Time Arrivals based on Days of Week and Scheduled Departure Time')\n",
    "plt.legend(bbox_to_anchor=(1.15, 1), labels = ['Delayed Arrival', 'On-Time Arrival']);"
   ]
  },
  {
   "cell_type": "markdown",
   "metadata": {},
   "source": [
    "This plots supports my theory that on-time arrival flights usually departs earlier, no matter what day of the week we are flying. Interestingly, for Friday, the first quartile lies around 8:30 AM departures, and second quartile lies around 12:30 PM, much earlier than all the other days of the week."
   ]
  },
  {
   "cell_type": "markdown",
   "metadata": {},
   "source": [
    "Next, let's check to which carrier does better on not delaying flights."
   ]
  },
  {
   "cell_type": "code",
   "execution_count": 52,
   "metadata": {},
   "outputs": [
    {
     "data": {
      "text/plain": [
       "DL        29803\n",
       "WN        26656\n",
       "AA        26541\n",
       "US        25312\n",
       "UA        24055\n",
       "NW        18275\n",
       "CO        15008\n",
       "TW         7395\n",
       "HP         6814\n",
       "MQ         5654\n",
       "AS         4894\n",
       "OO         4296\n",
       "XE         3129\n",
       "PI         2373\n",
       "EV         2297\n",
       "EA         2178\n",
       "OH         2032\n",
       "FL         1785\n",
       "B6         1108\n",
       "YV         1074\n",
       "DH          980\n",
       "9E          706\n",
       "PA (1)      694\n",
       "F9          463\n",
       "PS          402\n",
       "HA          371\n",
       "TZ          321\n",
       "AQ          232\n",
       "ML (1)      146\n",
       "Name: UniqueCarrier, dtype: int64"
      ]
     },
     "execution_count": 52,
     "metadata": {},
     "output_type": "execute_result"
    }
   ],
   "source": [
    "flights_sample['UniqueCarrier'].value_counts()"
   ]
  },
  {
   "cell_type": "markdown",
   "metadata": {},
   "source": [
    "First, I would like to see how different carriers do on different days of the week."
   ]
  },
  {
   "cell_type": "code",
   "execution_count": 53,
   "metadata": {
    "scrolled": false
   },
   "outputs": [],
   "source": [
    "# choose carriers with more than 10,000 entries for the 22 years\n",
    "carriers = ['DL', 'WN', 'AA', 'US', 'UA', 'NW', 'CO']\n",
    "flights_sample_sub = flights_sample.loc[flights_sample['UniqueCarrier'].isin(carriers)]\n",
    "\n",
    "df_week = flights_sample_sub.groupby(['DayOfWeek','UniqueCarrier']).agg({'ArrOnTime': 'sum'})\n",
    "df_week['TotalFlights'] = flights_sample_sub.groupby(['DayOfWeek','UniqueCarrier'])['ArrOnTime'].count()\n",
    "df_week['Percentage'] = df_week['ArrOnTime']/df_week['TotalFlights']\n",
    "df_week = df_week.reset_index()"
   ]
  },
  {
   "cell_type": "code",
   "execution_count": 54,
   "metadata": {
    "scrolled": false
   },
   "outputs": [
    {
     "data": {
      "image/png": "[encoded data removed]",
      "text/plain": [
       "<Figure size 1008x576 with 1 Axes>"
      ]
     },
     "metadata": {
      "needs_background": "light"
     },
     "output_type": "display_data"
    }
   ],
   "source": [
    "plt.figure(figsize=[14, 8])\n",
    "\n",
    "ax=sb.barplot(data=df_week, x='DayOfWeek', y='Percentage', hue='UniqueCarrier')\n",
    "\n",
    "vals = ax.get_yticks()\n",
    "plt.xticks(np.arange(0, 7, 1), ['Monday', 'Tuesday', 'Wednesday', 'Thursday', 'Friday', 'Saturday', 'Sunday'])\n",
    "plt.yticks(np.arange(0, 0.8, .1), ['{:.0%}'.format(x) for x in vals])\n",
    "\n",
    "plt.xlabel('Day of Week')\n",
    "plt.ylabel('On-Time Rate')\n",
    "plt.title('On-Time Arrival Rates for Different Carriers between Each Day of the Week')\n",
    "plt.legend(bbox_to_anchor=(1.1, 1));"
   ]
  },
  {
   "cell_type": "markdown",
   "metadata": {},
   "source": [
    "It's very interesting to see DL (Delta Air Lines) has the lowest on-time rate for all the days of the week. WN (Southwest Airlines) does an excellent job on Mondays, Tuesdays and Wednesdays - it has 5% more than the second place carrier on on-time arrial rate. It also performs well on Saturday. On Fridays and Sundays, NW (Northwest Airways) has the highest on-time arrival rate. "
   ]
  },
  {
   "cell_type": "markdown",
   "metadata": {},
   "source": [
    "I would like to also look at how different carriers do throughout the year."
   ]
  },
  {
   "cell_type": "code",
   "execution_count": 55,
   "metadata": {},
   "outputs": [],
   "source": [
    "# choose carriers with more than 10,000 entries for the 22 years\n",
    "df_month = flights_sample_sub.groupby(['Month','UniqueCarrier']).agg({'ArrOnTime': 'sum'})\n",
    "df_month['TotalFlights'] = flights_sample_sub.groupby(['Month','UniqueCarrier'])['ArrOnTime'].count()\n",
    "df_month['Percentage'] = df_month['ArrOnTime']/df_month['TotalFlights']\n",
    "df_month = df_month.reset_index()"
   ]
  },
  {
   "cell_type": "code",
   "execution_count": 56,
   "metadata": {},
   "outputs": [
    {
     "data": {
      "image/png": "[encoded data removed]",
      "text/plain": [
       "<Figure size 1008x576 with 1 Axes>"
      ]
     },
     "metadata": {
      "needs_background": "light"
     },
     "output_type": "display_data"
    }
   ],
   "source": [
    "plt.figure(figsize=[14, 8])\n",
    "sb.barplot(data=df_month, x='Month', y='Percentage', hue='UniqueCarrier')\n",
    "\n",
    "plt.xticks(np.arange(0,12,1), ['Jan', 'Feb', 'Mar', 'Apr', 'May', 'Jun', 'Jul', 'Aug', 'Sep', 'Oct', 'Nov', 'Dec'])\n",
    "plt.yticks(np.arange(0, 0.8, .1), ['{:.0%}'.format(x) for x in vals])\n",
    "plt.xlabel('Years')\n",
    "plt.ylabel('On-Time Rate')\n",
    "\n",
    "plt.title('On-Time Arrival Rates for Different Carriers Throughout the Year')\n",
    "plt.legend(bbox_to_anchor=(1.1, 1));"
   ]
  },
  {
   "cell_type": "markdown",
   "metadata": {},
   "source": [
    "Unsurprisingly, DL (Delta Air Lines) has the lowest on-time rate all year long since they also has the lowest on-time rate in the previous part. WN (Southwest Airlines) has the highest on-time rate for most of the year, even on December, one of the busiest month for travels, it still have about 49% on-time arrival rate. "
   ]
  },
  {
   "cell_type": "markdown",
   "metadata": {},
   "source": [
    "Finally, I am curious if the on-time arrival rate has increased for these carriers throughout the years. "
   ]
  },
  {
   "cell_type": "code",
   "execution_count": 57,
   "metadata": {},
   "outputs": [],
   "source": [
    "# choose carriers with more than 10,000 entries for the 22 years\n",
    "df_year = flights_sample_sub.groupby(['Year','UniqueCarrier']).agg({'ArrOnTime': 'sum'})\n",
    "df_year['TotalFlights'] = flights_sample_sub.groupby(['Year','UniqueCarrier'])['ArrOnTime'].count()\n",
    "df_year['Percentage'] = df_year['ArrOnTime']/df_year['TotalFlights']\n",
    "df_year = df_year.reset_index()"
   ]
  },
  {
   "cell_type": "code",
   "execution_count": 58,
   "metadata": {},
   "outputs": [
    {
     "data": {
      "image/png": "[encoded data removed]",
      "text/plain": [
       "<Figure size 1008x576 with 1 Axes>"
      ]
     },
     "metadata": {
      "needs_background": "light"
     },
     "output_type": "display_data"
    }
   ],
   "source": [
    "plt.figure(figsize=[14, 8])\n",
    "sb.barplot(data=df_year, x='Year', y='Percentage', hue='UniqueCarrier')\n",
    "\n",
    "plt.yticks(np.arange(0, 0.8, .1), ['{:.0%}'.format(x) for x in vals])\n",
    "\n",
    "plt.xlabel('Year')\n",
    "plt.ylabel('On-Time Rate')\n",
    "plt.title('On-Time Arrival Rates for Different Carriers between 1987 and 2008')\n",
    "plt.legend(bbox_to_anchor=(1.1, 1));"
   ]
  },
  {
   "cell_type": "markdown",
   "metadata": {},
   "source": [
    "The on-time rate improved a lot for all the carriers overall! Especially for DL (Delta Air Lines) who went from about 21% in 1987 to 52% in 2008. Combined with the earlier investgations, I believe one of the reasons that DL (Delta Air Lines) has the worst on-time rate might be because we are also factoring data from the old years.\n",
    "\n",
    "It is also interesting to see the distribution of on-time rate. One peak is around 1992, and the other peak is around 2002 and 2003, and another peak at 2008."
   ]
  },
  {
   "cell_type": "markdown",
   "metadata": {},
   "source": [
    "### Talk about some of the relationships you observed in this part of the investigation. Were there features that strengthened each other in terms of looking at your feature(s) of interest?\n",
    "\n",
    "First I explored the relationship between day of week/sheduled departure time and if the flight is delayed or not, and I came to the same conclusion as the previous part - earlier departure times tend to result in more on-time flights.\n",
    "\n",
    "I also extended my investigation of on-time arrival rate against different carriers in this section by looking at the impact of the day of week/month/year. \n",
    "\n",
    "### Were there any interesting or surprising interactions between features?\n",
    "\n",
    "It doesn't seem like anything there's a systematic interaction effect between the year/month/day of week features.  "
   ]
  }
 ],
 "metadata": {
  "kernelspec": {
   "display_name": "Python 3",
   "language": "python",
   "name": "python3"
  },
  "language_info": {
   "codemirror_mode": {
    "name": "ipython",
    "version": 3
   },
   "file_extension": ".py",
   "mimetype": "text/x-python",
   "name": "python",
   "nbconvert_exporter": "python",
   "pygments_lexer": "ipython3",
   "version": "3.8.8"
  }
 },
 "nbformat": 4,
 "nbformat_minor": 2
}
