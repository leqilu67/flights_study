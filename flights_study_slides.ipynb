{
 "cells": [
  {
   "cell_type": "markdown",
   "metadata": {
    "slideshow": {
     "slide_type": "slide"
    }
   },
   "source": [
    "# Best Time to Fly To Minimize Delayed Arrivals\n",
    "## by Leqi Lu"
   ]
  },
  {
   "cell_type": "markdown",
   "metadata": {
    "slideshow": {
     "slide_type": "slide"
    }
   },
   "source": [
    "## Investigation Overview\n",
    "\n",
    "In this investigation, I want to look at the factors that might cause delays in flights and try to figure out what the best time to fly is. The main focus is on scheduled departure time, time of day, day of week and flight carriers.\n",
    "\n",
    "## Dataset Overview\n",
    "\n",
    "This document explores a dataset containing flight arrival and departure details for all commercial flights within the USA, from October 1987 to April 2008. "
   ]
  },
  {
   "cell_type": "code",
   "execution_count": 1,
   "metadata": {
    "slideshow": {
     "slide_type": "skip"
    }
   },
   "outputs": [],
   "source": [
    "# import all packages and set plots to be embedded inline\n",
    "import numpy as np\n",
    "import pandas as pd\n",
    "import matplotlib.pyplot as plt\n",
    "import seaborn as sb\n",
    "\n",
    "%matplotlib inline"
   ]
  },
  {
   "cell_type": "code",
   "execution_count": 2,
   "metadata": {
    "slideshow": {
     "slide_type": "skip"
    }
   },
   "outputs": [
    {
     "name": "stdout",
     "output_type": "stream",
     "text": [
      "['1987.csv', '1988.csv', '1989.csv', '1990.csv', '1991.csv', '1992.csv', '1993.csv', '1994.csv', '1995.csv', '1996.csv', '1997.csv', '1998.csv', '1999.csv', '2000.csv', '2001.csv', '2002.csv', '2003.csv', '2004.csv', '2005.csv', '2006.csv', '2007.csv', '2008.csv']\n"
     ]
    }
   ],
   "source": [
    "# retrieve names of all the csv files \n",
    "import os\n",
    "import re\n",
    "\n",
    "pattern = '\\d+.csv'\n",
    "csv_files = [x for x in os.listdir() if re.match(pattern, x)]\n",
    "print(csv_files)"
   ]
  },
  {
   "cell_type": "code",
   "execution_count": 3,
   "metadata": {
    "slideshow": {
     "slide_type": "skip"
    }
   },
   "outputs": [],
   "source": [
    "# function to sample 10000 entries from each year's data  \n",
    "# and load all the sampled data into flights_sample\n",
    "\n",
    "def load_data(filenames, flights_sample):\n",
    "    '''sample 10000 entries from each year's data \n",
    "       and load all the sampled data into flights_sample'''\n",
    "    for filename in filenames:\n",
    "        print(filename)\n",
    "        df = pd.read_csv(filename, low_memory=False)\n",
    "        df_sample = df.sample(10000, random_state=67)\n",
    "        flights_sample = pd.concat([flights_sample, df_sample], axis=0)\n",
    "        flights_sample.reset_index(drop=True, inplace=True)\n",
    "        del df\n",
    "    return flights_sample"
   ]
  },
  {
   "cell_type": "code",
   "execution_count": 4,
   "metadata": {
    "slideshow": {
     "slide_type": "skip"
    }
   },
   "outputs": [
    {
     "name": "stdout",
     "output_type": "stream",
     "text": [
      "1987.csv\n",
      "1988.csv\n",
      "1989.csv\n",
      "1990.csv\n",
      "1991.csv\n",
      "1992.csv\n",
      "1993.csv\n",
      "1994.csv\n",
      "1995.csv\n",
      "1996.csv\n",
      "1997.csv\n",
      "1998.csv\n",
      "1999.csv\n",
      "2000.csv\n",
      "2001.csv\n",
      "2002.csv\n",
      "2003.csv\n",
      "2004.csv\n",
      "2005.csv\n",
      "2006.csv\n",
      "2007.csv\n",
      "2008.csv\n"
     ]
    }
   ],
   "source": [
    "flights_sample_original = pd.DataFrame()\n",
    "flights_sample_original = load_data(csv_files, flights_sample_original)"
   ]
  },
  {
   "cell_type": "code",
   "execution_count": 5,
   "metadata": {
    "slideshow": {
     "slide_type": "skip"
    }
   },
   "outputs": [],
   "source": [
    "# dropping less relevant columns\n",
    "flights_sample_original = flights_sample_original.drop(columns=['FlightNum', 'TailNum', 'ActualElapsedTime', 'CRSElapsedTime', 'AirTime',\n",
    "                             'Origin', 'Dest', 'TaxiIn', 'TaxiOut', 'Cancelled', 'CancellationCode', 'Diverted', \n",
    "                             'CarrierDelay', 'WeatherDelay', 'NASDelay', 'SecurityDelay', 'LateAircraftDelay'])"
   ]
  },
  {
   "cell_type": "markdown",
   "metadata": {
    "slideshow": {
     "slide_type": "skip"
    }
   },
   "source": [
    "### Quality\n",
    "\n",
    "- ~Erroneous datatypes (DepTime, CRSDepTime, ArrTime, CRSArrTime, ArrDelay, DepDelay)~\n",
    "- ~Missing information on Deptime, ArrTime, ArrDelay, DepDelay, Distance)~\n",
    "\n",
    "### Tidiness\n",
    "- ~DayofMonth does not follow naming convention~"
   ]
  },
  {
   "cell_type": "code",
   "execution_count": 6,
   "metadata": {
    "slideshow": {
     "slide_type": "skip"
    }
   },
   "outputs": [],
   "source": [
    "flights_sample = flights_sample_original.copy()"
   ]
  },
  {
   "cell_type": "markdown",
   "metadata": {
    "slideshow": {
     "slide_type": "skip"
    }
   },
   "source": [
    "#### DayofMonth does not follow naming convention\n",
    "\n",
    "##### Define\n",
    "Change DayofMonth to DayOfMonth\n",
    "\n",
    "##### Code"
   ]
  },
  {
   "cell_type": "code",
   "execution_count": 7,
   "metadata": {
    "slideshow": {
     "slide_type": "skip"
    }
   },
   "outputs": [],
   "source": [
    "flights_sample = flights_sample.rename(columns={'DayofMonth': 'DayOfMonth'})"
   ]
  },
  {
   "cell_type": "code",
   "execution_count": 8,
   "metadata": {
    "slideshow": {
     "slide_type": "skip"
    }
   },
   "outputs": [
    {
     "data": {
      "text/html": [
       "<div>\n",
       "<style scoped>\n",
       "    .dataframe tbody tr th:only-of-type {\n",
       "        vertical-align: middle;\n",
       "    }\n",
       "\n",
       "    .dataframe tbody tr th {\n",
       "        vertical-align: top;\n",
       "    }\n",
       "\n",
       "    .dataframe thead th {\n",
       "        text-align: right;\n",
       "    }\n",
       "</style>\n",
       "<table border=\"1\" class=\"dataframe\">\n",
       "  <thead>\n",
       "    <tr style=\"text-align: right;\">\n",
       "      <th></th>\n",
       "      <th>Year</th>\n",
       "      <th>Month</th>\n",
       "      <th>DayOfMonth</th>\n",
       "      <th>DayOfWeek</th>\n",
       "      <th>DepTime</th>\n",
       "      <th>CRSDepTime</th>\n",
       "      <th>ArrTime</th>\n",
       "      <th>CRSArrTime</th>\n",
       "      <th>ArrDelay</th>\n",
       "      <th>DepDelay</th>\n",
       "      <th>Distance</th>\n",
       "    </tr>\n",
       "  </thead>\n",
       "  <tbody>\n",
       "    <tr>\n",
       "      <th>count</th>\n",
       "      <td>4074.000000</td>\n",
       "      <td>4074.000000</td>\n",
       "      <td>4074.000000</td>\n",
       "      <td>4074.000000</td>\n",
       "      <td>0.0</td>\n",
       "      <td>4074.000000</td>\n",
       "      <td>0.0</td>\n",
       "      <td>4074.000000</td>\n",
       "      <td>0.0</td>\n",
       "      <td>0.0</td>\n",
       "      <td>4068.000000</td>\n",
       "    </tr>\n",
       "    <tr>\n",
       "      <th>mean</th>\n",
       "      <td>1998.767059</td>\n",
       "      <td>6.218949</td>\n",
       "      <td>15.335052</td>\n",
       "      <td>3.766814</td>\n",
       "      <td>NaN</td>\n",
       "      <td>1336.668630</td>\n",
       "      <td>NaN</td>\n",
       "      <td>1489.431762</td>\n",
       "      <td>NaN</td>\n",
       "      <td>NaN</td>\n",
       "      <td>604.562930</td>\n",
       "    </tr>\n",
       "    <tr>\n",
       "      <th>std</th>\n",
       "      <td>5.851504</td>\n",
       "      <td>3.774997</td>\n",
       "      <td>8.569321</td>\n",
       "      <td>1.923179</td>\n",
       "      <td>NaN</td>\n",
       "      <td>473.834831</td>\n",
       "      <td>NaN</td>\n",
       "      <td>494.384986</td>\n",
       "      <td>NaN</td>\n",
       "      <td>NaN</td>\n",
       "      <td>479.536708</td>\n",
       "    </tr>\n",
       "    <tr>\n",
       "      <th>min</th>\n",
       "      <td>1987.000000</td>\n",
       "      <td>1.000000</td>\n",
       "      <td>1.000000</td>\n",
       "      <td>1.000000</td>\n",
       "      <td>NaN</td>\n",
       "      <td>0.000000</td>\n",
       "      <td>NaN</td>\n",
       "      <td>0.000000</td>\n",
       "      <td>NaN</td>\n",
       "      <td>NaN</td>\n",
       "      <td>24.000000</td>\n",
       "    </tr>\n",
       "    <tr>\n",
       "      <th>25%</th>\n",
       "      <td>1995.000000</td>\n",
       "      <td>3.000000</td>\n",
       "      <td>8.000000</td>\n",
       "      <td>2.000000</td>\n",
       "      <td>NaN</td>\n",
       "      <td>930.000000</td>\n",
       "      <td>NaN</td>\n",
       "      <td>1116.250000</td>\n",
       "      <td>NaN</td>\n",
       "      <td>NaN</td>\n",
       "      <td>265.500000</td>\n",
       "    </tr>\n",
       "    <tr>\n",
       "      <th>50%</th>\n",
       "      <td>1999.000000</td>\n",
       "      <td>6.000000</td>\n",
       "      <td>15.000000</td>\n",
       "      <td>4.000000</td>\n",
       "      <td>NaN</td>\n",
       "      <td>1340.000000</td>\n",
       "      <td>NaN</td>\n",
       "      <td>1528.500000</td>\n",
       "      <td>NaN</td>\n",
       "      <td>NaN</td>\n",
       "      <td>448.000000</td>\n",
       "    </tr>\n",
       "    <tr>\n",
       "      <th>75%</th>\n",
       "      <td>2003.000000</td>\n",
       "      <td>9.000000</td>\n",
       "      <td>23.000000</td>\n",
       "      <td>5.000000</td>\n",
       "      <td>NaN</td>\n",
       "      <td>1725.000000</td>\n",
       "      <td>NaN</td>\n",
       "      <td>1908.000000</td>\n",
       "      <td>NaN</td>\n",
       "      <td>NaN</td>\n",
       "      <td>799.000000</td>\n",
       "    </tr>\n",
       "    <tr>\n",
       "      <th>max</th>\n",
       "      <td>2008.000000</td>\n",
       "      <td>12.000000</td>\n",
       "      <td>31.000000</td>\n",
       "      <td>7.000000</td>\n",
       "      <td>NaN</td>\n",
       "      <td>2359.000000</td>\n",
       "      <td>NaN</td>\n",
       "      <td>2359.000000</td>\n",
       "      <td>NaN</td>\n",
       "      <td>NaN</td>\n",
       "      <td>3801.000000</td>\n",
       "    </tr>\n",
       "  </tbody>\n",
       "</table>\n",
       "</div>"
      ],
      "text/plain": [
       "              Year        Month   DayOfMonth    DayOfWeek  DepTime  \\\n",
       "count  4074.000000  4074.000000  4074.000000  4074.000000      0.0   \n",
       "mean   1998.767059     6.218949    15.335052     3.766814      NaN   \n",
       "std       5.851504     3.774997     8.569321     1.923179      NaN   \n",
       "min    1987.000000     1.000000     1.000000     1.000000      NaN   \n",
       "25%    1995.000000     3.000000     8.000000     2.000000      NaN   \n",
       "50%    1999.000000     6.000000    15.000000     4.000000      NaN   \n",
       "75%    2003.000000     9.000000    23.000000     5.000000      NaN   \n",
       "max    2008.000000    12.000000    31.000000     7.000000      NaN   \n",
       "\n",
       "        CRSDepTime  ArrTime   CRSArrTime  ArrDelay  DepDelay     Distance  \n",
       "count  4074.000000      0.0  4074.000000       0.0       0.0  4068.000000  \n",
       "mean   1336.668630      NaN  1489.431762       NaN       NaN   604.562930  \n",
       "std     473.834831      NaN   494.384986       NaN       NaN   479.536708  \n",
       "min       0.000000      NaN     0.000000       NaN       NaN    24.000000  \n",
       "25%     930.000000      NaN  1116.250000       NaN       NaN   265.500000  \n",
       "50%    1340.000000      NaN  1528.500000       NaN       NaN   448.000000  \n",
       "75%    1725.000000      NaN  1908.000000       NaN       NaN   799.000000  \n",
       "max    2359.000000      NaN  2359.000000       NaN       NaN  3801.000000  "
      ]
     },
     "execution_count": 8,
     "metadata": {},
     "output_type": "execute_result"
    }
   ],
   "source": [
    "# check null DepTime records\n",
    "dep_null = flights_sample['DepTime'].isnull()\n",
    "flights_sample.loc[dep_null, :].describe()"
   ]
  },
  {
   "cell_type": "code",
   "execution_count": 9,
   "metadata": {
    "slideshow": {
     "slide_type": "skip"
    }
   },
   "outputs": [],
   "source": [
    "# dep_null records are all missing DepTime, ArrTime, ArrDelay and DepDelay, we could remove them safely\n",
    "flights_sample.drop(flights_sample.index[dep_null], inplace=True)"
   ]
  },
  {
   "cell_type": "code",
   "execution_count": 10,
   "metadata": {
    "slideshow": {
     "slide_type": "skip"
    }
   },
   "outputs": [
    {
     "data": {
      "text/html": [
       "<div>\n",
       "<style scoped>\n",
       "    .dataframe tbody tr th:only-of-type {\n",
       "        vertical-align: middle;\n",
       "    }\n",
       "\n",
       "    .dataframe tbody tr th {\n",
       "        vertical-align: top;\n",
       "    }\n",
       "\n",
       "    .dataframe thead th {\n",
       "        text-align: right;\n",
       "    }\n",
       "</style>\n",
       "<table border=\"1\" class=\"dataframe\">\n",
       "  <thead>\n",
       "    <tr style=\"text-align: right;\">\n",
       "      <th></th>\n",
       "      <th>Year</th>\n",
       "      <th>Month</th>\n",
       "      <th>DayOfMonth</th>\n",
       "      <th>DayOfWeek</th>\n",
       "      <th>DepTime</th>\n",
       "      <th>CRSDepTime</th>\n",
       "      <th>ArrTime</th>\n",
       "      <th>CRSArrTime</th>\n",
       "      <th>ArrDelay</th>\n",
       "      <th>DepDelay</th>\n",
       "      <th>Distance</th>\n",
       "    </tr>\n",
       "  </thead>\n",
       "  <tbody>\n",
       "    <tr>\n",
       "      <th>count</th>\n",
       "      <td>523.000000</td>\n",
       "      <td>523.000000</td>\n",
       "      <td>523.000000</td>\n",
       "      <td>523.000000</td>\n",
       "      <td>523.000000</td>\n",
       "      <td>523.00000</td>\n",
       "      <td>0.0</td>\n",
       "      <td>523.000000</td>\n",
       "      <td>0.0</td>\n",
       "      <td>523.000000</td>\n",
       "      <td>522.000000</td>\n",
       "    </tr>\n",
       "    <tr>\n",
       "      <th>mean</th>\n",
       "      <td>1996.606119</td>\n",
       "      <td>6.743786</td>\n",
       "      <td>16.428298</td>\n",
       "      <td>3.963671</td>\n",
       "      <td>1379.527725</td>\n",
       "      <td>1349.31740</td>\n",
       "      <td>NaN</td>\n",
       "      <td>1549.944551</td>\n",
       "      <td>NaN</td>\n",
       "      <td>25.502868</td>\n",
       "      <td>894.764368</td>\n",
       "    </tr>\n",
       "    <tr>\n",
       "      <th>std</th>\n",
       "      <td>6.593399</td>\n",
       "      <td>3.583077</td>\n",
       "      <td>8.534364</td>\n",
       "      <td>1.961463</td>\n",
       "      <td>511.588152</td>\n",
       "      <td>494.67929</td>\n",
       "      <td>NaN</td>\n",
       "      <td>515.850786</td>\n",
       "      <td>NaN</td>\n",
       "      <td>74.155769</td>\n",
       "      <td>644.095861</td>\n",
       "    </tr>\n",
       "    <tr>\n",
       "      <th>min</th>\n",
       "      <td>1987.000000</td>\n",
       "      <td>1.000000</td>\n",
       "      <td>1.000000</td>\n",
       "      <td>1.000000</td>\n",
       "      <td>19.000000</td>\n",
       "      <td>0.00000</td>\n",
       "      <td>NaN</td>\n",
       "      <td>0.000000</td>\n",
       "      <td>NaN</td>\n",
       "      <td>-855.000000</td>\n",
       "      <td>21.000000</td>\n",
       "    </tr>\n",
       "    <tr>\n",
       "      <th>25%</th>\n",
       "      <td>1990.000000</td>\n",
       "      <td>3.500000</td>\n",
       "      <td>9.500000</td>\n",
       "      <td>2.000000</td>\n",
       "      <td>914.000000</td>\n",
       "      <td>900.00000</td>\n",
       "      <td>NaN</td>\n",
       "      <td>1136.000000</td>\n",
       "      <td>NaN</td>\n",
       "      <td>-1.000000</td>\n",
       "      <td>404.500000</td>\n",
       "    </tr>\n",
       "    <tr>\n",
       "      <th>50%</th>\n",
       "      <td>1996.000000</td>\n",
       "      <td>7.000000</td>\n",
       "      <td>16.000000</td>\n",
       "      <td>4.000000</td>\n",
       "      <td>1407.000000</td>\n",
       "      <td>1355.00000</td>\n",
       "      <td>NaN</td>\n",
       "      <td>1630.000000</td>\n",
       "      <td>NaN</td>\n",
       "      <td>2.000000</td>\n",
       "      <td>743.500000</td>\n",
       "    </tr>\n",
       "    <tr>\n",
       "      <th>75%</th>\n",
       "      <td>2002.000000</td>\n",
       "      <td>10.000000</td>\n",
       "      <td>23.000000</td>\n",
       "      <td>6.000000</td>\n",
       "      <td>1816.000000</td>\n",
       "      <td>1737.00000</td>\n",
       "      <td>NaN</td>\n",
       "      <td>1949.500000</td>\n",
       "      <td>NaN</td>\n",
       "      <td>25.000000</td>\n",
       "      <td>1165.000000</td>\n",
       "    </tr>\n",
       "    <tr>\n",
       "      <th>max</th>\n",
       "      <td>2008.000000</td>\n",
       "      <td>12.000000</td>\n",
       "      <td>31.000000</td>\n",
       "      <td>7.000000</td>\n",
       "      <td>2333.000000</td>\n",
       "      <td>2318.00000</td>\n",
       "      <td>NaN</td>\n",
       "      <td>2400.000000</td>\n",
       "      <td>NaN</td>\n",
       "      <td>735.000000</td>\n",
       "      <td>4243.000000</td>\n",
       "    </tr>\n",
       "  </tbody>\n",
       "</table>\n",
       "</div>"
      ],
      "text/plain": [
       "              Year       Month  DayOfMonth   DayOfWeek      DepTime  \\\n",
       "count   523.000000  523.000000  523.000000  523.000000   523.000000   \n",
       "mean   1996.606119    6.743786   16.428298    3.963671  1379.527725   \n",
       "std       6.593399    3.583077    8.534364    1.961463   511.588152   \n",
       "min    1987.000000    1.000000    1.000000    1.000000    19.000000   \n",
       "25%    1990.000000    3.500000    9.500000    2.000000   914.000000   \n",
       "50%    1996.000000    7.000000   16.000000    4.000000  1407.000000   \n",
       "75%    2002.000000   10.000000   23.000000    6.000000  1816.000000   \n",
       "max    2008.000000   12.000000   31.000000    7.000000  2333.000000   \n",
       "\n",
       "       CRSDepTime  ArrTime   CRSArrTime  ArrDelay    DepDelay     Distance  \n",
       "count   523.00000      0.0   523.000000       0.0  523.000000   522.000000  \n",
       "mean   1349.31740      NaN  1549.944551       NaN   25.502868   894.764368  \n",
       "std     494.67929      NaN   515.850786       NaN   74.155769   644.095861  \n",
       "min       0.00000      NaN     0.000000       NaN -855.000000    21.000000  \n",
       "25%     900.00000      NaN  1136.000000       NaN   -1.000000   404.500000  \n",
       "50%    1355.00000      NaN  1630.000000       NaN    2.000000   743.500000  \n",
       "75%    1737.00000      NaN  1949.500000       NaN   25.000000  1165.000000  \n",
       "max    2318.00000      NaN  2400.000000       NaN  735.000000  4243.000000  "
      ]
     },
     "execution_count": 10,
     "metadata": {},
     "output_type": "execute_result"
    }
   ],
   "source": [
    "# check null arrTime records\n",
    "arr_null = flights_sample['ArrTime'].isnull()\n",
    "flights_sample.loc[arr_null, :].describe()"
   ]
  },
  {
   "cell_type": "code",
   "execution_count": 11,
   "metadata": {
    "slideshow": {
     "slide_type": "skip"
    }
   },
   "outputs": [],
   "source": [
    "# remove null arrTime records\n",
    "flights_sample.drop(flights_sample.index[arr_null], inplace=True)"
   ]
  },
  {
   "cell_type": "code",
   "execution_count": 12,
   "metadata": {
    "slideshow": {
     "slide_type": "skip"
    }
   },
   "outputs": [
    {
     "data": {
      "text/html": [
       "<div>\n",
       "<style scoped>\n",
       "    .dataframe tbody tr th:only-of-type {\n",
       "        vertical-align: middle;\n",
       "    }\n",
       "\n",
       "    .dataframe tbody tr th {\n",
       "        vertical-align: top;\n",
       "    }\n",
       "\n",
       "    .dataframe thead th {\n",
       "        text-align: right;\n",
       "    }\n",
       "</style>\n",
       "<table border=\"1\" class=\"dataframe\">\n",
       "  <thead>\n",
       "    <tr style=\"text-align: right;\">\n",
       "      <th></th>\n",
       "      <th>Year</th>\n",
       "      <th>Month</th>\n",
       "      <th>DayOfMonth</th>\n",
       "      <th>DayOfWeek</th>\n",
       "      <th>DepTime</th>\n",
       "      <th>CRSDepTime</th>\n",
       "      <th>ArrTime</th>\n",
       "      <th>CRSArrTime</th>\n",
       "      <th>UniqueCarrier</th>\n",
       "      <th>ArrDelay</th>\n",
       "      <th>DepDelay</th>\n",
       "      <th>Distance</th>\n",
       "    </tr>\n",
       "  </thead>\n",
       "  <tbody>\n",
       "    <tr>\n",
       "      <th>210470</th>\n",
       "      <td>2008</td>\n",
       "      <td>10</td>\n",
       "      <td>25</td>\n",
       "      <td>6</td>\n",
       "      <td>1533.0</td>\n",
       "      <td>1540</td>\n",
       "      <td>2312.0</td>\n",
       "      <td>1725</td>\n",
       "      <td>MQ</td>\n",
       "      <td>NaN</td>\n",
       "      <td>-7.0</td>\n",
       "      <td>431.0</td>\n",
       "    </tr>\n",
       "    <tr>\n",
       "      <th>213386</th>\n",
       "      <td>2008</td>\n",
       "      <td>12</td>\n",
       "      <td>24</td>\n",
       "      <td>3</td>\n",
       "      <td>941.0</td>\n",
       "      <td>855</td>\n",
       "      <td>1126.0</td>\n",
       "      <td>945</td>\n",
       "      <td>WN</td>\n",
       "      <td>NaN</td>\n",
       "      <td>46.0</td>\n",
       "      <td>181.0</td>\n",
       "    </tr>\n",
       "    <tr>\n",
       "      <th>214203</th>\n",
       "      <td>2008</td>\n",
       "      <td>10</td>\n",
       "      <td>26</td>\n",
       "      <td>7</td>\n",
       "      <td>1717.0</td>\n",
       "      <td>1720</td>\n",
       "      <td>908.0</td>\n",
       "      <td>558</td>\n",
       "      <td>NW</td>\n",
       "      <td>NaN</td>\n",
       "      <td>-3.0</td>\n",
       "      <td>3972.0</td>\n",
       "    </tr>\n",
       "    <tr>\n",
       "      <th>214563</th>\n",
       "      <td>2008</td>\n",
       "      <td>12</td>\n",
       "      <td>27</td>\n",
       "      <td>6</td>\n",
       "      <td>720.0</td>\n",
       "      <td>650</td>\n",
       "      <td>1240.0</td>\n",
       "      <td>900</td>\n",
       "      <td>MQ</td>\n",
       "      <td>NaN</td>\n",
       "      <td>30.0</td>\n",
       "      <td>1021.0</td>\n",
       "    </tr>\n",
       "    <tr>\n",
       "      <th>216466</th>\n",
       "      <td>2008</td>\n",
       "      <td>11</td>\n",
       "      <td>29</td>\n",
       "      <td>6</td>\n",
       "      <td>556.0</td>\n",
       "      <td>600</td>\n",
       "      <td>1101.0</td>\n",
       "      <td>950</td>\n",
       "      <td>UA</td>\n",
       "      <td>NaN</td>\n",
       "      <td>-4.0</td>\n",
       "      <td>2704.0</td>\n",
       "    </tr>\n",
       "  </tbody>\n",
       "</table>\n",
       "</div>"
      ],
      "text/plain": [
       "        Year  Month  DayOfMonth  DayOfWeek  DepTime  CRSDepTime  ArrTime  \\\n",
       "210470  2008     10          25          6   1533.0        1540   2312.0   \n",
       "213386  2008     12          24          3    941.0         855   1126.0   \n",
       "214203  2008     10          26          7   1717.0        1720    908.0   \n",
       "214563  2008     12          27          6    720.0         650   1240.0   \n",
       "216466  2008     11          29          6    556.0         600   1101.0   \n",
       "\n",
       "        CRSArrTime UniqueCarrier  ArrDelay  DepDelay  Distance  \n",
       "210470        1725            MQ       NaN      -7.0     431.0  \n",
       "213386         945            WN       NaN      46.0     181.0  \n",
       "214203         558            NW       NaN      -3.0    3972.0  \n",
       "214563         900            MQ       NaN      30.0    1021.0  \n",
       "216466         950            UA       NaN      -4.0    2704.0  "
      ]
     },
     "execution_count": 12,
     "metadata": {},
     "output_type": "execute_result"
    }
   ],
   "source": [
    "# check null ArrDelay records\n",
    "arr_delay_null = flights_sample['ArrDelay'].isnull()\n",
    "flights_sample.loc[arr_delay_null, :]"
   ]
  },
  {
   "cell_type": "code",
   "execution_count": 13,
   "metadata": {
    "slideshow": {
     "slide_type": "skip"
    }
   },
   "outputs": [],
   "source": [
    "# manually fill the null entries for ArrDelay\n",
    "flights_sample.at[210470, 'ArrDelay'] = 547\n",
    "flights_sample.at[213386, 'ArrDelay'] = 141\n",
    "flights_sample.at[214203, 'ArrDelay'] = 310\n",
    "flights_sample.at[214563, 'ArrDelay'] = 340\n",
    "flights_sample.at[216466, 'ArrDelay'] = 111"
   ]
  },
  {
   "cell_type": "code",
   "execution_count": 14,
   "metadata": {
    "slideshow": {
     "slide_type": "skip"
    }
   },
   "outputs": [
    {
     "data": {
      "text/html": [
       "<div>\n",
       "<style scoped>\n",
       "    .dataframe tbody tr th:only-of-type {\n",
       "        vertical-align: middle;\n",
       "    }\n",
       "\n",
       "    .dataframe tbody tr th {\n",
       "        vertical-align: top;\n",
       "    }\n",
       "\n",
       "    .dataframe thead th {\n",
       "        text-align: right;\n",
       "    }\n",
       "</style>\n",
       "<table border=\"1\" class=\"dataframe\">\n",
       "  <thead>\n",
       "    <tr style=\"text-align: right;\">\n",
       "      <th></th>\n",
       "      <th>Year</th>\n",
       "      <th>Month</th>\n",
       "      <th>DayOfMonth</th>\n",
       "      <th>DayOfWeek</th>\n",
       "      <th>DepTime</th>\n",
       "      <th>CRSDepTime</th>\n",
       "      <th>ArrTime</th>\n",
       "      <th>CRSArrTime</th>\n",
       "      <th>UniqueCarrier</th>\n",
       "      <th>ArrDelay</th>\n",
       "      <th>DepDelay</th>\n",
       "      <th>Distance</th>\n",
       "    </tr>\n",
       "  </thead>\n",
       "  <tbody>\n",
       "    <tr>\n",
       "      <th>210470</th>\n",
       "      <td>2008</td>\n",
       "      <td>10</td>\n",
       "      <td>25</td>\n",
       "      <td>6</td>\n",
       "      <td>1533.0</td>\n",
       "      <td>1540</td>\n",
       "      <td>2312.0</td>\n",
       "      <td>1725</td>\n",
       "      <td>MQ</td>\n",
       "      <td>547.0</td>\n",
       "      <td>-7.0</td>\n",
       "      <td>431.0</td>\n",
       "    </tr>\n",
       "    <tr>\n",
       "      <th>213386</th>\n",
       "      <td>2008</td>\n",
       "      <td>12</td>\n",
       "      <td>24</td>\n",
       "      <td>3</td>\n",
       "      <td>941.0</td>\n",
       "      <td>855</td>\n",
       "      <td>1126.0</td>\n",
       "      <td>945</td>\n",
       "      <td>WN</td>\n",
       "      <td>141.0</td>\n",
       "      <td>46.0</td>\n",
       "      <td>181.0</td>\n",
       "    </tr>\n",
       "    <tr>\n",
       "      <th>214203</th>\n",
       "      <td>2008</td>\n",
       "      <td>10</td>\n",
       "      <td>26</td>\n",
       "      <td>7</td>\n",
       "      <td>1717.0</td>\n",
       "      <td>1720</td>\n",
       "      <td>908.0</td>\n",
       "      <td>558</td>\n",
       "      <td>NW</td>\n",
       "      <td>310.0</td>\n",
       "      <td>-3.0</td>\n",
       "      <td>3972.0</td>\n",
       "    </tr>\n",
       "    <tr>\n",
       "      <th>214563</th>\n",
       "      <td>2008</td>\n",
       "      <td>12</td>\n",
       "      <td>27</td>\n",
       "      <td>6</td>\n",
       "      <td>720.0</td>\n",
       "      <td>650</td>\n",
       "      <td>1240.0</td>\n",
       "      <td>900</td>\n",
       "      <td>MQ</td>\n",
       "      <td>340.0</td>\n",
       "      <td>30.0</td>\n",
       "      <td>1021.0</td>\n",
       "    </tr>\n",
       "    <tr>\n",
       "      <th>216466</th>\n",
       "      <td>2008</td>\n",
       "      <td>11</td>\n",
       "      <td>29</td>\n",
       "      <td>6</td>\n",
       "      <td>556.0</td>\n",
       "      <td>600</td>\n",
       "      <td>1101.0</td>\n",
       "      <td>950</td>\n",
       "      <td>UA</td>\n",
       "      <td>111.0</td>\n",
       "      <td>-4.0</td>\n",
       "      <td>2704.0</td>\n",
       "    </tr>\n",
       "  </tbody>\n",
       "</table>\n",
       "</div>"
      ],
      "text/plain": [
       "        Year  Month  DayOfMonth  DayOfWeek  DepTime  CRSDepTime  ArrTime  \\\n",
       "210470  2008     10          25          6   1533.0        1540   2312.0   \n",
       "213386  2008     12          24          3    941.0         855   1126.0   \n",
       "214203  2008     10          26          7   1717.0        1720    908.0   \n",
       "214563  2008     12          27          6    720.0         650   1240.0   \n",
       "216466  2008     11          29          6    556.0         600   1101.0   \n",
       "\n",
       "        CRSArrTime UniqueCarrier  ArrDelay  DepDelay  Distance  \n",
       "210470        1725            MQ     547.0      -7.0     431.0  \n",
       "213386         945            WN     141.0      46.0     181.0  \n",
       "214203         558            NW     310.0      -3.0    3972.0  \n",
       "214563         900            MQ     340.0      30.0    1021.0  \n",
       "216466         950            UA     111.0      -4.0    2704.0  "
      ]
     },
     "execution_count": 14,
     "metadata": {},
     "output_type": "execute_result"
    }
   ],
   "source": [
    "flights_sample.loc[arr_delay_null, :]"
   ]
  },
  {
   "cell_type": "code",
   "execution_count": 15,
   "metadata": {
    "slideshow": {
     "slide_type": "skip"
    }
   },
   "outputs": [
    {
     "data": {
      "text/html": [
       "<div>\n",
       "<style scoped>\n",
       "    .dataframe tbody tr th:only-of-type {\n",
       "        vertical-align: middle;\n",
       "    }\n",
       "\n",
       "    .dataframe tbody tr th {\n",
       "        vertical-align: top;\n",
       "    }\n",
       "\n",
       "    .dataframe thead th {\n",
       "        text-align: right;\n",
       "    }\n",
       "</style>\n",
       "<table border=\"1\" class=\"dataframe\">\n",
       "  <thead>\n",
       "    <tr style=\"text-align: right;\">\n",
       "      <th></th>\n",
       "      <th>Year</th>\n",
       "      <th>Month</th>\n",
       "      <th>DayOfMonth</th>\n",
       "      <th>DayOfWeek</th>\n",
       "      <th>DepTime</th>\n",
       "      <th>CRSDepTime</th>\n",
       "      <th>ArrTime</th>\n",
       "      <th>CRSArrTime</th>\n",
       "      <th>UniqueCarrier</th>\n",
       "      <th>ArrDelay</th>\n",
       "      <th>DepDelay</th>\n",
       "      <th>Distance</th>\n",
       "    </tr>\n",
       "  </thead>\n",
       "  <tbody>\n",
       "    <tr>\n",
       "      <th>145</th>\n",
       "      <td>1987</td>\n",
       "      <td>12</td>\n",
       "      <td>15</td>\n",
       "      <td>2</td>\n",
       "      <td>1315.0</td>\n",
       "      <td>1255</td>\n",
       "      <td>1554.0</td>\n",
       "      <td>1535</td>\n",
       "      <td>AS</td>\n",
       "      <td>19.0</td>\n",
       "      <td>20.0</td>\n",
       "      <td>NaN</td>\n",
       "    </tr>\n",
       "    <tr>\n",
       "      <th>1856</th>\n",
       "      <td>1987</td>\n",
       "      <td>11</td>\n",
       "      <td>20</td>\n",
       "      <td>5</td>\n",
       "      <td>914.0</td>\n",
       "      <td>915</td>\n",
       "      <td>1003.0</td>\n",
       "      <td>945</td>\n",
       "      <td>AS</td>\n",
       "      <td>18.0</td>\n",
       "      <td>-1.0</td>\n",
       "      <td>NaN</td>\n",
       "    </tr>\n",
       "    <tr>\n",
       "      <th>2119</th>\n",
       "      <td>1987</td>\n",
       "      <td>11</td>\n",
       "      <td>3</td>\n",
       "      <td>2</td>\n",
       "      <td>700.0</td>\n",
       "      <td>700</td>\n",
       "      <td>749.0</td>\n",
       "      <td>755</td>\n",
       "      <td>AS</td>\n",
       "      <td>-6.0</td>\n",
       "      <td>0.0</td>\n",
       "      <td>NaN</td>\n",
       "    </tr>\n",
       "    <tr>\n",
       "      <th>3618</th>\n",
       "      <td>1987</td>\n",
       "      <td>11</td>\n",
       "      <td>3</td>\n",
       "      <td>2</td>\n",
       "      <td>825.0</td>\n",
       "      <td>830</td>\n",
       "      <td>1100.0</td>\n",
       "      <td>1111</td>\n",
       "      <td>AS</td>\n",
       "      <td>-11.0</td>\n",
       "      <td>-5.0</td>\n",
       "      <td>NaN</td>\n",
       "    </tr>\n",
       "    <tr>\n",
       "      <th>4913</th>\n",
       "      <td>1987</td>\n",
       "      <td>11</td>\n",
       "      <td>22</td>\n",
       "      <td>7</td>\n",
       "      <td>1547.0</td>\n",
       "      <td>1550</td>\n",
       "      <td>1637.0</td>\n",
       "      <td>1635</td>\n",
       "      <td>AS</td>\n",
       "      <td>2.0</td>\n",
       "      <td>-3.0</td>\n",
       "      <td>NaN</td>\n",
       "    </tr>\n",
       "    <tr>\n",
       "      <th>...</th>\n",
       "      <td>...</td>\n",
       "      <td>...</td>\n",
       "      <td>...</td>\n",
       "      <td>...</td>\n",
       "      <td>...</td>\n",
       "      <td>...</td>\n",
       "      <td>...</td>\n",
       "      <td>...</td>\n",
       "      <td>...</td>\n",
       "      <td>...</td>\n",
       "      <td>...</td>\n",
       "      <td>...</td>\n",
       "    </tr>\n",
       "    <tr>\n",
       "      <th>85875</th>\n",
       "      <td>1995</td>\n",
       "      <td>10</td>\n",
       "      <td>26</td>\n",
       "      <td>4</td>\n",
       "      <td>616.0</td>\n",
       "      <td>615</td>\n",
       "      <td>726.0</td>\n",
       "      <td>719</td>\n",
       "      <td>DL</td>\n",
       "      <td>7.0</td>\n",
       "      <td>1.0</td>\n",
       "      <td>NaN</td>\n",
       "    </tr>\n",
       "    <tr>\n",
       "      <th>86902</th>\n",
       "      <td>1995</td>\n",
       "      <td>11</td>\n",
       "      <td>7</td>\n",
       "      <td>2</td>\n",
       "      <td>942.0</td>\n",
       "      <td>942</td>\n",
       "      <td>1049.0</td>\n",
       "      <td>1050</td>\n",
       "      <td>DL</td>\n",
       "      <td>-1.0</td>\n",
       "      <td>0.0</td>\n",
       "      <td>NaN</td>\n",
       "    </tr>\n",
       "    <tr>\n",
       "      <th>87278</th>\n",
       "      <td>1995</td>\n",
       "      <td>10</td>\n",
       "      <td>9</td>\n",
       "      <td>1</td>\n",
       "      <td>1040.0</td>\n",
       "      <td>1040</td>\n",
       "      <td>1145.0</td>\n",
       "      <td>1140</td>\n",
       "      <td>WN</td>\n",
       "      <td>5.0</td>\n",
       "      <td>0.0</td>\n",
       "      <td>NaN</td>\n",
       "    </tr>\n",
       "    <tr>\n",
       "      <th>89735</th>\n",
       "      <td>1995</td>\n",
       "      <td>11</td>\n",
       "      <td>15</td>\n",
       "      <td>3</td>\n",
       "      <td>1735.0</td>\n",
       "      <td>1735</td>\n",
       "      <td>1915.0</td>\n",
       "      <td>1940</td>\n",
       "      <td>WN</td>\n",
       "      <td>-25.0</td>\n",
       "      <td>0.0</td>\n",
       "      <td>NaN</td>\n",
       "    </tr>\n",
       "    <tr>\n",
       "      <th>89838</th>\n",
       "      <td>1995</td>\n",
       "      <td>10</td>\n",
       "      <td>25</td>\n",
       "      <td>3</td>\n",
       "      <td>908.0</td>\n",
       "      <td>910</td>\n",
       "      <td>951.0</td>\n",
       "      <td>1001</td>\n",
       "      <td>NW</td>\n",
       "      <td>-10.0</td>\n",
       "      <td>-2.0</td>\n",
       "      <td>NaN</td>\n",
       "    </tr>\n",
       "  </tbody>\n",
       "</table>\n",
       "<p>409 rows × 12 columns</p>\n",
       "</div>"
      ],
      "text/plain": [
       "       Year  Month  DayOfMonth  DayOfWeek  DepTime  CRSDepTime  ArrTime  \\\n",
       "145    1987     12          15          2   1315.0        1255   1554.0   \n",
       "1856   1987     11          20          5    914.0         915   1003.0   \n",
       "2119   1987     11           3          2    700.0         700    749.0   \n",
       "3618   1987     11           3          2    825.0         830   1100.0   \n",
       "4913   1987     11          22          7   1547.0        1550   1637.0   \n",
       "...     ...    ...         ...        ...      ...         ...      ...   \n",
       "85875  1995     10          26          4    616.0         615    726.0   \n",
       "86902  1995     11           7          2    942.0         942   1049.0   \n",
       "87278  1995     10           9          1   1040.0        1040   1145.0   \n",
       "89735  1995     11          15          3   1735.0        1735   1915.0   \n",
       "89838  1995     10          25          3    908.0         910    951.0   \n",
       "\n",
       "       CRSArrTime UniqueCarrier  ArrDelay  DepDelay  Distance  \n",
       "145          1535            AS      19.0      20.0       NaN  \n",
       "1856          945            AS      18.0      -1.0       NaN  \n",
       "2119          755            AS      -6.0       0.0       NaN  \n",
       "3618         1111            AS     -11.0      -5.0       NaN  \n",
       "4913         1635            AS       2.0      -3.0       NaN  \n",
       "...           ...           ...       ...       ...       ...  \n",
       "85875         719            DL       7.0       1.0       NaN  \n",
       "86902        1050            DL      -1.0       0.0       NaN  \n",
       "87278        1140            WN       5.0       0.0       NaN  \n",
       "89735        1940            WN     -25.0       0.0       NaN  \n",
       "89838        1001            NW     -10.0      -2.0       NaN  \n",
       "\n",
       "[409 rows x 12 columns]"
      ]
     },
     "execution_count": 15,
     "metadata": {},
     "output_type": "execute_result"
    }
   ],
   "source": [
    "# check null distance entries\n",
    "dist_null = flights_sample['Distance'].isnull()\n",
    "flights_sample.loc[dist_null, :]"
   ]
  },
  {
   "cell_type": "code",
   "execution_count": 16,
   "metadata": {
    "slideshow": {
     "slide_type": "skip"
    }
   },
   "outputs": [],
   "source": [
    "# there are only 409 entries and we cannot meaningfully fill them with means or medians, \n",
    "# so we are removing them\n",
    "flights_sample.drop(flights_sample.index[dist_null], inplace=True)"
   ]
  },
  {
   "cell_type": "markdown",
   "metadata": {
    "slideshow": {
     "slide_type": "skip"
    }
   },
   "source": [
    "##### Test"
   ]
  },
  {
   "cell_type": "code",
   "execution_count": 17,
   "metadata": {
    "slideshow": {
     "slide_type": "skip"
    }
   },
   "outputs": [
    {
     "name": "stdout",
     "output_type": "stream",
     "text": [
      "<class 'pandas.core.frame.DataFrame'>\n",
      "Int64Index: 214994 entries, 0 to 219999\n",
      "Data columns (total 12 columns):\n",
      " #   Column         Non-Null Count   Dtype  \n",
      "---  ------         --------------   -----  \n",
      " 0   Year           214994 non-null  int64  \n",
      " 1   Month          214994 non-null  int64  \n",
      " 2   DayOfMonth     214994 non-null  int64  \n",
      " 3   DayOfWeek      214994 non-null  int64  \n",
      " 4   DepTime        214994 non-null  float64\n",
      " 5   CRSDepTime     214994 non-null  int64  \n",
      " 6   ArrTime        214994 non-null  float64\n",
      " 7   CRSArrTime     214994 non-null  int64  \n",
      " 8   UniqueCarrier  214994 non-null  object \n",
      " 9   ArrDelay       214994 non-null  float64\n",
      " 10  DepDelay       214994 non-null  float64\n",
      " 11  Distance       214994 non-null  float64\n",
      "dtypes: float64(5), int64(6), object(1)\n",
      "memory usage: 21.3+ MB\n"
     ]
    }
   ],
   "source": [
    "flights_sample.info()"
   ]
  },
  {
   "cell_type": "markdown",
   "metadata": {
    "slideshow": {
     "slide_type": "skip"
    }
   },
   "source": [
    "#### Erroneous datatypes (DepTime, CRSDepTime, ArrTime, CRSArrTime, ArrDelay, DepDelay)\n",
    "##### Define\n",
    "Change DepTime, CRSDepTime, ArrTime, CRSArrTime to string, ArrDelay and DepDelay to int.\n",
    "##### Code"
   ]
  },
  {
   "cell_type": "code",
   "execution_count": 18,
   "metadata": {
    "slideshow": {
     "slide_type": "skip"
    }
   },
   "outputs": [],
   "source": [
    "def format_change(columns):\n",
    "    ''' change column type to int'''\n",
    "    for c in columns:\n",
    "        flights_sample[c] = flights_sample[c].astype(int)\n",
    "        #flights_sample[c] = flights_sample[c].str.replace('\\.0', '', regex=True)\n",
    "        #flights_sample[c] = flights_sample[c].str.zfill(4)\n",
    "\n",
    "        #flights_sample[c] = flights_sample[c].apply(lambda x: \"{}:{}\".format(x[:2],x[2:]))"
   ]
  },
  {
   "cell_type": "code",
   "execution_count": 19,
   "metadata": {
    "scrolled": false,
    "slideshow": {
     "slide_type": "skip"
    }
   },
   "outputs": [],
   "source": [
    "columns = ['DepTime', 'CRSDepTime', 'ArrTime', 'CRSArrTime', 'ArrDelay', 'DepDelay']\n",
    "\n",
    "format_change(columns)"
   ]
  },
  {
   "cell_type": "markdown",
   "metadata": {
    "slideshow": {
     "slide_type": "skip"
    }
   },
   "source": [
    "##### Test"
   ]
  },
  {
   "cell_type": "code",
   "execution_count": 20,
   "metadata": {
    "slideshow": {
     "slide_type": "skip"
    }
   },
   "outputs": [
    {
     "name": "stdout",
     "output_type": "stream",
     "text": [
      "<class 'pandas.core.frame.DataFrame'>\n",
      "Int64Index: 214994 entries, 0 to 219999\n",
      "Data columns (total 12 columns):\n",
      " #   Column         Non-Null Count   Dtype  \n",
      "---  ------         --------------   -----  \n",
      " 0   Year           214994 non-null  int64  \n",
      " 1   Month          214994 non-null  int64  \n",
      " 2   DayOfMonth     214994 non-null  int64  \n",
      " 3   DayOfWeek      214994 non-null  int64  \n",
      " 4   DepTime        214994 non-null  int32  \n",
      " 5   CRSDepTime     214994 non-null  int32  \n",
      " 6   ArrTime        214994 non-null  int32  \n",
      " 7   CRSArrTime     214994 non-null  int32  \n",
      " 8   UniqueCarrier  214994 non-null  object \n",
      " 9   ArrDelay       214994 non-null  int32  \n",
      " 10  DepDelay       214994 non-null  int32  \n",
      " 11  Distance       214994 non-null  float64\n",
      "dtypes: float64(1), int32(6), int64(4), object(1)\n",
      "memory usage: 16.4+ MB\n"
     ]
    }
   ],
   "source": [
    "flights_sample.info()"
   ]
  },
  {
   "cell_type": "code",
   "execution_count": 21,
   "metadata": {
    "slideshow": {
     "slide_type": "skip"
    }
   },
   "outputs": [
    {
     "data": {
      "text/html": [
       "<div>\n",
       "<style scoped>\n",
       "    .dataframe tbody tr th:only-of-type {\n",
       "        vertical-align: middle;\n",
       "    }\n",
       "\n",
       "    .dataframe tbody tr th {\n",
       "        vertical-align: top;\n",
       "    }\n",
       "\n",
       "    .dataframe thead th {\n",
       "        text-align: right;\n",
       "    }\n",
       "</style>\n",
       "<table border=\"1\" class=\"dataframe\">\n",
       "  <thead>\n",
       "    <tr style=\"text-align: right;\">\n",
       "      <th></th>\n",
       "      <th>Year</th>\n",
       "      <th>Month</th>\n",
       "      <th>DayOfMonth</th>\n",
       "      <th>DayOfWeek</th>\n",
       "      <th>DepTime</th>\n",
       "      <th>CRSDepTime</th>\n",
       "      <th>ArrTime</th>\n",
       "      <th>CRSArrTime</th>\n",
       "      <th>UniqueCarrier</th>\n",
       "      <th>ArrDelay</th>\n",
       "      <th>DepDelay</th>\n",
       "      <th>Distance</th>\n",
       "    </tr>\n",
       "  </thead>\n",
       "  <tbody>\n",
       "    <tr>\n",
       "      <th>0</th>\n",
       "      <td>1987</td>\n",
       "      <td>12</td>\n",
       "      <td>2</td>\n",
       "      <td>3</td>\n",
       "      <td>1945</td>\n",
       "      <td>1945</td>\n",
       "      <td>2050</td>\n",
       "      <td>2045</td>\n",
       "      <td>NW</td>\n",
       "      <td>5</td>\n",
       "      <td>0</td>\n",
       "      <td>256.0</td>\n",
       "    </tr>\n",
       "    <tr>\n",
       "      <th>1</th>\n",
       "      <td>1987</td>\n",
       "      <td>11</td>\n",
       "      <td>23</td>\n",
       "      <td>1</td>\n",
       "      <td>1029</td>\n",
       "      <td>1030</td>\n",
       "      <td>1500</td>\n",
       "      <td>1527</td>\n",
       "      <td>CO</td>\n",
       "      <td>-27</td>\n",
       "      <td>-1</td>\n",
       "      <td>1123.0</td>\n",
       "    </tr>\n",
       "    <tr>\n",
       "      <th>2</th>\n",
       "      <td>1987</td>\n",
       "      <td>12</td>\n",
       "      <td>7</td>\n",
       "      <td>1</td>\n",
       "      <td>702</td>\n",
       "      <td>704</td>\n",
       "      <td>934</td>\n",
       "      <td>930</td>\n",
       "      <td>UA</td>\n",
       "      <td>4</td>\n",
       "      <td>-2</td>\n",
       "      <td>495.0</td>\n",
       "    </tr>\n",
       "    <tr>\n",
       "      <th>3</th>\n",
       "      <td>1987</td>\n",
       "      <td>10</td>\n",
       "      <td>8</td>\n",
       "      <td>4</td>\n",
       "      <td>629</td>\n",
       "      <td>630</td>\n",
       "      <td>945</td>\n",
       "      <td>948</td>\n",
       "      <td>UA</td>\n",
       "      <td>-3</td>\n",
       "      <td>-1</td>\n",
       "      <td>957.0</td>\n",
       "    </tr>\n",
       "    <tr>\n",
       "      <th>4</th>\n",
       "      <td>1987</td>\n",
       "      <td>10</td>\n",
       "      <td>26</td>\n",
       "      <td>1</td>\n",
       "      <td>715</td>\n",
       "      <td>715</td>\n",
       "      <td>747</td>\n",
       "      <td>750</td>\n",
       "      <td>HP</td>\n",
       "      <td>-3</td>\n",
       "      <td>0</td>\n",
       "      <td>110.0</td>\n",
       "    </tr>\n",
       "    <tr>\n",
       "      <th>5</th>\n",
       "      <td>1987</td>\n",
       "      <td>11</td>\n",
       "      <td>11</td>\n",
       "      <td>3</td>\n",
       "      <td>730</td>\n",
       "      <td>719</td>\n",
       "      <td>845</td>\n",
       "      <td>828</td>\n",
       "      <td>AA</td>\n",
       "      <td>17</td>\n",
       "      <td>11</td>\n",
       "      <td>328.0</td>\n",
       "    </tr>\n",
       "    <tr>\n",
       "      <th>6</th>\n",
       "      <td>1987</td>\n",
       "      <td>11</td>\n",
       "      <td>3</td>\n",
       "      <td>2</td>\n",
       "      <td>1800</td>\n",
       "      <td>1800</td>\n",
       "      <td>1934</td>\n",
       "      <td>1918</td>\n",
       "      <td>AA</td>\n",
       "      <td>16</td>\n",
       "      <td>0</td>\n",
       "      <td>337.0</td>\n",
       "    </tr>\n",
       "    <tr>\n",
       "      <th>7</th>\n",
       "      <td>1987</td>\n",
       "      <td>11</td>\n",
       "      <td>4</td>\n",
       "      <td>3</td>\n",
       "      <td>1234</td>\n",
       "      <td>1234</td>\n",
       "      <td>1329</td>\n",
       "      <td>1338</td>\n",
       "      <td>EA</td>\n",
       "      <td>-9</td>\n",
       "      <td>0</td>\n",
       "      <td>270.0</td>\n",
       "    </tr>\n",
       "    <tr>\n",
       "      <th>8</th>\n",
       "      <td>1987</td>\n",
       "      <td>10</td>\n",
       "      <td>16</td>\n",
       "      <td>5</td>\n",
       "      <td>1626</td>\n",
       "      <td>1628</td>\n",
       "      <td>1653</td>\n",
       "      <td>1654</td>\n",
       "      <td>UA</td>\n",
       "      <td>-1</td>\n",
       "      <td>-2</td>\n",
       "      <td>74.0</td>\n",
       "    </tr>\n",
       "    <tr>\n",
       "      <th>9</th>\n",
       "      <td>1987</td>\n",
       "      <td>10</td>\n",
       "      <td>5</td>\n",
       "      <td>1</td>\n",
       "      <td>2137</td>\n",
       "      <td>2135</td>\n",
       "      <td>2221</td>\n",
       "      <td>2220</td>\n",
       "      <td>US</td>\n",
       "      <td>1</td>\n",
       "      <td>2</td>\n",
       "      <td>164.0</td>\n",
       "    </tr>\n",
       "  </tbody>\n",
       "</table>\n",
       "</div>"
      ],
      "text/plain": [
       "   Year  Month  DayOfMonth  DayOfWeek  DepTime  CRSDepTime  ArrTime  \\\n",
       "0  1987     12           2          3     1945        1945     2050   \n",
       "1  1987     11          23          1     1029        1030     1500   \n",
       "2  1987     12           7          1      702         704      934   \n",
       "3  1987     10           8          4      629         630      945   \n",
       "4  1987     10          26          1      715         715      747   \n",
       "5  1987     11          11          3      730         719      845   \n",
       "6  1987     11           3          2     1800        1800     1934   \n",
       "7  1987     11           4          3     1234        1234     1329   \n",
       "8  1987     10          16          5     1626        1628     1653   \n",
       "9  1987     10           5          1     2137        2135     2221   \n",
       "\n",
       "   CRSArrTime UniqueCarrier  ArrDelay  DepDelay  Distance  \n",
       "0        2045            NW         5         0     256.0  \n",
       "1        1527            CO       -27        -1    1123.0  \n",
       "2         930            UA         4        -2     495.0  \n",
       "3         948            UA        -3        -1     957.0  \n",
       "4         750            HP        -3         0     110.0  \n",
       "5         828            AA        17        11     328.0  \n",
       "6        1918            AA        16         0     337.0  \n",
       "7        1338            EA        -9         0     270.0  \n",
       "8        1654            UA        -1        -2      74.0  \n",
       "9        2220            US         1         2     164.0  "
      ]
     },
     "execution_count": 21,
     "metadata": {},
     "output_type": "execute_result"
    }
   ],
   "source": [
    "flights_sample.head(10)"
   ]
  },
  {
   "cell_type": "code",
   "execution_count": 22,
   "metadata": {
    "slideshow": {
     "slide_type": "skip"
    }
   },
   "outputs": [],
   "source": [
    "flights_sample.to_csv('flights_sample.csv', index=False)"
   ]
  },
  {
   "cell_type": "code",
   "execution_count": 23,
   "metadata": {
    "slideshow": {
     "slide_type": "skip"
    }
   },
   "outputs": [
    {
     "data": {
      "text/html": [
       "<div>\n",
       "<style scoped>\n",
       "    .dataframe tbody tr th:only-of-type {\n",
       "        vertical-align: middle;\n",
       "    }\n",
       "\n",
       "    .dataframe tbody tr th {\n",
       "        vertical-align: top;\n",
       "    }\n",
       "\n",
       "    .dataframe thead th {\n",
       "        text-align: right;\n",
       "    }\n",
       "</style>\n",
       "<table border=\"1\" class=\"dataframe\">\n",
       "  <thead>\n",
       "    <tr style=\"text-align: right;\">\n",
       "      <th></th>\n",
       "      <th>Year</th>\n",
       "      <th>Month</th>\n",
       "      <th>DayOfMonth</th>\n",
       "      <th>DayOfWeek</th>\n",
       "      <th>DepTime</th>\n",
       "      <th>CRSDepTime</th>\n",
       "      <th>ArrTime</th>\n",
       "      <th>CRSArrTime</th>\n",
       "      <th>UniqueCarrier</th>\n",
       "      <th>ArrDelay</th>\n",
       "      <th>DepDelay</th>\n",
       "      <th>Distance</th>\n",
       "    </tr>\n",
       "  </thead>\n",
       "  <tbody>\n",
       "    <tr>\n",
       "      <th>0</th>\n",
       "      <td>1987</td>\n",
       "      <td>12</td>\n",
       "      <td>2</td>\n",
       "      <td>3</td>\n",
       "      <td>1945</td>\n",
       "      <td>1945</td>\n",
       "      <td>2050</td>\n",
       "      <td>2045</td>\n",
       "      <td>NW</td>\n",
       "      <td>5</td>\n",
       "      <td>0</td>\n",
       "      <td>256.0</td>\n",
       "    </tr>\n",
       "    <tr>\n",
       "      <th>1</th>\n",
       "      <td>1987</td>\n",
       "      <td>11</td>\n",
       "      <td>23</td>\n",
       "      <td>1</td>\n",
       "      <td>1029</td>\n",
       "      <td>1030</td>\n",
       "      <td>1500</td>\n",
       "      <td>1527</td>\n",
       "      <td>CO</td>\n",
       "      <td>-27</td>\n",
       "      <td>-1</td>\n",
       "      <td>1123.0</td>\n",
       "    </tr>\n",
       "    <tr>\n",
       "      <th>2</th>\n",
       "      <td>1987</td>\n",
       "      <td>12</td>\n",
       "      <td>7</td>\n",
       "      <td>1</td>\n",
       "      <td>702</td>\n",
       "      <td>704</td>\n",
       "      <td>934</td>\n",
       "      <td>930</td>\n",
       "      <td>UA</td>\n",
       "      <td>4</td>\n",
       "      <td>-2</td>\n",
       "      <td>495.0</td>\n",
       "    </tr>\n",
       "    <tr>\n",
       "      <th>3</th>\n",
       "      <td>1987</td>\n",
       "      <td>10</td>\n",
       "      <td>8</td>\n",
       "      <td>4</td>\n",
       "      <td>629</td>\n",
       "      <td>630</td>\n",
       "      <td>945</td>\n",
       "      <td>948</td>\n",
       "      <td>UA</td>\n",
       "      <td>-3</td>\n",
       "      <td>-1</td>\n",
       "      <td>957.0</td>\n",
       "    </tr>\n",
       "    <tr>\n",
       "      <th>4</th>\n",
       "      <td>1987</td>\n",
       "      <td>10</td>\n",
       "      <td>26</td>\n",
       "      <td>1</td>\n",
       "      <td>715</td>\n",
       "      <td>715</td>\n",
       "      <td>747</td>\n",
       "      <td>750</td>\n",
       "      <td>HP</td>\n",
       "      <td>-3</td>\n",
       "      <td>0</td>\n",
       "      <td>110.0</td>\n",
       "    </tr>\n",
       "  </tbody>\n",
       "</table>\n",
       "</div>"
      ],
      "text/plain": [
       "   Year  Month  DayOfMonth  DayOfWeek  DepTime  CRSDepTime  ArrTime  \\\n",
       "0  1987     12           2          3     1945        1945     2050   \n",
       "1  1987     11          23          1     1029        1030     1500   \n",
       "2  1987     12           7          1      702         704      934   \n",
       "3  1987     10           8          4      629         630      945   \n",
       "4  1987     10          26          1      715         715      747   \n",
       "\n",
       "   CRSArrTime UniqueCarrier  ArrDelay  DepDelay  Distance  \n",
       "0        2045            NW         5         0     256.0  \n",
       "1        1527            CO       -27        -1    1123.0  \n",
       "2         930            UA         4        -2     495.0  \n",
       "3         948            UA        -3        -1     957.0  \n",
       "4         750            HP        -3         0     110.0  "
      ]
     },
     "execution_count": 23,
     "metadata": {},
     "output_type": "execute_result"
    }
   ],
   "source": [
    "flights_sample = pd.read_csv('flights_sample.csv')\n",
    "flights_sample.head()"
   ]
  },
  {
   "cell_type": "code",
   "execution_count": 24,
   "metadata": {
    "slideshow": {
     "slide_type": "skip"
    }
   },
   "outputs": [
    {
     "name": "stdout",
     "output_type": "stream",
     "text": [
      "<class 'pandas.core.frame.DataFrame'>\n",
      "RangeIndex: 214994 entries, 0 to 214993\n",
      "Data columns (total 12 columns):\n",
      " #   Column         Non-Null Count   Dtype  \n",
      "---  ------         --------------   -----  \n",
      " 0   Year           214994 non-null  int64  \n",
      " 1   Month          214994 non-null  int64  \n",
      " 2   DayOfMonth     214994 non-null  int64  \n",
      " 3   DayOfWeek      214994 non-null  int64  \n",
      " 4   DepTime        214994 non-null  int64  \n",
      " 5   CRSDepTime     214994 non-null  int64  \n",
      " 6   ArrTime        214994 non-null  int64  \n",
      " 7   CRSArrTime     214994 non-null  int64  \n",
      " 8   UniqueCarrier  214994 non-null  object \n",
      " 9   ArrDelay       214994 non-null  int64  \n",
      " 10  DepDelay       214994 non-null  int64  \n",
      " 11  Distance       214994 non-null  float64\n",
      "dtypes: float64(1), int64(10), object(1)\n",
      "memory usage: 19.7+ MB\n"
     ]
    }
   ],
   "source": [
    "flights_sample.info()"
   ]
  },
  {
   "cell_type": "code",
   "execution_count": 25,
   "metadata": {
    "slideshow": {
     "slide_type": "skip"
    }
   },
   "outputs": [],
   "source": [
    "# decide if a trip is short/medium/long\n",
    "conditions = [\n",
    "    (flights_sample['Distance'] <700),\n",
    "    (flights_sample['Distance'] >= 700) & (flights_sample['Distance'] < 3000),\n",
    "    (flights_sample['Distance'] >= 3000)\n",
    "]\n",
    "\n",
    "hauls = ['Short', 'Medium', 'Long']\n",
    "\n",
    "flights_sample['Haul'] = np.select(conditions, hauls)"
   ]
  },
  {
   "cell_type": "code",
   "execution_count": 26,
   "metadata": {
    "slideshow": {
     "slide_type": "skip"
    }
   },
   "outputs": [],
   "source": [
    "# make a column to indicate if arrival is on-time \n",
    "flights_sample['ArrOnTime'] = flights_sample['ArrDelay'] <= 0"
   ]
  },
  {
   "cell_type": "markdown",
   "metadata": {
    "slideshow": {
     "slide_type": "slide"
    }
   },
   "source": [
    "### Distributuion of Delayed Arrival Flights vs On-Time Arrival Flights\n",
    "\n",
    "There are slightly more on-time arrival flights than delayed ones - 51.4% of all the flights taken between 1987 and 2008 were on time."
   ]
  },
  {
   "cell_type": "code",
   "execution_count": 27,
   "metadata": {
    "scrolled": false,
    "slideshow": {
     "slide_type": "subslide"
    }
   },
   "outputs": [
    {
     "data": {
      "image/png": "[encoded data removed]",
      "text/plain": [
       "<Figure size 432x432 with 1 Axes>"
      ]
     },
     "metadata": {
      "needs_background": "light"
     },
     "output_type": "display_data"
    }
   ],
   "source": [
    "base_color = sb.color_palette()[0]\n",
    "plt.figure(figsize=[6, 6])\n",
    "\n",
    "ax = sb.countplot(data=flights_sample, x='ArrOnTime', color=base_color)\n",
    "plt.xticks([False, True], ['Delayed', 'On-time'])\n",
    "plt.xlabel('Arrivals')\n",
    "plt.ylabel('Amount of Flights')\n",
    "plt.yticks([0, 2e4, 4e4, 6e4, 8e4, 1e5], ['0', '20k', '40k', '60k', '80k', '100k'])\n",
    "\n",
    "plt.title('Delayed Arrival Counts vs On-Time Arrival Counts')\n",
    "\n",
    "total = flights_sample.shape[0]\n",
    "\n",
    "for p in ax.patches:\n",
    "    percentage = '{:.1f}%'.format(100 * p.get_height()/total)\n",
    "    x = p.get_x() + p.get_width()/2.7\n",
    "    y = p.get_y() + p.get_height()/1.1\n",
    "    ax.annotate(percentage, (x, y), size=12, color='white')\n",
    "\n",
    "plt.show();"
   ]
  },
  {
   "cell_type": "code",
   "execution_count": 28,
   "metadata": {
    "slideshow": {
     "slide_type": "skip"
    }
   },
   "outputs": [],
   "source": [
    "# convert numbers 1-24 into strings\n",
    "def make_hour_string():\n",
    "    ''' convert numbers 1-24 into strings '''\n",
    "    hours = []\n",
    "    for i in np.arange(24):\n",
    "        if i < 10:\n",
    "            hours.append('0' + str(i) + \":00\")\n",
    "        else:\n",
    "            hours.append(str(i) + \":00\")\n",
    "    return hours"
   ]
  },
  {
   "cell_type": "markdown",
   "metadata": {
    "slideshow": {
     "slide_type": "slide"
    }
   },
   "source": [
    "### Distribution of Flights Over a Day\n",
    "There is only a few flights between 1 AM and 5 AM, and most of the flights happen between 6 AM and 10 PM, with one peak at around 8 AM, one peak at around 1 PM, and another peak at around 5 PM."
   ]
  },
  {
   "cell_type": "code",
   "execution_count": 29,
   "metadata": {
    "scrolled": false,
    "slideshow": {
     "slide_type": "subslide"
    }
   },
   "outputs": [
    {
     "data": {
      "image/png": "[encoded data removed]",
      "text/plain": [
       "<Figure size 576x432 with 1 Axes>"
      ]
     },
     "metadata": {
      "needs_background": "light"
     },
     "output_type": "display_data"
    }
   ],
   "source": [
    "# distribution of scheduled departure time for flights\n",
    "bins = np.arange(0, 2400, 100)\n",
    "hours = make_hour_string()\n",
    "\n",
    "plt.figure(figsize=[8, 6])\n",
    "plt.hist(data=flights_sample, x='CRSDepTime', bins=bins, color=base_color)\n",
    "plt.xticks(bins, hours)\n",
    "plt.xlabel('Scheduled Departure Time (hh:mm)')\n",
    "plt.ylabel('Amount of Flights')\n",
    "plt.title('Amount of Flights Scheduled at Different Times of the Day')\n",
    "plt.xticks(rotation=90);"
   ]
  },
  {
   "cell_type": "markdown",
   "metadata": {
    "slideshow": {
     "slide_type": "slide"
    }
   },
   "source": [
    "### Distribution of Flights among Different Flight Carriers\n",
    "\n",
    "The most popular airline is DL (Delta Air Lines), the second most popular airline is WN (Southwest). Other popular airlines include AA (American Airlines), US (US Airways), UA (United Airlines), NW (Northwest Airways) and CO (Continental Airlines)."
   ]
  },
  {
   "cell_type": "code",
   "execution_count": 30,
   "metadata": {
    "slideshow": {
     "slide_type": "subslide"
    }
   },
   "outputs": [
    {
     "data": {
      "image/png": "[encoded data removed]",
      "text/plain": [
       "<Figure size 576x432 with 1 Axes>"
      ]
     },
     "metadata": {
      "needs_background": "light"
     },
     "output_type": "display_data"
    }
   ],
   "source": [
    "plt.figure(figsize=[8, 6])\n",
    "sb.countplot(data=flights_sample, y='UniqueCarrier', color=base_color, \n",
    "             order=flights_sample['UniqueCarrier'].value_counts().index)\n",
    "plt.xlabel('Amount of Flights')\n",
    "plt.ylabel('Carrier')\n",
    "plt.title('Distribution of Flights between Carriers');"
   ]
  },
  {
   "cell_type": "markdown",
   "metadata": {
    "slideshow": {
     "slide_type": "slide"
    }
   },
   "source": [
    "### Scheduled Departure Time vs Arrival\n",
    "The violin plot reveals much more than the earlier box plot. It suggests that about 25% of the on-time arrival flights happen in the morning before 9 AM scheduled departure, and 50% before 12:30 PM schedueld departure, while 25% of delayed arrival flights happen before 10 AM and 50% before 2 PM."
   ]
  },
  {
   "cell_type": "code",
   "execution_count": 31,
   "metadata": {
    "slideshow": {
     "slide_type": "subslide"
    }
   },
   "outputs": [
    {
     "data": {
      "image/png": "[encoded data removed]",
      "text/plain": [
       "<Figure size 576x288 with 1 Axes>"
      ]
     },
     "metadata": {
      "needs_background": "light"
     },
     "output_type": "display_data"
    }
   ],
   "source": [
    "bins = np.arange(0, 2400, 100)\n",
    "hours = make_hour_string()\n",
    "\n",
    "plt.figure(figsize=[8, 4])\n",
    "sb.violinplot(data=flights_sample, y='ArrOnTime', x='CRSDepTime', orient='h', color=base_color, inner='quartile')\n",
    "plt.xticks(bins, hours)\n",
    "plt.xlabel('Scheduled Departure Time (hh:mm)')\n",
    "plt.yticks([False, True], ['Delayed', 'On-Time'])\n",
    "plt.ylabel('Arrival')\n",
    "plt.title('Arrival Status of Flights on Different Scheduled Departure Time of Day')\n",
    "plt.xticks(rotation=90);"
   ]
  },
  {
   "cell_type": "code",
   "execution_count": 32,
   "metadata": {
    "slideshow": {
     "slide_type": "skip"
    }
   },
   "outputs": [],
   "source": [
    "def show_percentage(plot, feature, num_of_cat, hue_cat, ax, size):\n",
    "    ''' show percentage on top of bar'''\n",
    "    height = [p.get_height() for p in plot.patches]\n",
    "    patch = [p for p in plot.patches]\n",
    "    \n",
    "    for i in range(num_of_cat):\n",
    "        total = feature.value_counts().sort_index(ascending=True).values[i]\n",
    "        for j in range(hue_cat):\n",
    "            percentage = '{:.1f}%'.format(100 * height[(j * num_of_cat + i)] / total)\n",
    "            x = patch[(j * num_of_cat + i)].get_x() + patch[(j * num_of_cat + i)].get_width() / 2 - 0.17\n",
    "            y = patch[(j * num_of_cat + i)].get_y() + patch[(j * num_of_cat + i)].get_height()/2\n",
    "            ax.annotate(percentage, (x, y), size=size)"
   ]
  },
  {
   "cell_type": "markdown",
   "metadata": {
    "slideshow": {
     "slide_type": "slide"
    }
   },
   "source": [
    "### Arrival vs Day of Week/Month/Day of Month/Year\n",
    "\n",
    "Thursday and Friday are having the least on-time arrival flights while having about the similar amount of total flights as the other weekdays. Weekends have less flights in general, but both of the days are having the highest on-time arrival rates. Between all the months, September has the highest rate for on-time arrivals (58.6%), December has the lowest on-time arrivals rate (44.2%) while being one of the most popular months to travel. Most of the months have more than 50% on-time arrival rate except for Jun (49.7%) and December (44.2%). For individual days of the month, we can see that only the 15th, 16th, 19th, 21st, 22nd and 23rd are having more flight delays than on-times. Overall, flights seem to be more on-time than delayed at the beginning of the month as well as at the end of the month. Between 1987 and 2008, the on-time arrival rate of flights has increased drastically, from 40% on-time arrival rate in 1987 to about 58% on-time arrival rate in 2008. We should be able to expect the on-time arrival rate to only get higher and higher from now on."
   ]
  },
  {
   "cell_type": "code",
   "execution_count": 33,
   "metadata": {
    "slideshow": {
     "slide_type": "subslide"
    }
   },
   "outputs": [
    {
     "data": {
      "image/png": "[encoded data removed]",
      "text/plain": [
       "<Figure size 1080x720 with 4 Axes>"
      ]
     },
     "metadata": {
      "needs_background": "light"
     },
     "output_type": "display_data"
    }
   ],
   "source": [
    "fig, ax = plt.subplots(nrows = 4, figsize = [15,10])\n",
    "\n",
    "g1 = sb.countplot(data=flights_sample, x='DayOfWeek', hue = 'ArrOnTime', ax=ax[0])\n",
    "ax[0].set_xticks(np.arange(0, 7, 1))\n",
    "ax[0].set_xticklabels(['Monday', 'Tuesday', 'Wednesday', 'Thursday', 'Friday', 'Saturday', 'Sunday'])\n",
    "ax[0].set_xlabel('Day of Week')\n",
    "ax[0].set_ylabel('Amount of Flights')\n",
    "ax[0].get_legend().remove()\n",
    "show_percentage(g1, flights_sample['DayOfWeek'], 7, 2, ax[0], 12)\n",
    "\n",
    "g2 = sb.countplot(data=flights_sample, x='Month', hue = 'ArrOnTime', ax=ax[1])\n",
    "ax[1].set_xticks(np.arange(0,12,1))\n",
    "ax[1].set_xticklabels(['Jan', 'Feb', 'Mar', 'Apr', 'May', 'Jun', 'Jul', 'Aug', 'Sep', 'Oct', 'Nov', 'Dec'])\n",
    "ax[1].set_xlabel('Month')\n",
    "ax[1].set_ylabel('Amount of Flights')\n",
    "ax[1].get_legend().remove()\n",
    "show_percentage(g2, flights_sample['Month'], 12, 2, ax[1], 8)\n",
    "\n",
    "sb.countplot(data=flights_sample, x='DayOfMonth', hue = 'ArrOnTime', ax=ax[2])\n",
    "ax[2].set_xlabel('Day of Month')\n",
    "ax[2].set_ylabel('Amount of Flights')\n",
    "ax[2].get_legend().remove()\n",
    "\n",
    "sb.countplot(data=flights_sample, x='Year', hue = 'ArrOnTime', ax=ax[3])\n",
    "ax[3].set_xlabel('Year')\n",
    "ax[3].set_ylabel('Amount of Flights')\n",
    "ax[3].get_legend().remove()\n",
    "\n",
    "fig.suptitle('Amount of Delayed and On-Time Flights Comparison on Days of Week/Month/Days of Month/Year')\n",
    "fig.legend(bbox_to_anchor=(1.03, 0.87), labels = ['Delayed Arrival', 'On-Time Arrival']);"
   ]
  },
  {
   "cell_type": "markdown",
   "metadata": {
    "slideshow": {
     "slide_type": "slide"
    }
   },
   "source": [
    "### Delayed vs On-Time Arrivals for Different Carriers\n",
    "\n",
    "For the main airline companies in the United States, DL (Delta Air Lines) operates the most flights in the countries, but its on-time arrival rate does not seem as impressive as the amount of flights its operates. WN (Southwest Airlines) operates the second most flights, while having the most on-time arrival flights between 1987 and 2008. "
   ]
  },
  {
   "cell_type": "code",
   "execution_count": 34,
   "metadata": {
    "slideshow": {
     "slide_type": "subslide"
    }
   },
   "outputs": [
    {
     "data": {
      "image/png": "[encoded data removed]",
      "text/plain": [
       "<Figure size 1008x576 with 1 Axes>"
      ]
     },
     "metadata": {
      "needs_background": "light"
     },
     "output_type": "display_data"
    }
   ],
   "source": [
    "plt.figure(figsize=[14, 8])\n",
    "ax = sb.countplot(data=flights_sample, y='UniqueCarrier', hue = 'ArrOnTime', \n",
    "             order=flights_sample['UniqueCarrier'].value_counts().index)\n",
    "plt.ylabel('Flight Carriers')\n",
    "plt.xlabel('Amount of Flights')\n",
    "plt.title('Delayed vs On-Time Arrivals for Different Carriers')\n",
    "ax.legend(labels = ['Delayed Arrival', 'On-Time Arrival']);"
   ]
  },
  {
   "cell_type": "markdown",
   "metadata": {
    "slideshow": {
     "slide_type": "slide"
    }
   },
   "source": [
    "### Delayed vs On-Time Arrivals based on Day of Week and Scheduled Departure Time\n",
    "\n",
    "On-time arrival flights usually departs earlier, no matter what day of the week we are flying. Interestingly, for Friday, the first quartile lies around 8:30 AM departures, and second quartile lies around 12:30 PM, much earlier than all the other days of the week."
   ]
  },
  {
   "cell_type": "code",
   "execution_count": 35,
   "metadata": {
    "slideshow": {
     "slide_type": "subslide"
    }
   },
   "outputs": [
    {
     "data": {
      "image/png": "[encoded data removed]",
      "text/plain": [
       "<Figure size 864x576 with 1 Axes>"
      ]
     },
     "metadata": {
      "needs_background": "light"
     },
     "output_type": "display_data"
    }
   ],
   "source": [
    "sb.catplot(data=flights_sample, y='DayOfWeek', x='CRSDepTime', hue='ArrOnTime', \n",
    "           orient='h', split=True, color=base_color, kind='violin', \n",
    "           inner='quartile', legend=False, height=8, aspect=1.5)\n",
    "\n",
    "plt.xticks(np.arange(0, 2400, 100), hours)\n",
    "plt.xlabel('Scheduled Departure Time (hh:mm)')\n",
    "plt.xticks(rotation=90)\n",
    "plt.ylabel('Day of Week')\n",
    "plt.yticks(np.arange(0, 7, 1), ['Monday', 'Tuesday', 'Wednesday', 'Thursday', 'Friday', 'Saturday', 'Sunday'])\n",
    "\n",
    "plt.title('Delayed vs On-Time Arrivals based on Days of Week and Scheduled Departure Time')\n",
    "plt.legend(bbox_to_anchor=(1.15, 1), labels = ['Delayed Arrival', 'On-Time Arrival']);"
   ]
  },
  {
   "cell_type": "code",
   "execution_count": 36,
   "metadata": {
    "scrolled": false,
    "slideshow": {
     "slide_type": "skip"
    }
   },
   "outputs": [],
   "source": [
    "# choose carriers with more than 10,000 entries for the 22 years\n",
    "carriers = ['DL', 'WN', 'AA', 'US', 'UA', 'NW', 'CO']\n",
    "flights_sample_sub = flights_sample.loc[flights_sample['UniqueCarrier'].isin(carriers)]\n",
    "\n",
    "df_week = flights_sample_sub.groupby(['DayOfWeek','UniqueCarrier']).agg({'ArrOnTime': 'sum'})\n",
    "df_week['TotalFlights'] = flights_sample_sub.groupby(['DayOfWeek','UniqueCarrier'])['ArrOnTime'].count()\n",
    "df_week['Percentage'] = df_week['ArrOnTime']/df_week['TotalFlights']\n",
    "df_week = df_week.reset_index()"
   ]
  },
  {
   "cell_type": "markdown",
   "metadata": {
    "slideshow": {
     "slide_type": "slide"
    }
   },
   "source": [
    "### On-Time Arrival Rates for Different Carriers between Each Day of the Week\n",
    "\n",
    "DL (Delta Air Lines) has the lowest on-time rate for all the days of the week. WN (Southwest Airlines) does an excellent job on Mondays, Tuesdays and Wednesdays - it has 5% more than the second place carrier on on-time arrial rate. It also performs well on Saturday. On Fridays and Sundays, NW (Northwest Airways) has the highest on-time arrival rate. "
   ]
  },
  {
   "cell_type": "code",
   "execution_count": 37,
   "metadata": {
    "scrolled": false,
    "slideshow": {
     "slide_type": "subslide"
    }
   },
   "outputs": [
    {
     "data": {
      "image/png": "[encoded data removed]",
      "text/plain": [
       "<Figure size 1008x576 with 1 Axes>"
      ]
     },
     "metadata": {
      "needs_background": "light"
     },
     "output_type": "display_data"
    }
   ],
   "source": [
    "plt.figure(figsize=[14, 8])\n",
    "ax=sb.barplot(data=df_week, x='DayOfWeek', y='Percentage', hue='UniqueCarrier')\n",
    "\n",
    "vals = ax.get_yticks()\n",
    "plt.xticks(np.arange(0, 7, 1), ['Monday', 'Tuesday', 'Wednesday', 'Thursday', 'Friday', 'Saturday', 'Sunday'])\n",
    "plt.yticks(np.arange(0, 0.8, .1), ['{:.0%}'.format(x) for x in vals])\n",
    "\n",
    "plt.xlabel('Day of Week')\n",
    "plt.ylabel('On-Time Rate')\n",
    "plt.title('On-Time Arrival Rates for Different Carriers between Each Day of the Week')\n",
    "plt.legend(bbox_to_anchor=(1.1, 1));"
   ]
  },
  {
   "cell_type": "code",
   "execution_count": 38,
   "metadata": {
    "slideshow": {
     "slide_type": "skip"
    }
   },
   "outputs": [],
   "source": [
    "# choose carriers with more than 10,000 entries for the 22 years\n",
    "df_year = flights_sample_sub.groupby(['Year','UniqueCarrier']).agg({'ArrOnTime': 'sum'})\n",
    "df_year['TotalFlights'] = flights_sample_sub.groupby(['Year','UniqueCarrier'])['ArrOnTime'].count()\n",
    "df_year['Percentage'] = df_year['ArrOnTime']/df_year['TotalFlights']\n",
    "df_year = df_year.reset_index()"
   ]
  },
  {
   "cell_type": "markdown",
   "metadata": {
    "slideshow": {
     "slide_type": "slide"
    }
   },
   "source": [
    "### On-Time Arrival Rates for Different Carriers between 1987 and 2008\n",
    "\n",
    "The on-time rate improved a lot for all the carriers overall! Especially for DL (Delta Air Lines) who went from about 21% in 1987 to 52% in 2008. Combined with the earlier investgations, I believe one of the reasons that DL (Delta Air Lines) has the worst on-time rate might be because we are also factoring data from the old years.\n",
    "\n",
    "It is also interesting to see the distribution of on-time rate. One peak is around 1992, and the other peak is around 2002 and 2003, and another peak at 2008."
   ]
  },
  {
   "cell_type": "code",
   "execution_count": 39,
   "metadata": {
    "slideshow": {
     "slide_type": "subslide"
    }
   },
   "outputs": [
    {
     "data": {
      "image/png": "[encoded data removed]",
      "text/plain": [
       "<Figure size 1008x576 with 1 Axes>"
      ]
     },
     "metadata": {
      "needs_background": "light"
     },
     "output_type": "display_data"
    }
   ],
   "source": [
    "plt.figure(figsize=[14, 8])\n",
    "sb.barplot(data=df_year, x='Year', y='Percentage', hue='UniqueCarrier')\n",
    "\n",
    "plt.yticks(np.arange(0, 0.8, .1), ['{:.0%}'.format(x) for x in vals])\n",
    "\n",
    "plt.xlabel('Year')\n",
    "plt.ylabel('On-Time Rate')\n",
    "plt.title('On-Time Arrival Rates for Different Carriers between 1987 and 2008')\n",
    "plt.legend(bbox_to_anchor=(1.1, 1));"
   ]
  },
  {
   "cell_type": "code",
   "execution_count": null,
   "metadata": {
    "slideshow": {
     "slide_type": "skip"
    }
   },
   "outputs": [],
   "source": [
    "!jupyter nbconvert flights_study_slides.ipynb --to slides --post serve  --no-input --no-prompt"
   ]
  },
  {
   "cell_type": "code",
   "execution_count": null,
   "metadata": {},
   "outputs": [],
   "source": []
  }
 ],
 "metadata": {
  "celltoolbar": "Slideshow",
  "kernelspec": {
   "display_name": "Python 3",
   "language": "python",
   "name": "python3"
  },
  "language_info": {
   "codemirror_mode": {
    "name": "ipython",
    "version": 3
   },
   "file_extension": ".py",
   "mimetype": "text/x-python",
   "name": "python",
   "nbconvert_exporter": "python",
   "pygments_lexer": "ipython3",
   "version": "3.8.8"
  }
 },
 "nbformat": 4,
 "nbformat_minor": 2
}
